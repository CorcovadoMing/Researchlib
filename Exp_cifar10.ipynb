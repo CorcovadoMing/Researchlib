{
 "cells": [
  {
   "cell_type": "code",
   "execution_count": 1,
   "metadata": {},
   "outputs": [],
   "source": [
    "%load_ext autoreload\n",
    "%autoreload 2"
   ]
  },
  {
   "cell_type": "code",
   "execution_count": 2,
   "metadata": {},
   "outputs": [],
   "source": [
    "from researchlib.single_import import *"
   ]
  },
  {
   "cell_type": "code",
   "execution_count": 3,
   "metadata": {},
   "outputs": [
    {
     "name": "stdout",
     "output_type": "stream",
     "text": [
      "Files already downloaded and verified\n",
      "Files already downloaded and verified\n"
     ]
    }
   ],
   "source": [
    "ctf = [transforms.RandomCrop(32, padding=4), transforms.RandomHorizontalFlip()]\n",
    "\n",
    "# Load dataset\n",
    "train_loader = FromPublic('cifar10', 'train', batch_size=512, num_workers=4, custom_tf=ctf)\n",
    "test_loader = FromPublic('cifar10', 'test', batch_size=512, num_workers=4)"
   ]
  },
  {
   "cell_type": "code",
   "execution_count": 4,
   "metadata": {},
   "outputs": [],
   "source": [
    "# Model\n",
    "model = SENet18(input_dim=3)\n",
    "\n",
    "# Learning\n",
    "runner = Runner(model, train_loader, test_loader, optimizer='adam', loss_fn='focal')"
   ]
  },
  {
   "cell_type": "code",
   "execution_count": 26,
   "metadata": {},
   "outputs": [
    {
     "name": "stdout",
     "output_type": "stream",
     "text": [
      "----------------------------------------------------------------\n",
      "        Layer (type)               Output Shape         Param #\n",
      "================================================================\n",
      "            Conv2d-1           [-1, 64, 32, 32]           1,728\n",
      "       BatchNorm2d-2           [-1, 64, 32, 32]             128\n",
      "       BatchNorm2d-3           [-1, 64, 32, 32]             128\n",
      "            Conv2d-4           [-1, 64, 32, 32]          36,864\n",
      "       BatchNorm2d-5           [-1, 64, 32, 32]             128\n",
      "            Conv2d-6           [-1, 64, 32, 32]          36,864\n",
      "            Conv2d-7              [-1, 4, 1, 1]             260\n",
      "            Conv2d-8             [-1, 64, 1, 1]             320\n",
      "       PreActBlock-9           [-1, 64, 32, 32]               0\n",
      "      BatchNorm2d-10           [-1, 64, 32, 32]             128\n",
      "           Conv2d-11           [-1, 64, 32, 32]          36,864\n",
      "      BatchNorm2d-12           [-1, 64, 32, 32]             128\n",
      "           Conv2d-13           [-1, 64, 32, 32]          36,864\n",
      "           Conv2d-14              [-1, 4, 1, 1]             260\n",
      "           Conv2d-15             [-1, 64, 1, 1]             320\n",
      "      PreActBlock-16           [-1, 64, 32, 32]               0\n",
      "      BatchNorm2d-17           [-1, 64, 32, 32]             128\n",
      "           Conv2d-18          [-1, 128, 16, 16]           8,192\n",
      "           Conv2d-19          [-1, 128, 16, 16]          73,728\n",
      "      BatchNorm2d-20          [-1, 128, 16, 16]             256\n",
      "           Conv2d-21          [-1, 128, 16, 16]         147,456\n",
      "           Conv2d-22              [-1, 8, 1, 1]           1,032\n",
      "           Conv2d-23            [-1, 128, 1, 1]           1,152\n",
      "      PreActBlock-24          [-1, 128, 16, 16]               0\n",
      "      BatchNorm2d-25          [-1, 128, 16, 16]             256\n",
      "           Conv2d-26          [-1, 128, 16, 16]         147,456\n",
      "      BatchNorm2d-27          [-1, 128, 16, 16]             256\n",
      "           Conv2d-28          [-1, 128, 16, 16]         147,456\n",
      "           Conv2d-29              [-1, 8, 1, 1]           1,032\n",
      "           Conv2d-30            [-1, 128, 1, 1]           1,152\n",
      "      PreActBlock-31          [-1, 128, 16, 16]               0\n",
      "      BatchNorm2d-32          [-1, 128, 16, 16]             256\n",
      "           Conv2d-33            [-1, 256, 8, 8]          32,768\n",
      "           Conv2d-34            [-1, 256, 8, 8]         294,912\n",
      "      BatchNorm2d-35            [-1, 256, 8, 8]             512\n",
      "           Conv2d-36            [-1, 256, 8, 8]         589,824\n",
      "           Conv2d-37             [-1, 16, 1, 1]           4,112\n",
      "           Conv2d-38            [-1, 256, 1, 1]           4,352\n",
      "      PreActBlock-39            [-1, 256, 8, 8]               0\n",
      "      BatchNorm2d-40            [-1, 256, 8, 8]             512\n",
      "           Conv2d-41            [-1, 256, 8, 8]         589,824\n",
      "      BatchNorm2d-42            [-1, 256, 8, 8]             512\n",
      "           Conv2d-43            [-1, 256, 8, 8]         589,824\n",
      "           Conv2d-44             [-1, 16, 1, 1]           4,112\n",
      "           Conv2d-45            [-1, 256, 1, 1]           4,352\n",
      "      PreActBlock-46            [-1, 256, 8, 8]               0\n",
      "      BatchNorm2d-47            [-1, 256, 8, 8]             512\n",
      "           Conv2d-48            [-1, 512, 4, 4]         131,072\n",
      "           Conv2d-49            [-1, 512, 4, 4]       1,179,648\n",
      "      BatchNorm2d-50            [-1, 512, 4, 4]           1,024\n",
      "           Conv2d-51            [-1, 512, 4, 4]       2,359,296\n",
      "           Conv2d-52             [-1, 32, 1, 1]          16,416\n",
      "           Conv2d-53            [-1, 512, 1, 1]          16,896\n",
      "      PreActBlock-54            [-1, 512, 4, 4]               0\n",
      "      BatchNorm2d-55            [-1, 512, 4, 4]           1,024\n",
      "           Conv2d-56            [-1, 512, 4, 4]       2,359,296\n",
      "      BatchNorm2d-57            [-1, 512, 4, 4]           1,024\n",
      "           Conv2d-58            [-1, 512, 4, 4]       2,359,296\n",
      "           Conv2d-59             [-1, 32, 1, 1]          16,416\n",
      "           Conv2d-60            [-1, 512, 1, 1]          16,896\n",
      "      PreActBlock-61            [-1, 512, 4, 4]               0\n",
      "          Flatten-62                  [-1, 512]               0\n",
      "           Linear-63                   [-1, 10]           5,130\n",
      "================================================================\n",
      "Total params: 11,260,354\n",
      "Trainable params: 11,260,354\n",
      "Non-trainable params: 0\n",
      "----------------------------------------------------------------\n",
      "Input size (MB): 0.01\n",
      "Forward/backward pass size (MB): 11.27\n",
      "Params size (MB): 42.95\n",
      "Estimated Total Size (MB): 54.24\n",
      "----------------------------------------------------------------\n"
     ]
    }
   ],
   "source": [
    "runner.summary()"
   ]
  },
  {
   "cell_type": "code",
   "execution_count": null,
   "metadata": {},
   "outputs": [],
   "source": [
    "for _ in range(3): runner.fit_onecycle(1e-3, mixup_alpha=0.4)"
   ]
  },
  {
   "cell_type": "code",
   "execution_count": null,
   "metadata": {},
   "outputs": [],
   "source": [
    "runner.fit_cycle(5, 1e-3)"
   ]
  },
  {
   "cell_type": "code",
   "execution_count": null,
   "metadata": {},
   "outputs": [],
   "source": [
    "runner.validate()"
   ]
  }
 ],
 "metadata": {
  "kernelspec": {
   "display_name": "Python 3",
   "language": "python",
   "name": "python3"
  },
  "language_info": {
   "codemirror_mode": {
    "name": "ipython",
    "version": 3
   },
   "file_extension": ".py",
   "mimetype": "text/x-python",
   "name": "python",
   "nbconvert_exporter": "python",
   "pygments_lexer": "ipython3",
   "version": "3.6.7"
  }
 },
 "nbformat": 4,
 "nbformat_minor": 2
}
