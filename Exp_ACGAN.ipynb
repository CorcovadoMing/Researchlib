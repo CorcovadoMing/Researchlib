{
 "cells": [
  {
   "cell_type": "code",
   "execution_count": 1,
   "metadata": {},
   "outputs": [],
   "source": [
    "%load_ext autoreload\n",
    "%autoreload 2"
   ]
  },
  {
   "cell_type": "code",
   "execution_count": 2,
   "metadata": {},
   "outputs": [
    {
     "name": "stdout",
     "output_type": "stream",
     "text": [
      "Using GPU 0: GeForce RTX 2080 Ti\n",
      "Driver: 418.56\n"
     ]
    }
   ],
   "source": [
    "from researchlib.single_import import *"
   ]
  },
  {
   "cell_type": "code",
   "execution_count": 3,
   "metadata": {},
   "outputs": [],
   "source": [
    "train_loader = VisionDataset(vision.FashionMNIST, 128, normalize=False)"
   ]
  },
  {
   "cell_type": "code",
   "execution_count": 4,
   "metadata": {},
   "outputs": [
    {
     "name": "stdout",
     "output_type": "stream",
     "text": [
      "8 128\n",
      "128 128\n",
      "128 128\n"
     ]
    }
   ],
   "source": [
    "g = builder([\n",
    "    nn.Linear(110, 8*4*4),\n",
    "    nn.BatchNorm1d(8*4*4),\n",
    "    nn.LeakyReLU(),\n",
    "    layer.Reshape((-1, 8, 4, 4)),\n",
    "    AutoConvTransposeNet2d(8, 3, 'vgg', start_filter=128, min_filter=128, preact=False, pooling_type='interpolate', norm='batch'),\n",
    "    nn.Conv2d(128, 1, 5),\n",
    "    nn.Sigmoid(),\n",
    "])  "
   ]
  },
  {
   "cell_type": "code",
   "execution_count": null,
   "metadata": {},
   "outputs": [
    {
     "name": "stdout",
     "output_type": "stream",
     "text": [
      "2 128\n",
      "128 128\n",
      "128 128\n",
      "128 128\n"
     ]
    }
   ],
   "source": [
    "d = builder([\n",
    "    layer.ConditionProjection(\n",
    "        builder([\n",
    "            nn.Linear(10, 784),\n",
    "            nn.BatchNorm1d(784),\n",
    "            nn.LeakyReLU(),\n",
    "            layer.Reshape((-1, 1, 28, 28)),\n",
    "        ])\n",
    "    ),\n",
    "    AutoConvNet2d(2, 4, 'vgg', start_filter=128, max_filter=128, flatten=True, pooling_type='maxpool', preact=False, norm='batch'),\n",
    "#     Auxiliary(builder([\n",
    "#         nn.Linear(128, 10),\n",
    "#         nn.LogSoftmax(-1)\n",
    "#     ])),\n",
    "    nn.Linear(128, 1),\n",
    "#     nn.Sigmoid()\n",
    "])"
   ]
  },
  {
   "cell_type": "code",
   "execution_count": null,
   "metadata": {},
   "outputs": [],
   "source": [
    "runner = Runner(GANModel(g, d, latent_vector_len=100, condition_vector_len=[10, 10], condition_onehot=True),\n",
    "                train_loader, \n",
    "                None, \n",
    "                'rmsprop', \n",
    "                GANLoss('wgan'),\n",
    "                monitor_state='g_loss',\n",
    "                monitor_mode='min')"
   ]
  },
  {
   "cell_type": "code",
   "execution_count": null,
   "metadata": {},
   "outputs": [
    {
     "data": {
      "application/vnd.jupyter.widget-view+json": {
       "model_id": "",
       "version_major": 2,
       "version_minor": 0
      },
      "text/plain": [
       "HBox(children=(IntProgress(value=0, max=50), HTML(value='')))"
      ]
     },
     "metadata": {},
     "output_type": "display_data"
    },
    {
     "name": "stdout",
     "output_type": "stream",
     "text": [
      "\r"
     ]
    }
   ],
   "source": [
    "runner.init_model('lsuv')"
   ]
  },
  {
   "cell_type": "code",
   "execution_count": null,
   "metadata": {},
   "outputs": [
    {
     "data": {
      "application/vnd.jupyter.widget-view+json": {
       "model_id": "c6efc11019e547f4a46253386a68531d",
       "version_major": 2,
       "version_minor": 0
      },
      "text/plain": [
       "HBox(children=(IntProgress(value=0, max=4), HTML(value='')))"
      ]
     },
     "metadata": {},
     "output_type": "display_data"
    },
    {
     "data": {
      "application/vnd.jupyter.widget-view+json": {
       "model_id": "",
       "version_major": 2,
       "version_minor": 0
      },
      "text/plain": [
       "HBox(children=(IntProgress(value=0, max=469), HTML(value='')))"
      ]
     },
     "metadata": {},
     "output_type": "display_data"
    },
    {
     "name": "stdout",
     "output_type": "stream",
     "text": [
      "  Epochs   train_d_loss  train_g_loss \n",
      "==============================\n",
      "    1*       -0.7985        0.6798    \n"
     ]
    },
    {
     "data": {
      "application/vnd.jupyter.widget-view+json": {
       "model_id": "",
       "version_major": 2,
       "version_minor": 0
      },
      "text/plain": [
       "HBox(children=(IntProgress(value=0, max=469), HTML(value='')))"
      ]
     },
     "metadata": {},
     "output_type": "display_data"
    },
    {
     "name": "stdout",
     "output_type": "stream",
     "text": [
      "    2        -1.2814        1.1644    \n"
     ]
    },
    {
     "data": {
      "application/vnd.jupyter.widget-view+json": {
       "model_id": "601d7832353740c38f91a197b29e933a",
       "version_major": 2,
       "version_minor": 0
      },
      "text/plain": [
       "HBox(children=(IntProgress(value=0, max=469), HTML(value='')))"
      ]
     },
     "metadata": {},
     "output_type": "display_data"
    }
   ],
   "source": [
    "runner.fit(4)"
   ]
  },
  {
   "cell_type": "code",
   "execution_count": null,
   "metadata": {},
   "outputs": [],
   "source": [
    "img = runner.model.sample(100, condition_data=list(range(10))*10)\n",
    "import matplotlib.pyplot as plt\n",
    "fig, arr = plt.subplots(10, 10, figsize=(20, 20))\n",
    "for i in range(100):\n",
    "    r = img[i][0].detach().cpu().numpy()#.transpose(1,2,0)\n",
    "#     r -= r.min()\n",
    "#     r /= r.max()\n",
    "    arr[i//10][i%10].axis('off')\n",
    "    arr[i//10][i%10].imshow(r, cmap='gray')\n",
    "plt.tight_layout()\n",
    "plt.show()"
   ]
  },
  {
   "cell_type": "code",
   "execution_count": null,
   "metadata": {},
   "outputs": [],
   "source": [
    "runner.report()"
   ]
  },
  {
   "cell_type": "code",
   "execution_count": null,
   "metadata": {},
   "outputs": [],
   "source": []
  }
 ],
 "metadata": {
  "kernelspec": {
   "display_name": "Python 3",
   "language": "python",
   "name": "python3"
  },
  "language_info": {
   "codemirror_mode": {
    "name": "ipython",
    "version": 3
   },
   "file_extension": ".py",
   "mimetype": "text/x-python",
   "name": "python",
   "nbconvert_exporter": "python",
   "pygments_lexer": "ipython3",
   "version": "3.6.8"
  }
 },
 "nbformat": 4,
 "nbformat_minor": 2
}
