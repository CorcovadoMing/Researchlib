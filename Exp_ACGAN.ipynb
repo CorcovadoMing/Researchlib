{
 "cells": [
  {
   "cell_type": "code",
   "execution_count": 1,
   "metadata": {},
   "outputs": [],
   "source": [
    "%load_ext autoreload\n",
    "%autoreload 2"
   ]
  },
  {
   "cell_type": "code",
   "execution_count": 2,
   "metadata": {},
   "outputs": [],
   "source": [
    "from researchlib.single_import import *"
   ]
  },
  {
   "cell_type": "code",
   "execution_count": 3,
   "metadata": {},
   "outputs": [],
   "source": [
    "class ConditionProjection(nn.Module):\n",
    "    def __init__(self, f):\n",
    "        super().__init__()\n",
    "        self.f = f\n",
    "    \n",
    "    def forward(self, x):\n",
    "        data, condition = x\n",
    "        return torch.cat([data, self.f(condition)], dim=1)"
   ]
  },
  {
   "cell_type": "code",
   "execution_count": 4,
   "metadata": {},
   "outputs": [],
   "source": [
    "p = builder([\n",
    "    nn.Linear(10, 512),\n",
    "    nn.ReLU(),\n",
    "    nn.Linear(512, 784),\n",
    "    layer.Reshape((-1, 1, 28, 28))\n",
    "])"
   ]
  },
  {
   "cell_type": "code",
   "execution_count": 5,
   "metadata": {},
   "outputs": [],
   "source": [
    "g = builder([\n",
    "    nn.Linear(110, 8*4*4),\n",
    "    layer.Reshape((-1, 8, 4, 4)),\n",
    "    AutoConvTransposeNet2d(8, 3),\n",
    "    nn.Conv2d(256, 128, 3),\n",
    "    nn.BatchNorm2d(128),\n",
    "    nn.ELU(),\n",
    "    nn.Conv2d(128, 1, 3),\n",
    "    nn.Sigmoid()\n",
    "])  "
   ]
  },
  {
   "cell_type": "code",
   "execution_count": 6,
   "metadata": {},
   "outputs": [],
   "source": [
    "d = builder([\n",
    "    AutoConvNet2d(1, 4),\n",
    "    Auxiliary(builder([\n",
    "        nn.Linear(512, 10),\n",
    "        nn.LogSoftmax(-1)\n",
    "    ])),\n",
    "    nn.Linear(512, 1),\n",
    "    nn.Sigmoid(),\n",
    "])"
   ]
  },
  {
   "cell_type": "code",
   "execution_count": 7,
   "metadata": {},
   "outputs": [],
   "source": [
    "train_loader = VisionDataset(vision.MNIST, batch_size=32, train=True, normalize=False)"
   ]
  },
  {
   "cell_type": "code",
   "execution_count": 8,
   "metadata": {},
   "outputs": [],
   "source": [
    "runner = Runner(GANModel(g, d, condition=[True, False]), train_loader, None, 'rmsprop', GANLoss('vanilla', aux_loss=F.nll_loss))"
   ]
  },
  {
   "cell_type": "code",
   "execution_count": 12,
   "metadata": {},
   "outputs": [
    {
     "name": "stdout",
     "output_type": "stream",
     "text": [
      "Initialize to orthogonal: Linear(in_features=110, out_features=128, bias=True)\n",
      "Initialize to orthogonal: Conv2d(8, 64, kernel_size=(3, 3), stride=(1, 1), padding=(1, 1))\n",
      "Initialize to orthogonal: ConvTranspose2d(64, 64, kernel_size=(2, 2), stride=(2, 2))\n",
      "Initialize to orthogonal: Conv2d(64, 128, kernel_size=(3, 3), stride=(1, 1), padding=(1, 1))\n",
      "Initialize to orthogonal: ConvTranspose2d(128, 128, kernel_size=(2, 2), stride=(2, 2))\n",
      "Initialize to orthogonal: Conv2d(128, 256, kernel_size=(3, 3), stride=(1, 1), padding=(1, 1))\n",
      "Initialize to orthogonal: ConvTranspose2d(256, 256, kernel_size=(2, 2), stride=(2, 2))\n",
      "Initialize to orthogonal: Conv2d(256, 128, kernel_size=(3, 3), stride=(1, 1))\n",
      "Initialize to orthogonal: Conv2d(128, 1, kernel_size=(3, 3), stride=(1, 1))\n",
      "Initialize to orthogonal: Conv2d(1, 64, kernel_size=(3, 3), stride=(1, 1), padding=(1, 1))\n",
      "Initialize to orthogonal: Conv2d(64, 128, kernel_size=(3, 3), stride=(1, 1), padding=(1, 1))\n",
      "Initialize to orthogonal: Conv2d(128, 256, kernel_size=(3, 3), stride=(1, 1), padding=(1, 1))\n",
      "Initialize to orthogonal: Conv2d(256, 512, kernel_size=(3, 3), stride=(1, 1), padding=(1, 1))\n",
      "Initialize to orthogonal: Linear(in_features=512, out_features=10, bias=True)\n",
      "Initialize to orthogonal: Linear(in_features=512, out_features=1, bias=True)\n"
     ]
    }
   ],
   "source": [
    "runner.init_model('orthogonal')"
   ]
  },
  {
   "cell_type": "code",
   "execution_count": null,
   "metadata": {},
   "outputs": [],
   "source": [
    "runner.fit(10)"
   ]
  },
  {
   "cell_type": "code",
   "execution_count": null,
   "metadata": {},
   "outputs": [],
   "source": [
    "condition = to_one_hot(torch.from_numpy(np.array(list(range(10)))).cuda(), 10).cuda()\n",
    "img = runner.model.sample(10, condition_data=condition)"
   ]
  },
  {
   "cell_type": "code",
   "execution_count": null,
   "metadata": {},
   "outputs": [],
   "source": [
    "import matplotlib.pyplot as plt\n",
    "fig, arr = plt.subplots(1, 10, figsize=(20, 20))\n",
    "for i in range(10):\n",
    "    arr[i].imshow(img[i][0].detach().cpu().numpy(), cmap='gray')\n",
    "plt.show()"
   ]
  },
  {
   "cell_type": "code",
   "execution_count": null,
   "metadata": {},
   "outputs": [],
   "source": [
    "runner.history()"
   ]
  },
  {
   "cell_type": "code",
   "execution_count": null,
   "metadata": {},
   "outputs": [],
   "source": []
  }
 ],
 "metadata": {
  "kernelspec": {
   "display_name": "Python 3",
   "language": "python",
   "name": "python3"
  },
  "language_info": {
   "codemirror_mode": {
    "name": "ipython",
    "version": 3
   },
   "file_extension": ".py",
   "mimetype": "text/x-python",
   "name": "python",
   "nbconvert_exporter": "python",
   "pygments_lexer": "ipython3",
   "version": "3.6.8"
  }
 },
 "nbformat": 4,
 "nbformat_minor": 2
}
