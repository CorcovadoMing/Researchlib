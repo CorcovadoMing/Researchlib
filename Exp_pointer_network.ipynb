{
 "cells": [
  {
   "cell_type": "code",
   "execution_count": 1,
   "metadata": {},
   "outputs": [],
   "source": [
    "%load_ext autoreload\n",
    "%autoreload 2"
   ]
  },
  {
   "cell_type": "code",
   "execution_count": 2,
   "metadata": {},
   "outputs": [],
   "source": [
    "from researchlib.single_import import *"
   ]
  },
  {
   "cell_type": "code",
   "execution_count": 4,
   "metadata": {},
   "outputs": [
    {
     "name": "stdout",
     "output_type": "stream",
     "text": [
      "Max Input Length 50\n",
      "Max Output Length 18\n",
      "Epoch : 0, loss 3.77783887386322\n",
      "Epoch : 1, loss 3.2888227224349977\n",
      "Epoch : 2, loss 2.5471121072769165\n",
      "Epoch : 3, loss 1.9616286516189576\n",
      "Epoch : 4, loss 1.580298364162445\n",
      "Epoch : 5, loss 1.3412872433662415\n",
      "Epoch : 6, loss 1.1527705669403077\n",
      "Epoch : 7, loss 1.044444054365158\n",
      "Epoch : 8, loss 0.9519232451915741\n",
      "Epoch : 9, loss 0.8851219296455384\n",
      "Epoch : 10, loss 0.8433300733566285\n",
      "Epoch : 11, loss 0.7800188899040222\n",
      "Epoch : 12, loss 0.7401944756507873\n",
      "Epoch : 13, loss 0.7007140278816223\n",
      "Epoch : 14, loss 0.6671462655067444\n",
      "Epoch : 15, loss 0.6422415196895599\n",
      "Epoch : 16, loss 0.6192421436309814\n",
      "Epoch : 17, loss 0.5966367781162262\n",
      "Epoch : 18, loss 0.5772657036781311\n",
      "Epoch : 19, loss 0.5603267192840576\n",
      "Epoch : 20, loss 0.5486321866512298\n",
      "Epoch : 21, loss 0.5328665375709534\n",
      "Epoch : 22, loss 0.5189068555831909\n",
      "Epoch : 23, loss 0.5074101775884629\n",
      "Epoch : 24, loss 0.49434184432029726\n",
      "Epoch : 25, loss 0.4827824145555496\n",
      "Epoch : 26, loss 0.4724316895008087\n",
      "Epoch : 27, loss 0.4634088039398193\n",
      "Epoch : 28, loss 0.4555563688278198\n",
      "Epoch : 29, loss 0.45078113079071047\n",
      "Epoch : 30, loss 0.4447657555341721\n",
      "Epoch : 31, loss 0.4346985906362534\n",
      "Epoch : 32, loss 0.42597890496253965\n",
      "Epoch : 33, loss 0.41912471652030947\n",
      "Epoch : 34, loss 0.4164906978607178\n",
      "Epoch : 35, loss 0.4086708128452301\n",
      "Epoch : 36, loss 0.4047459900379181\n",
      "Epoch : 37, loss 0.39879690408706664\n",
      "Epoch : 38, loss 0.3905080735683441\n",
      "Epoch : 39, loss 0.38543116450309756\n",
      "Epoch : 40, loss 0.38193545043468474\n",
      "Epoch : 41, loss 0.3770087569952011\n",
      "Epoch : 42, loss 0.3712586104869843\n",
      "Epoch : 43, loss 0.36656695008277895\n",
      "Epoch : 44, loss 0.36177065670490266\n",
      "Epoch : 45, loss 0.3594766348600388\n",
      "Epoch : 46, loss 0.35531131625175477\n",
      "Epoch : 47, loss 0.35041561126708987\n",
      "Epoch : 48, loss 0.3466746747493744\n",
      "Epoch : 49, loss 0.34276474416255953\n",
      "Epoch : 50, loss 0.3469031661748886\n",
      "Epoch : 51, loss 0.34736472070217134\n",
      "Epoch : 52, loss 0.33743794560432433\n",
      "Epoch : 53, loss 0.3315515249967575\n",
      "Epoch : 54, loss 0.32700797617435456\n",
      "Epoch : 55, loss 0.32409975230693816\n",
      "Epoch : 56, loss 0.32131828367710114\n",
      "Epoch : 57, loss 0.3181679487228394\n",
      "Epoch : 58, loss 0.3150770336389542\n",
      "Epoch : 59, loss 0.3125139266252518\n",
      "Epoch : 60, loss 0.31002396941184995\n",
      "Epoch : 61, loss 0.3073211759328842\n",
      "Epoch : 62, loss 0.30477486550807953\n",
      "Epoch : 63, loss 0.3026884377002716\n",
      "Epoch : 64, loss 0.3007376104593277\n",
      "Epoch : 65, loss 0.2983261227607727\n",
      "Epoch : 66, loss 0.2968288242816925\n",
      "Epoch : 67, loss 0.2933303415775299\n",
      "Epoch : 68, loss 0.2912841081619263\n",
      "Epoch : 69, loss 0.28875031173229215\n",
      "Epoch : 70, loss 0.2863961666822433\n",
      "Epoch : 71, loss 0.28465170562267306\n",
      "Epoch : 72, loss 0.28441723585128786\n",
      "Epoch : 73, loss 0.2805467158555984\n",
      "Epoch : 74, loss 0.27791039645671844\n",
      "Epoch : 75, loss 0.27585943341255187\n",
      "Epoch : 76, loss 0.2737529754638672\n",
      "Epoch : 77, loss 0.27210500836372375\n",
      "Epoch : 78, loss 0.271553173661232\n",
      "Epoch : 79, loss 0.2689317464828491\n",
      "Epoch : 80, loss 0.2669510990381241\n",
      "Epoch : 81, loss 0.26637881994247437\n",
      "Epoch : 82, loss 0.2635992765426636\n",
      "Epoch : 83, loss 0.26159616112709044\n",
      "Epoch : 84, loss 0.25988044440746305\n",
      "Epoch : 85, loss 0.2583092004060745\n",
      "Epoch : 86, loss 0.2591125309467316\n",
      "Epoch : 87, loss 0.2648103773593903\n",
      "Epoch : 88, loss 0.261082199215889\n",
      "Epoch : 89, loss 0.2554763823747635\n",
      "Epoch : 90, loss 0.2527121797204018\n",
      "Epoch : 91, loss 0.2506914183497429\n",
      "Epoch : 92, loss 0.2482319176197052\n",
      "Epoch : 93, loss 0.2466698631644249\n",
      "Epoch : 94, loss 0.24566093385219573\n",
      "Epoch : 95, loss 0.24491480737924576\n",
      "Epoch : 96, loss 0.2437789186835289\n",
      "Epoch : 97, loss 0.24212539941072464\n",
      "Epoch : 98, loss 0.24035522490739822\n",
      "Epoch : 99, loss 0.23880888819694518\n",
      "Epoch : 100, loss 0.23742750883102418\n",
      "Epoch : 101, loss 0.23621126562356948\n",
      "Epoch : 102, loss 0.23551350235939025\n",
      "Epoch : 103, loss 0.23457159698009492\n",
      "Epoch : 104, loss 0.23408514708280564\n",
      "Epoch : 105, loss 0.2326617121696472\n",
      "Epoch : 106, loss 0.23106930851936341\n",
      "Epoch : 107, loss 0.22947946041822434\n",
      "Epoch : 108, loss 0.22853322327136993\n",
      "Epoch : 109, loss 0.22690137326717377\n",
      "Epoch : 110, loss 0.22609146386384965\n",
      "Epoch : 111, loss 0.22577228248119355\n",
      "Epoch : 112, loss 0.22527048885822296\n",
      "Epoch : 113, loss 0.22451072484254836\n",
      "Epoch : 114, loss 0.22310707867145538\n",
      "Epoch : 115, loss 0.22236421406269075\n",
      "Epoch : 116, loss 0.2212556704878807\n",
      "Epoch : 117, loss 0.21999963968992234\n",
      "Epoch : 118, loss 0.21923472583293915\n",
      "Epoch : 119, loss 0.21873340457677842\n",
      "Epoch : 120, loss 0.21824291944503785\n",
      "Epoch : 121, loss 0.2170405000448227\n",
      "Epoch : 122, loss 0.215396910905838\n",
      "Epoch : 123, loss 0.2142815187573433\n",
      "Epoch : 124, loss 0.21374945491552352\n",
      "Epoch : 125, loss 0.21333291679620742\n",
      "Epoch : 126, loss 0.21185676157474517\n",
      "Epoch : 127, loss 0.21065053194761277\n",
      "Epoch : 128, loss 0.20928842574357986\n",
      "Epoch : 129, loss 0.20821188092231752\n",
      "Epoch : 130, loss 0.20692897140979766\n",
      "Epoch : 131, loss 0.20631466805934906\n",
      "Epoch : 132, loss 0.20502760410308837\n",
      "Epoch : 133, loss 0.203774556517601\n",
      "Epoch : 134, loss 0.20245500802993774\n",
      "Epoch : 135, loss 0.20144539028406144\n",
      "Epoch : 136, loss 0.20056585371494293\n",
      "Epoch : 137, loss 0.19951124787330626\n",
      "Epoch : 138, loss 0.1994759127497673\n",
      "Epoch : 139, loss 0.19841532409191132\n",
      "Epoch : 140, loss 0.19749655276536943\n",
      "Epoch : 141, loss 0.19684145003557205\n",
      "Epoch : 142, loss 0.19659336805343627\n",
      "Epoch : 143, loss 0.1957383558154106\n",
      "Epoch : 144, loss 0.19479149878025054\n",
      "Epoch : 145, loss 0.19442661106586456\n",
      "Epoch : 146, loss 0.19276280403137208\n",
      "Epoch : 147, loss 0.1916666865348816\n",
      "Epoch : 148, loss 0.1914331540465355\n",
      "Epoch : 149, loss 0.19036392122507095\n",
      "Epoch : 150, loss 0.19019984304904938\n",
      "Epoch : 151, loss 0.1909365862607956\n",
      "Epoch : 152, loss 0.18892054110765458\n",
      "Epoch : 153, loss 0.18768228888511657\n",
      "Epoch : 154, loss 0.18673998713493348\n",
      "Epoch : 155, loss 0.18621160238981246\n",
      "Epoch : 156, loss 0.18511944860219956\n",
      "Epoch : 157, loss 0.18464088588953018\n",
      "Epoch : 158, loss 0.1837582364678383\n",
      "Epoch : 159, loss 0.18295635282993317\n",
      "Epoch : 160, loss 0.1822496771812439\n",
      "Epoch : 161, loss 0.1817890390753746\n",
      "Epoch : 162, loss 0.18131713718175888\n",
      "Epoch : 163, loss 0.18072166442871093\n",
      "Epoch : 164, loss 0.17977592945098878\n",
      "Epoch : 165, loss 0.17858849763870238\n",
      "Epoch : 166, loss 0.1778244987130165\n",
      "Epoch : 167, loss 0.1772011399269104\n",
      "Epoch : 168, loss 0.17646569460630418\n",
      "Epoch : 169, loss 0.17571778148412703\n",
      "Epoch : 170, loss 0.1750641494989395\n",
      "Epoch : 171, loss 0.17444684952497483\n",
      "Epoch : 172, loss 0.17385523319244384\n",
      "Epoch : 173, loss 0.17327822148799896\n",
      "Epoch : 174, loss 0.17272043228149414\n",
      "Epoch : 175, loss 0.17217317074537278\n",
      "Epoch : 176, loss 0.17160949259996414\n",
      "Epoch : 177, loss 0.17108399718999862\n",
      "Epoch : 178, loss 0.17107525914907457\n",
      "Epoch : 179, loss 0.1717294931411743\n",
      "Epoch : 180, loss 0.17091781944036483\n",
      "Epoch : 181, loss 0.17156409621238708\n",
      "Epoch : 182, loss 0.17046014666557313\n",
      "Epoch : 183, loss 0.16955806463956832\n",
      "Epoch : 184, loss 0.16819809675216674\n",
      "Epoch : 185, loss 0.16745828986167907\n",
      "Epoch : 186, loss 0.16663845926523208\n",
      "Epoch : 187, loss 0.16609139889478683\n",
      "Epoch : 188, loss 0.16545342952013015\n",
      "Epoch : 189, loss 0.1648732528090477\n",
      "Epoch : 190, loss 0.16406986266374587\n",
      "Epoch : 191, loss 0.16350716054439546\n",
      "Epoch : 192, loss 0.1626134544610977\n",
      "Epoch : 193, loss 0.16203984022140502\n",
      "Epoch : 194, loss 0.16152871549129486\n",
      "Epoch : 195, loss 0.16105969846248627\n",
      "Epoch : 196, loss 0.1610599935054779\n",
      "Epoch : 197, loss 0.16116255670785903\n",
      "Epoch : 198, loss 0.16112211644649505\n",
      "Epoch : 199, loss 0.16174446046352386\n"
     ]
    }
   ],
   "source": [
    "import numpy as np\n",
    "import tqdm\n",
    "import torch\n",
    "from torch import optim\n",
    "from torch.utils.data import DataLoader\n",
    "from torch.autograd import Variable\n",
    "from torch.nn.utils import clip_grad_norm_\n",
    "import sys\n",
    "\n",
    "# Loading data\n",
    "train_ds = CHDataset(\"data/convex_hull_50_test.txt\")\n",
    "train_dl = DataLoader(train_ds, num_workers=2, batch_size=1024) \n",
    "\n",
    "# Init model\n",
    "model = PointerNet(\"LSTM\", True, 1, 2, 128, 0.0)\n",
    "criterion = PointerNetLoss()\n",
    "optimizer = optim.Adam(model.parameters(), lr=1e-2)\n",
    "\n",
    "model = model.cuda()\n",
    "\n",
    "# Training\n",
    "for epoch in range(200):\n",
    "    model.train()\n",
    "    total_loss = 0.\n",
    "    batch_cnt = 0.\n",
    "    for data, target in train_dl:\n",
    "        data = [i.cuda() for i in data]\n",
    "        target = [i.cuda() for i in target]\n",
    "        \n",
    "        optimizer.zero_grad()\n",
    "        align_score = model(*data)\n",
    "        loss = criterion(align_score, *target)\n",
    "\n",
    "        l = loss.item()\n",
    "        total_loss += l\n",
    "        batch_cnt += 1\n",
    "\n",
    "        loss.backward()\n",
    "        clip_grad_norm_(model.parameters(), 5.)\n",
    "        optimizer.step()\n",
    "        \n",
    "    print(\"Epoch : {}, loss {}\".format(epoch, total_loss / batch_cnt))"
   ]
  },
  {
   "cell_type": "code",
   "execution_count": 8,
   "metadata": {},
   "outputs": [
    {
     "name": "stdout",
     "output_type": "stream",
     "text": [
      "torch.Size([1024, 51, 2]) torch.Size([1024, 1]) torch.Size([1024, 19, 2]) torch.Size([1024, 19]) torch.Size([1024, 1]) tensor(13)\n"
     ]
    }
   ],
   "source": [
    "(a, b, c), (d, e) = next(iter(train_dl))\n",
    "print(a.shape, b.shape, c.shape, d.shape, e.shape, e[0, 0])\n",
    "out = model(a.cuda(),b.cuda(),c.cuda())"
   ]
  },
  {
   "cell_type": "code",
   "execution_count": 9,
   "metadata": {},
   "outputs": [
    {
     "name": "stdout",
     "output_type": "stream",
     "text": [
      "torch.Size([51, 2])\n"
     ]
    }
   ],
   "source": [
    "a = a[0]\n",
    "print(a.shape)"
   ]
  },
  {
   "cell_type": "code",
   "execution_count": 10,
   "metadata": {},
   "outputs": [],
   "source": [
    "d = d[0]"
   ]
  },
  {
   "cell_type": "code",
   "execution_count": 11,
   "metadata": {},
   "outputs": [
    {
     "data": {
      "text/plain": [
       "tensor([ 2, 36, 38, 48, 50,  7,  3,  5, 25, 18, 13,  2,  0,  0,  0,  0,  0,  0,\n",
       "         0])"
      ]
     },
     "execution_count": 11,
     "metadata": {},
     "output_type": "execute_result"
    }
   ],
   "source": [
    "d"
   ]
  },
  {
   "cell_type": "code",
   "execution_count": 16,
   "metadata": {},
   "outputs": [
    {
     "data": {
      "image/png": "[encoded data removed]",
      "text/plain": [
       "<Figure size 432x288 with 1 Axes>"
      ]
     },
     "metadata": {
      "needs_background": "light"
     },
     "output_type": "display_data"
    }
   ],
   "source": [
    "for i in range(len(a)):\n",
    "    if i in d:\n",
    "        plt.scatter(a[i][0], a[i][1], color='red')\n",
    "    else:\n",
    "        plt.scatter(a[i][0], a[i][1], color='blue')\n",
    "plt.show()"
   ]
  },
  {
   "cell_type": "code",
   "execution_count": 13,
   "metadata": {},
   "outputs": [],
   "source": [
    "out = out[0]"
   ]
  },
  {
   "cell_type": "code",
   "execution_count": 15,
   "metadata": {},
   "outputs": [
    {
     "name": "stdout",
     "output_type": "stream",
     "text": [
      "tensor([ 2, 36, 38, 48, 50,  7,  3,  5, 25, 18, 13,  2,  0,  0,  0,  0,  0,  0,\n",
      "         0], device='cuda:0')\n"
     ]
    }
   ],
   "source": [
    "c = out.argmax(-1)\n",
    "print(c)"
   ]
  },
  {
   "cell_type": "code",
   "execution_count": 17,
   "metadata": {},
   "outputs": [
    {
     "data": {
      "image/png": "[encoded data removed]",
      "text/plain": [
       "<Figure size 432x288 with 1 Axes>"
      ]
     },
     "metadata": {
      "needs_background": "light"
     },
     "output_type": "display_data"
    }
   ],
   "source": [
    "for i in range(len(a)):\n",
    "    if i in d:\n",
    "        plt.scatter(a[i][0], a[i][1], color='red')\n",
    "    else:\n",
    "        plt.scatter(a[i][0], a[i][1], color='blue')\n",
    "plt.show()"
   ]
  },
  {
   "cell_type": "code",
   "execution_count": 18,
   "metadata": {},
   "outputs": [
    {
     "data": {
      "image/png": "[encoded data removed]",
      "text/plain": [
       "<Figure size 432x288 with 1 Axes>"
      ]
     },
     "metadata": {
      "needs_background": "light"
     },
     "output_type": "display_data"
    }
   ],
   "source": [
    "for i in range(len(a)):\n",
    "    if i in c:\n",
    "        plt.scatter(a[i][0], a[i][1], color='green')\n",
    "    else:\n",
    "        plt.scatter(a[i][0], a[i][1], color='blue')\n",
    "plt.show()"
   ]
  }
 ],
 "metadata": {
  "kernelspec": {
   "display_name": "Python 3",
   "language": "python",
   "name": "python3"
  },
  "language_info": {
   "codemirror_mode": {
    "name": "ipython",
    "version": 3
   },
   "file_extension": ".py",
   "mimetype": "text/x-python",
   "name": "python",
   "nbconvert_exporter": "python",
   "pygments_lexer": "ipython3",
   "version": "3.6.7"
  }
 },
 "nbformat": 4,
 "nbformat_minor": 2
}
