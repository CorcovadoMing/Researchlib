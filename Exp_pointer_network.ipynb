{
 "cells": [
  {
   "cell_type": "code",
   "execution_count": 1,
   "metadata": {},
   "outputs": [],
   "source": [
    "%load_ext autoreload\n",
    "%autoreload 2"
   ]
  },
  {
   "cell_type": "code",
   "execution_count": 2,
   "metadata": {},
   "outputs": [],
   "source": [
    "from researchlib.single_import import *"
   ]
  },
  {
   "cell_type": "code",
   "execution_count": 3,
   "metadata": {},
   "outputs": [
    {
     "name": "stdout",
     "output_type": "stream",
     "text": [
      "Max Input Length 50\n",
      "Max Output Length 18\n",
      "Epoch : 0, loss 3.773611283302307\n",
      "Epoch : 1, loss 3.271119546890259\n",
      "Epoch : 2, loss 2.6422454118728638\n",
      "Epoch : 3, loss 2.1901424288749696\n",
      "Epoch : 4, loss 1.7876820802688598\n",
      "Epoch : 5, loss 1.5420792698860168\n",
      "Epoch : 6, loss 1.2869609236717223\n",
      "Epoch : 7, loss 1.1304192423820496\n",
      "Epoch : 8, loss 1.0235378742218018\n",
      "Epoch : 9, loss 0.954794418811798\n",
      "Epoch : 10, loss 0.8978992521762847\n",
      "Epoch : 11, loss 0.8361258685588837\n",
      "Epoch : 12, loss 0.7889265835285186\n",
      "Epoch : 13, loss 0.7510776460170746\n",
      "Epoch : 14, loss 0.7171385407447814\n",
      "Epoch : 15, loss 0.6857903361320495\n",
      "Epoch : 16, loss 0.6616946995258332\n",
      "Epoch : 17, loss 0.6436238527297974\n",
      "Epoch : 18, loss 0.6221475541591645\n",
      "Epoch : 19, loss 0.5981237173080445\n",
      "Epoch : 20, loss 0.5809070229530334\n",
      "Epoch : 21, loss 0.5643676221370697\n",
      "Epoch : 22, loss 0.5516231536865235\n",
      "Epoch : 23, loss 0.5370049118995667\n",
      "Epoch : 24, loss 0.5225868940353393\n",
      "Epoch : 25, loss 0.5106130182743073\n",
      "Epoch : 26, loss 0.5010636210441589\n",
      "Epoch : 27, loss 0.49563916921615603\n",
      "Epoch : 28, loss 0.48943325877189636\n",
      "Epoch : 29, loss 0.47391362190246583\n",
      "Epoch : 30, loss 0.46319239437580106\n",
      "Epoch : 31, loss 0.45438889861106874\n",
      "Epoch : 32, loss 0.4496286630630493\n",
      "Epoch : 33, loss 0.44022821485996244\n",
      "Epoch : 34, loss 0.4340132474899292\n",
      "Epoch : 35, loss 0.4265618085861206\n",
      "Epoch : 36, loss 0.42030016481876376\n",
      "Epoch : 37, loss 0.41320017278194426\n",
      "Epoch : 38, loss 0.40648250579833983\n",
      "Epoch : 39, loss 0.4017664760351181\n",
      "Epoch : 40, loss 0.39717397689819334\n",
      "Epoch : 41, loss 0.3925962716341019\n",
      "Epoch : 42, loss 0.3901850253343582\n",
      "Epoch : 43, loss 0.3825110286474228\n",
      "Epoch : 44, loss 0.37593628764152526\n",
      "Epoch : 45, loss 0.37161209285259245\n",
      "Epoch : 46, loss 0.36834185719490053\n",
      "Epoch : 47, loss 0.36942422688007354\n",
      "Epoch : 48, loss 0.3631825029850006\n",
      "Epoch : 49, loss 0.35681562721729276\n",
      "Epoch : 50, loss 0.3517903357744217\n",
      "Epoch : 51, loss 0.34811314940452576\n",
      "Epoch : 52, loss 0.34397059082984927\n",
      "Epoch : 53, loss 0.34061780869960784\n",
      "Epoch : 54, loss 0.33721536993980405\n",
      "Epoch : 55, loss 0.3336273193359375\n",
      "Epoch : 56, loss 0.33029640913009645\n",
      "Epoch : 57, loss 0.3271850347518921\n",
      "Epoch : 58, loss 0.3234717845916748\n",
      "Epoch : 59, loss 0.3226582229137421\n",
      "Epoch : 60, loss 0.32009499669075014\n",
      "Epoch : 61, loss 0.31630153954029083\n",
      "Epoch : 62, loss 0.3156455665826797\n",
      "Epoch : 63, loss 0.31386995017528535\n",
      "Epoch : 64, loss 0.30829027891159055\n",
      "Epoch : 65, loss 0.30632312297821046\n",
      "Epoch : 66, loss 0.3033767223358154\n",
      "Epoch : 67, loss 0.3011735826730728\n",
      "Epoch : 68, loss 0.29769306182861327\n",
      "Epoch : 69, loss 0.294630241394043\n",
      "Epoch : 70, loss 0.29227138459682467\n",
      "Epoch : 71, loss 0.2906403988599777\n",
      "Epoch : 72, loss 0.28963927626609803\n",
      "Epoch : 73, loss 0.28799688518047334\n",
      "Epoch : 74, loss 0.2940534114837646\n",
      "Epoch : 75, loss 0.2851677417755127\n",
      "Epoch : 76, loss 0.280601492524147\n",
      "Epoch : 77, loss 0.2778049558401108\n",
      "Epoch : 78, loss 0.27541938722133635\n",
      "Epoch : 79, loss 0.273626497387886\n",
      "Epoch : 80, loss 0.27201324701309204\n",
      "Epoch : 81, loss 0.2703288823366165\n",
      "Epoch : 82, loss 0.2686544507741928\n",
      "Epoch : 83, loss 0.26712647676467893\n",
      "Epoch : 84, loss 0.2658614724874496\n",
      "Epoch : 85, loss 0.2637627422809601\n",
      "Epoch : 86, loss 0.2614630937576294\n",
      "Epoch : 87, loss 0.2594794392585754\n",
      "Epoch : 88, loss 0.2580875217914581\n",
      "Epoch : 89, loss 0.2561491444706917\n",
      "Epoch : 90, loss 0.2544533371925354\n",
      "Epoch : 91, loss 0.2532986611127853\n",
      "Epoch : 92, loss 0.25114827007055285\n",
      "Epoch : 93, loss 0.24964728206396103\n",
      "Epoch : 94, loss 0.24921784698963165\n",
      "Epoch : 95, loss 0.24668913036584855\n",
      "Epoch : 96, loss 0.24491786062717438\n",
      "Epoch : 97, loss 0.2435341238975525\n",
      "Epoch : 98, loss 0.24387133121490479\n",
      "Epoch : 99, loss 0.2430093914270401\n",
      "Epoch : 100, loss 0.2404919907450676\n",
      "Epoch : 101, loss 0.23848024904727935\n",
      "Epoch : 102, loss 0.2367490664124489\n",
      "Epoch : 103, loss 0.23574638962745667\n",
      "Epoch : 104, loss 0.23450905829668045\n",
      "Epoch : 105, loss 0.23325569331645965\n",
      "Epoch : 106, loss 0.23226385414600373\n",
      "Epoch : 107, loss 0.23185567706823348\n",
      "Epoch : 108, loss 0.2315150424838066\n",
      "Epoch : 109, loss 0.2300552800297737\n",
      "Epoch : 110, loss 0.22863735854625702\n",
      "Epoch : 111, loss 0.22762872874736786\n",
      "Epoch : 112, loss 0.22544762641191482\n",
      "Epoch : 113, loss 0.22400819659233093\n",
      "Epoch : 114, loss 0.22245542854070663\n",
      "Epoch : 115, loss 0.22127421498298644\n",
      "Epoch : 116, loss 0.22021574676036834\n",
      "Epoch : 117, loss 0.2190629005432129\n",
      "Epoch : 118, loss 0.22063856571912766\n",
      "Epoch : 119, loss 0.22057513296604156\n",
      "Epoch : 120, loss 0.217499440908432\n",
      "Epoch : 121, loss 0.217258782684803\n",
      "Epoch : 122, loss 0.21541894525289534\n",
      "Epoch : 123, loss 0.21491424292325972\n",
      "Epoch : 124, loss 0.21373247355222702\n",
      "Epoch : 125, loss 0.2134145140647888\n",
      "Epoch : 126, loss 0.21195852756500244\n",
      "Epoch : 127, loss 0.21038249880075455\n",
      "Epoch : 128, loss 0.2094605326652527\n",
      "Epoch : 129, loss 0.20893755704164504\n",
      "Epoch : 130, loss 0.20855309963226318\n",
      "Epoch : 131, loss 0.20804643183946608\n",
      "Epoch : 132, loss 0.20741975009441377\n",
      "Epoch : 133, loss 0.20703916400671005\n",
      "Epoch : 134, loss 0.2065559521317482\n",
      "Epoch : 135, loss 0.2051370322704315\n",
      "Epoch : 136, loss 0.20285103470087051\n",
      "Epoch : 137, loss 0.200768406689167\n",
      "Epoch : 138, loss 0.19905794262886048\n",
      "Epoch : 139, loss 0.1983063042163849\n",
      "Epoch : 140, loss 0.19762468785047532\n",
      "Epoch : 141, loss 0.19695804566144942\n",
      "Epoch : 142, loss 0.1958717942237854\n",
      "Epoch : 143, loss 0.19488447457551955\n",
      "Epoch : 144, loss 0.19412769973278046\n",
      "Epoch : 145, loss 0.1934323191642761\n",
      "Epoch : 146, loss 0.19272127151489257\n",
      "Epoch : 147, loss 0.19188952147960664\n",
      "Epoch : 148, loss 0.19117863178253175\n",
      "Epoch : 149, loss 0.19051424264907837\n",
      "Epoch : 150, loss 0.18958154916763306\n",
      "Epoch : 151, loss 0.18917801678180696\n",
      "Epoch : 152, loss 0.18828838765621186\n",
      "Epoch : 153, loss 0.1884821981191635\n",
      "Epoch : 154, loss 0.18721372187137603\n",
      "Epoch : 155, loss 0.18652532547712325\n",
      "Epoch : 156, loss 0.18627618253231049\n",
      "Epoch : 157, loss 0.1856962561607361\n",
      "Epoch : 158, loss 0.18484061509370803\n",
      "Epoch : 159, loss 0.18349394351243972\n",
      "Epoch : 160, loss 0.1822500005364418\n",
      "Epoch : 161, loss 0.1814289554953575\n",
      "Epoch : 162, loss 0.18032037019729613\n",
      "Epoch : 163, loss 0.1794763833284378\n",
      "Epoch : 164, loss 0.17894587963819503\n",
      "Epoch : 165, loss 0.17832158207893373\n",
      "Epoch : 166, loss 0.17771762013435363\n",
      "Epoch : 167, loss 0.17715020328760148\n",
      "Epoch : 168, loss 0.1766350284218788\n",
      "Epoch : 169, loss 0.17612526416778565\n",
      "Epoch : 170, loss 0.17559750825166703\n",
      "Epoch : 171, loss 0.17524866461753846\n",
      "Epoch : 172, loss 0.175433973968029\n",
      "Epoch : 173, loss 0.1752844974398613\n",
      "Epoch : 174, loss 0.1750473603606224\n",
      "Epoch : 175, loss 0.17390463799238204\n",
      "Epoch : 176, loss 0.17378951460123063\n",
      "Epoch : 177, loss 0.17194673120975495\n",
      "Epoch : 178, loss 0.17090932428836822\n",
      "Epoch : 179, loss 0.16974996477365495\n",
      "Epoch : 180, loss 0.16883352547883987\n",
      "Epoch : 181, loss 0.16809023469686507\n",
      "Epoch : 182, loss 0.16752102375030517\n",
      "Epoch : 183, loss 0.16702861338853836\n",
      "Epoch : 184, loss 0.16648381799459458\n",
      "Epoch : 185, loss 0.16591447591781616\n",
      "Epoch : 186, loss 0.16535456031560897\n",
      "Epoch : 187, loss 0.1648290455341339\n",
      "Epoch : 188, loss 0.16434791833162307\n",
      "Epoch : 189, loss 0.16396309733390807\n",
      "Epoch : 190, loss 0.16393180191516876\n",
      "Epoch : 191, loss 0.16497810184955597\n",
      "Epoch : 192, loss 0.1633596286177635\n",
      "Epoch : 193, loss 0.16276626884937287\n",
      "Epoch : 194, loss 0.1616608828306198\n",
      "Epoch : 195, loss 0.16044171899557114\n",
      "Epoch : 196, loss 0.15978226363658904\n",
      "Epoch : 197, loss 0.15921830087900163\n",
      "Epoch : 198, loss 0.15875872522592543\n",
      "Epoch : 199, loss 0.15821947455406188\n"
     ]
    }
   ],
   "source": [
    "import numpy as np\n",
    "import tqdm\n",
    "import torch\n",
    "from torch import optim\n",
    "from torch.utils.data import DataLoader\n",
    "from torch.autograd import Variable\n",
    "from torch.nn.utils import clip_grad_norm_\n",
    "import sys\n",
    "\n",
    "# Loading data\n",
    "train_ds = CHDataset(\"data/convex_hull_50_test.txt\")\n",
    "train_dl = DataLoader(train_ds, num_workers=2, batch_size=1024) \n",
    "\n",
    "# Init model\n",
    "model = PointerNet(\"LSTM\", True, 1, 2, 128, 0.0)\n",
    "criterion = PointerNetLoss()\n",
    "optimizer = optim.Adam(model.parameters(), lr=1e-2)\n",
    "\n",
    "model = model.cuda()\n",
    "\n",
    "# Training\n",
    "for epoch in range(200):\n",
    "    model.train()\n",
    "    total_loss = 0.\n",
    "    batch_cnt = 0.\n",
    "    for data, target in train_dl:\n",
    "        data = [i.cuda() for i in data]\n",
    "        target = [i.cuda() for i in target]\n",
    "        \n",
    "        optimizer.zero_grad()\n",
    "        align_score = model(*data)\n",
    "        loss = criterion(align_score, *target)\n",
    "\n",
    "        l = loss.item()\n",
    "        total_loss += l\n",
    "        batch_cnt += 1\n",
    "\n",
    "        loss.backward()\n",
    "        clip_grad_norm_(model.parameters(), 5.)\n",
    "        optimizer.step()\n",
    "        \n",
    "    print(\"Epoch : {}, loss {}\".format(epoch, total_loss / batch_cnt))"
   ]
  },
  {
   "cell_type": "code",
   "execution_count": 4,
   "metadata": {},
   "outputs": [
    {
     "name": "stdout",
     "output_type": "stream",
     "text": [
      "torch.Size([1024, 51, 2]) torch.Size([1024, 1]) torch.Size([1024, 19, 2]) torch.Size([1024, 19]) torch.Size([1024, 1]) tensor(13)\n"
     ]
    }
   ],
   "source": [
    "(a, b, c), (d, e) = next(iter(train_dl))\n",
    "print(a.shape, b.shape, c.shape, d.shape, e.shape, e[0, 0])\n",
    "out = model(a.cuda(),b.cuda(),c.cuda())"
   ]
  },
  {
   "cell_type": "code",
   "execution_count": 5,
   "metadata": {},
   "outputs": [
    {
     "name": "stdout",
     "output_type": "stream",
     "text": [
      "torch.Size([51, 2])\n"
     ]
    }
   ],
   "source": [
    "a = a[0]\n",
    "print(a.shape)"
   ]
  },
  {
   "cell_type": "code",
   "execution_count": 6,
   "metadata": {},
   "outputs": [],
   "source": [
    "d = d[0]"
   ]
  },
  {
   "cell_type": "code",
   "execution_count": 7,
   "metadata": {},
   "outputs": [
    {
     "data": {
      "text/plain": [
       "tensor([ 2, 36, 38, 48, 50,  7,  3,  5, 25, 18, 13,  2,  0,  0,  0,  0,  0,  0,\n",
       "         0])"
      ]
     },
     "execution_count": 7,
     "metadata": {},
     "output_type": "execute_result"
    }
   ],
   "source": [
    "d"
   ]
  },
  {
   "cell_type": "code",
   "execution_count": 8,
   "metadata": {},
   "outputs": [
    {
     "data": {
      "image/png": "[encoded data removed]",
      "text/plain": [
       "<Figure size 432x288 with 1 Axes>"
      ]
     },
     "metadata": {
      "needs_background": "light"
     },
     "output_type": "display_data"
    }
   ],
   "source": [
    "for i in range(len(a)):\n",
    "    if i in d:\n",
    "        plt.scatter(a[i][0], a[i][1], color='red')\n",
    "    else:\n",
    "        plt.scatter(a[i][0], a[i][1], color='blue')\n",
    "plt.show()"
   ]
  },
  {
   "cell_type": "code",
   "execution_count": 9,
   "metadata": {},
   "outputs": [],
   "source": [
    "out = out[0]"
   ]
  },
  {
   "cell_type": "code",
   "execution_count": 10,
   "metadata": {},
   "outputs": [
    {
     "name": "stdout",
     "output_type": "stream",
     "text": [
      "tensor([ 2, 36, 38, 48, 50,  7,  3,  5, 25, 18, 13,  2,  0,  0,  0,  0,  0,  0,\n",
      "         0], device='cuda:0')\n"
     ]
    }
   ],
   "source": [
    "c = out.argmax(-1)\n",
    "print(c)"
   ]
  },
  {
   "cell_type": "code",
   "execution_count": 41,
   "metadata": {},
   "outputs": [
    {
     "data": {
      "image/png": "[encoded data removed]",
      "text/plain": [
       "<Figure size 432x288 with 1 Axes>"
      ]
     },
     "metadata": {
      "needs_background": "light"
     },
     "output_type": "display_data"
    }
   ],
   "source": [
    "s = list(np.trim_zeros(d.numpy()))\n",
    "\n",
    "for i in range(1, len(a)):\n",
    "    if i in s:\n",
    "        plt.scatter(a[i][0], a[i][1], color='green')\n",
    "        plt.text(a[i][0], a[i][1], s.index(i), fontsize=13)\n",
    "    else:\n",
    "        plt.scatter(a[i][0], a[i][1], color='blue')\n",
    "plt.show()"
   ]
  },
  {
   "cell_type": "code",
   "execution_count": 43,
   "metadata": {},
   "outputs": [
    {
     "data": {
      "image/png": "[encoded data removed]",
      "text/plain": [
       "<Figure size 432x288 with 1 Axes>"
      ]
     },
     "metadata": {
      "needs_background": "light"
     },
     "output_type": "display_data"
    }
   ],
   "source": [
    "s = list(np.trim_zeros(c.cpu().numpy()))\n",
    "\n",
    "for i in range(1, len(a)):\n",
    "    if i in s:\n",
    "        plt.scatter(a[i][0], a[i][1], color='red')\n",
    "        plt.text(a[i][0], a[i][1], s.index(i), fontsize=13)\n",
    "    else:\n",
    "        plt.scatter(a[i][0], a[i][1], color='blue')\n",
    "plt.show()"
   ]
  },
  {
   "cell_type": "code",
   "execution_count": null,
   "metadata": {},
   "outputs": [],
   "source": []
  }
 ],
 "metadata": {
  "kernelspec": {
   "display_name": "Python 3",
   "language": "python",
   "name": "python3"
  },
  "language_info": {
   "codemirror_mode": {
    "name": "ipython",
    "version": 3
   },
   "file_extension": ".py",
   "mimetype": "text/x-python",
   "name": "python",
   "nbconvert_exporter": "python",
   "pygments_lexer": "ipython3",
   "version": "3.6.7"
  }
 },
 "nbformat": 4,
 "nbformat_minor": 2
}
