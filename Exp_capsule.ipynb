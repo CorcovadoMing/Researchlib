{
 "cells": [
  {
   "cell_type": "code",
   "execution_count": null,
   "metadata": {},
   "outputs": [],
   "source": [
    "%load_ext autoreload\n",
    "%autoreload 2"
   ]
  },
  {
   "cell_type": "code",
   "execution_count": null,
   "metadata": {},
   "outputs": [],
   "source": [
    "from researchlib.single_import import *"
   ]
  },
  {
   "cell_type": "code",
   "execution_count": null,
   "metadata": {},
   "outputs": [],
   "source": [
    "train_loader = VisionDataset(vision.MNIST, batch_size=512, train=True)\n",
    "test_loader = VisionDataset(vision.MNIST, batch_size=512, train=False)"
   ]
  },
  {
   "cell_type": "code",
   "execution_count": null,
   "metadata": {},
   "outputs": [],
   "source": [
    "encoder = builder([\n",
    "    nn.Conv2d(1, 256, 9, stride=1, bias=True),\n",
    "    nn.BatchNorm2d(256),\n",
    "    nn.SELU(inplace=True),\n",
    "    layer.PrimaryCapsules(256, 256, 8, kernel_size=9),\n",
    "    layer.RoutingCapsules(8, 1152, 10, 16, 3)\n",
    "])\n",
    "\n",
    "decoder = builder([\n",
    "    layer.CapsuleMasked(),\n",
    "    nn.Linear(160, 512),\n",
    "    nn.BatchNorm1d(512),\n",
    "    nn.SELU(inplace=True),\n",
    "    nn.Linear(512, 1024),\n",
    "    nn.BatchNorm1d(1024),\n",
    "    nn.SELU(inplace=True),\n",
    "    nn.Linear(1024, 784),\n",
    "    nn.Sigmoid(),\n",
    "    Reg(layer.Reshape((-1, 1, 28, 28)), 'rc', get='out'),\n",
    "])\n",
    "\n",
    "model = builder([\n",
    "    Reg(Identical(), 'rc', get='out'),\n",
    "    encoder,\n",
    "    Auxiliary(decoder),\n",
    "    layer.Norm()\n",
    "])"
   ]
  },
  {
   "cell_type": "code",
   "execution_count": null,
   "metadata": {},
   "outputs": [],
   "source": [
    "runner = Runner(model, train_loader, test_loader, 'adam', 'margin', fp16=False, multigpu=True, reg_fn={'rc': 'mse'}, reg_weights={'rc': 0.1})"
   ]
  },
  {
   "cell_type": "code",
   "execution_count": null,
   "metadata": {},
   "outputs": [],
   "source": [
    "runner.init_model()"
   ]
  },
  {
   "cell_type": "code",
   "execution_count": null,
   "metadata": {},
   "outputs": [],
   "source": [
    "runner.fit(1, 1e-3)"
   ]
  },
  {
   "cell_type": "code",
   "execution_count": null,
   "metadata": {},
   "outputs": [],
   "source": [
    "import torchvision.utils as vutils\n",
    "\n",
    "x = next(iter(test_loader))[0]\n",
    "\n",
    "out = encoder(x.cuda())\n",
    "res = decoder(out)\n",
    "\n",
    "t1 = vutils.make_grid(x).cpu().numpy().transpose(1,2,0)\n",
    "t2 = vutils.make_grid(res.detach()).cpu().numpy().transpose(1,2,0)\n",
    "\n",
    "fig, arr = plt.subplots(1,2,figsize=(20,20))\n",
    "arr[0].imshow(t1)\n",
    "arr[1].imshow(t2)\n",
    "plt.show()"
   ]
  },
  {
   "cell_type": "code",
   "execution_count": null,
   "metadata": {},
   "outputs": [],
   "source": []
  }
 ],
 "metadata": {
  "kernelspec": {
   "display_name": "Python 3",
   "language": "python",
   "name": "python3"
  },
  "language_info": {
   "codemirror_mode": {
    "name": "ipython",
    "version": 3
   },
   "file_extension": ".py",
   "mimetype": "text/x-python",
   "name": "python",
   "nbconvert_exporter": "python",
   "pygments_lexer": "ipython3",
   "version": "3.6.8"
  }
 },
 "nbformat": 4,
 "nbformat_minor": 2
}
