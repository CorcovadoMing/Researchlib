{
 "cells": [
  {
   "cell_type": "code",
   "execution_count": 1,
   "metadata": {},
   "outputs": [],
   "source": [
    "%load_ext autoreload\n",
    "%autoreload 2"
   ]
  },
  {
   "cell_type": "code",
   "execution_count": 2,
   "metadata": {},
   "outputs": [],
   "source": [
    "from researchlib.single_import import *"
   ]
  },
  {
   "cell_type": "code",
   "execution_count": 3,
   "metadata": {},
   "outputs": [],
   "source": [
    "train_dataset = MNIST(True)\n",
    "test_dataset = MNIST(False)"
   ]
  },
  {
   "cell_type": "code",
   "execution_count": 4,
   "metadata": {},
   "outputs": [],
   "source": [
    "train_x, train_y = train_dataset.data.numpy(), train_dataset.targets\n",
    "test_x, test_y = test_dataset.data.numpy(), test_dataset.targets\n",
    "train_y2 = to_one_hot(train_y, 10).numpy()\n",
    "test_y2 = to_one_hot(test_y, 10).numpy()\n",
    "train_y = train_y.numpy()\n",
    "test_y = test_y.numpy()"
   ]
  },
  {
   "cell_type": "code",
   "execution_count": 5,
   "metadata": {},
   "outputs": [],
   "source": [
    "train_data = FromNumpy(train_x[:, None, :, :], [train_y2, train_y], batch_size=256)\n",
    "test_data = FromNumpy(test_x[:, None, :, :], [test_y2, test_y], batch_size=256)"
   ]
  },
  {
   "cell_type": "code",
   "execution_count": 6,
   "metadata": {},
   "outputs": [],
   "source": [
    "class Orthogonal(nn.Module):\n",
    "    def __init__(self, alpha=0.1):\n",
    "        super().__init__()\n",
    "        self.alpha = alpha\n",
    "    \n",
    "    def forward(self, w1, w2):\n",
    "        return self.alpha * torch.matmul(w1, w2.t()).abs().mean()"
   ]
  },
  {
   "cell_type": "code",
   "execution_count": 65,
   "metadata": {},
   "outputs": [],
   "source": [
    "\"\"\"\n",
    "\n",
    "Implementation of the spectral normalization for the weight matrix\n",
    "\n",
    "\"\"\"\n",
    "\n",
    "import torch\n",
    "import torch.nn as nn\n",
    "from torch.nn import Parameter\n",
    "\n",
    "\n",
    "class SpectralNorm(nn.Module):\n",
    "\n",
    "    def __init__(self, module, name_module='weight', power_iterations=1):\n",
    "        super(SpectralNorm, self).__init__()\n",
    "        self.module= module\n",
    "        self.name = name_module\n",
    "        self.power_iter = power_iterations\n",
    "\n",
    "        if not self._made_params():\n",
    "            self._make_params()\n",
    "\n",
    "\n",
    "    def update_u_v(self):\n",
    "        \"\"\"\n",
    "        Updating the parameters u and v which would be used for the\n",
    "        calculation of the spectral norm.\n",
    "        :return:\n",
    "        \"\"\"\n",
    "\n",
    "        u = getattr(self.module, self.name + \"_u\")\n",
    "        v = getattr(self.module, self.name + \"_v\")\n",
    "        w = getattr(self.module, self.name + \"_bar\")\n",
    "\n",
    "        height = w.data.shape[0]\n",
    "        for _ in range(self.power_iter):\n",
    "            v.data = self.l2normalize(torch.mv(torch.t(w.view(height, -1).data), u.data))\n",
    "            u.data = self.l2normalize(torch.mv(w.view(height, -1).data, v.data))\n",
    "\n",
    "        # sigma = torch.dot(u.data, torch.mv(w.view(height,-1).data, v.data))\n",
    "        sigma = u.dot(w.view(height, -1).mv(v))\n",
    "\n",
    "        setattr(self.module, self.name, w / sigma.expand_as(w))\n",
    "\n",
    "\n",
    "    def l2normalize(self, v, eps=1e-12):\n",
    "        return v / (v.norm() + eps)\n",
    "\n",
    "    def _made_params(self):\n",
    "        try:\n",
    "            u = getattr(self.module, self.name + \"_u\")\n",
    "            v = getattr(self.module, self.name + \"_v\")\n",
    "            w = getattr(self.module, self.name + \"_bar\")\n",
    "            return True\n",
    "        except AttributeError:\n",
    "            return False\n",
    "\n",
    "    def _make_params(self):\n",
    "        w = getattr(self.module, self.name)\n",
    "\n",
    "        height = w.data.shape[0]\n",
    "        width = w.view(height, -1).data.shape[1]\n",
    "\n",
    "        u = Parameter(w.data.new(height).normal_(0, 1), requires_grad=False)\n",
    "        v = Parameter(w.data.new(width).normal_(0, 1), requires_grad=False)\n",
    "        u.data = self.l2normalize(u.data)\n",
    "        v.data = self.l2normalize(v.data)\n",
    "        w_bar = Parameter(w.data)\n",
    "\n",
    "        del self.module._parameters[self.name]\n",
    "        self.module.register_parameter(self.name + \"_u\", u)\n",
    "        self.module.register_parameter(self.name + \"_v\", v)\n",
    "        self.module.register_parameter(self.name + \"_bar\", w_bar)\n",
    "\n",
    "    def forward(self, *args):\n",
    "        self.update_u_v()\n",
    "        return self.module.forward(*args)"
   ]
  },
  {
   "cell_type": "code",
   "execution_count": 96,
   "metadata": {},
   "outputs": [],
   "source": [
    "model = builder([\n",
    "    SpectralNorm(nn.Conv2d(1, 20, 5, 1), power_iterations=5),\n",
    "    nn.ReLU(),\n",
    "    nn.MaxPool2d(2, 2),\n",
    "    SpectralNorm(nn.Conv2d(20, 50, 5, 1), power_iterations=5),\n",
    "    nn.ReLU(),\n",
    "    nn.MaxPool2d(2, 2),\n",
    "    Flatten(),\n",
    "    Auxiliary(builder([\n",
    "        Reg(NoisyLinear(4*4*50, 128), 'orth'),\n",
    "        nn.ReLU(),\n",
    "        Reg(NoisyLinear(128, 10), 'orth2'),\n",
    "        nn.Sigmoid()\n",
    "    ])),\n",
    "    Reg(NoisyLinear(4*4*50, 128), 'orth'),\n",
    "    nn.ReLU(),\n",
    "    Reg(NoisyLinear(128, 10), 'orth2'),\n",
    "    nn.LogSoftmax(1)\n",
    "])"
   ]
  },
  {
   "cell_type": "code",
   "execution_count": 97,
   "metadata": {},
   "outputs": [],
   "source": [
    "runner = Runner(model, train_data, test_data, 'adam', ['bce', 'nll'], reg_fn={'orth': Orthogonal(), 'orth2': Orthogonal()}, fp16=False)"
   ]
  },
  {
   "cell_type": "code",
   "execution_count": 98,
   "metadata": {},
   "outputs": [
    {
     "data": {
      "application/vnd.jupyter.widget-view+json": {
       "model_id": "e1e915e0abaf4e62b433e6fc89c7dbe5",
       "version_major": 2,
       "version_minor": 0
      },
      "text/plain": [
       "HBox(children=(IntProgress(value=0, max=3), HTML(value='')))"
      ]
     },
     "metadata": {},
     "output_type": "display_data"
    },
    {
     "data": {
      "application/vnd.jupyter.widget-view+json": {
       "model_id": "",
       "version_major": 2,
       "version_minor": 0
      },
      "text/plain": [
       "HBox(children=(IntProgress(value=0, max=235), HTML(value='')))"
      ]
     },
     "metadata": {},
     "output_type": "display_data"
    },
    {
     "name": "stdout",
     "output_type": "stream",
     "text": [
      "  Epochs    train_loss    train_acc      val_loss      val_acc    \n",
      "================================================================\n",
      "    1*        3.1230        0.6492        0.2978        0.9381    \n"
     ]
    },
    {
     "data": {
      "application/vnd.jupyter.widget-view+json": {
       "model_id": "",
       "version_major": 2,
       "version_minor": 0
      },
      "text/plain": [
       "HBox(children=(IntProgress(value=0, max=235), HTML(value='')))"
      ]
     },
     "metadata": {},
     "output_type": "display_data"
    },
    {
     "name": "stdout",
     "output_type": "stream",
     "text": [
      "    2         0.3748        0.9141        0.1534        0.9640    \n"
     ]
    },
    {
     "data": {
      "application/vnd.jupyter.widget-view+json": {
       "model_id": "",
       "version_major": 2,
       "version_minor": 0
      },
      "text/plain": [
       "HBox(children=(IntProgress(value=0, max=235), HTML(value='')))"
      ]
     },
     "metadata": {},
     "output_type": "display_data"
    },
    {
     "name": "stdout",
     "output_type": "stream",
     "text": [
      "    3         0.2433        0.9429        0.1170        0.9728    \n"
     ]
    }
   ],
   "source": [
    "runner.fit(3, cycle='sc')"
   ]
  },
  {
   "cell_type": "code",
   "execution_count": null,
   "metadata": {},
   "outputs": [
    {
     "data": {
      "application/vnd.jupyter.widget-view+json": {
       "model_id": "fd0543d6f4ce45bba35d0d8ae521202a",
       "version_major": 2,
       "version_minor": 0
      },
      "text/plain": [
       "HBox(children=(IntProgress(value=0, max=15), HTML(value='')))"
      ]
     },
     "metadata": {},
     "output_type": "display_data"
    },
    {
     "data": {
      "application/vnd.jupyter.widget-view+json": {
       "model_id": "",
       "version_major": 2,
       "version_minor": 0
      },
      "text/plain": [
       "HBox(children=(IntProgress(value=0, max=235), HTML(value='')))"
      ]
     },
     "metadata": {},
     "output_type": "display_data"
    },
    {
     "name": "stdout",
     "output_type": "stream",
     "text": [
      "  Epochs    train_loss    train_acc      val_loss      val_acc    \n",
      "================================================================\n",
      "    1         0.1801        0.9574        0.0956        0.9771    \n"
     ]
    },
    {
     "data": {
      "application/vnd.jupyter.widget-view+json": {
       "model_id": "",
       "version_major": 2,
       "version_minor": 0
      },
      "text/plain": [
       "HBox(children=(IntProgress(value=0, max=235), HTML(value='')))"
      ]
     },
     "metadata": {},
     "output_type": "display_data"
    },
    {
     "name": "stdout",
     "output_type": "stream",
     "text": [
      "    2         0.1459        0.9658        0.0866        0.9773    \n"
     ]
    },
    {
     "data": {
      "application/vnd.jupyter.widget-view+json": {
       "model_id": "",
       "version_major": 2,
       "version_minor": 0
      },
      "text/plain": [
       "HBox(children=(IntProgress(value=0, max=235), HTML(value='')))"
      ]
     },
     "metadata": {},
     "output_type": "display_data"
    },
    {
     "name": "stdout",
     "output_type": "stream",
     "text": [
      "    3         0.1197        0.9724        0.0778        0.9799    \n"
     ]
    },
    {
     "data": {
      "application/vnd.jupyter.widget-view+json": {
       "model_id": "",
       "version_major": 2,
       "version_minor": 0
      },
      "text/plain": [
       "HBox(children=(IntProgress(value=0, max=235), HTML(value='')))"
      ]
     },
     "metadata": {},
     "output_type": "display_data"
    },
    {
     "name": "stdout",
     "output_type": "stream",
     "text": [
      "    4         0.1080        0.9745        0.0700        0.9815    \n"
     ]
    },
    {
     "data": {
      "application/vnd.jupyter.widget-view+json": {
       "model_id": "",
       "version_major": 2,
       "version_minor": 0
      },
      "text/plain": [
       "HBox(children=(IntProgress(value=0, max=235), HTML(value='')))"
      ]
     },
     "metadata": {},
     "output_type": "display_data"
    },
    {
     "name": "stdout",
     "output_type": "stream",
     "text": [
      "    5         0.0939        0.9785        0.0645        0.9829    \n"
     ]
    },
    {
     "data": {
      "application/vnd.jupyter.widget-view+json": {
       "model_id": "",
       "version_major": 2,
       "version_minor": 0
      },
      "text/plain": [
       "HBox(children=(IntProgress(value=0, max=235), HTML(value='')))"
      ]
     },
     "metadata": {},
     "output_type": "display_data"
    },
    {
     "name": "stdout",
     "output_type": "stream",
     "text": [
      "    6         0.0838        0.9805        0.0620        0.9828    \n"
     ]
    },
    {
     "data": {
      "application/vnd.jupyter.widget-view+json": {
       "model_id": "ce02da4d16c6426ab3c29192a0df11a2",
       "version_major": 2,
       "version_minor": 0
      },
      "text/plain": [
       "HBox(children=(IntProgress(value=0, max=235), HTML(value='')))"
      ]
     },
     "metadata": {},
     "output_type": "display_data"
    }
   ],
   "source": [
    "runner.fit(5, cycle='cycle')"
   ]
  },
  {
   "cell_type": "code",
   "execution_count": 75,
   "metadata": {},
   "outputs": [
    {
     "name": "stdout",
     "output_type": "stream",
     "text": [
      "0.03543465777474921 0.9908\n"
     ]
    }
   ],
   "source": [
    "runner.validate()"
   ]
  },
  {
   "cell_type": "code",
   "execution_count": 87,
   "metadata": {},
   "outputs": [],
   "source": [
    "model = runner.model"
   ]
  },
  {
   "cell_type": "code",
   "execution_count": 89,
   "metadata": {},
   "outputs": [
    {
     "name": "stdout",
     "output_type": "stream",
     "text": [
      "tensor(9.)\n",
      "tensor([[3.8736e-03, 5.1937e-05, 9.9325e-01, 7.0427e-04, 7.2974e-04, 1.4679e-06,\n",
      "         5.5171e-06, 1.2599e-04, 1.1404e-03, 1.1737e-04]], device='cuda:0',\n",
      "       grad_fn=<ExpBackward>)\n",
      "tensor([[2.7269e-02, 2.7185e-04, 1.2167e-01, 5.7229e-03, 1.0014e-02, 7.0295e-05,\n",
      "         4.2873e-05, 7.7518e-06, 9.8918e-05, 1.4215e-01]], device='cuda:0',\n",
      "       grad_fn=<SigmoidBackward>)\n",
      "tensor([[1.0563e-04, 1.4119e-08, 1.2085e-01, 4.0304e-06, 7.3078e-06, 1.0319e-10,\n",
      "         2.3653e-10, 9.7665e-10, 1.1281e-07, 1.6684e-05]], device='cuda:0',\n",
      "       grad_fn=<MulBackward0>)\n"
     ]
    },
    {
     "data": {
      "image/png": "[encoded data removed]",
      "text/plain": [
       "<Figure size 1008x360 with 4 Axes>"
      ]
     },
     "metadata": {
      "needs_background": "light"
     },
     "output_type": "display_data"
    }
   ],
   "source": [
    "data = next(iter(test_data))\n",
    "x = data[0][0]\n",
    "x = x[None, :, :, :]\n",
    "print(data[2][0])\n",
    "\n",
    "x = x.permute(0,1,3,2)\n",
    "\n",
    "out1 = model(x.cuda()).exp()\n",
    "out2 = get_aux_out(model)[0]\n",
    "print(out1)\n",
    "print(out2)\n",
    "print((out1*out2))\n",
    "\n",
    "import matplotlib.pyplot as plt\n",
    "fig, arr = plt.subplots(1, 4, figsize=(14, 5))\n",
    "arr[0].imshow(x.numpy()[0][0], cmap='gray')\n",
    "arr[1].set_title('Softmax')\n",
    "arr[1].set_xticks(range(10))\n",
    "arr[1].set_yticks([i/10 for i in range(10)])\n",
    "arr[1].set_ylim(0, 1)\n",
    "arr[1].bar(range(10), out1.detach().cpu().numpy()[0])\n",
    "arr[2].set_title('Sigmoid')\n",
    "arr[2].set_xticks(range(10))\n",
    "arr[2].set_yticks([i/10 for i in range(10)])\n",
    "arr[2].set_ylim(0, 1)\n",
    "arr[2].bar(range(10), out2.detach().cpu().numpy()[0])\n",
    "arr[3].set_title('Softmax * Sigmoid')\n",
    "arr[3].set_xticks(range(10))\n",
    "arr[3].set_yticks([i/10 for i in range(10)])\n",
    "arr[3].set_ylim(0, 1)\n",
    "arr[3].bar(range(10), ((out1*out2)).detach().cpu().numpy()[0])\n",
    "plt.show()\n"
   ]
  }
 ],
 "metadata": {
  "kernelspec": {
   "display_name": "Python 3",
   "language": "python",
   "name": "python3"
  },
  "language_info": {
   "codemirror_mode": {
    "name": "ipython",
    "version": 3
   },
   "file_extension": ".py",
   "mimetype": "text/x-python",
   "name": "python",
   "nbconvert_exporter": "python",
   "pygments_lexer": "ipython3",
   "version": "3.6.7"
  }
 },
 "nbformat": 4,
 "nbformat_minor": 2
}
