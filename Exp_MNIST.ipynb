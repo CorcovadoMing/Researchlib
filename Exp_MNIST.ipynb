{
 "cells": [
  {
   "cell_type": "code",
   "execution_count": 1,
   "metadata": {},
   "outputs": [],
   "source": [
    "%load_ext autoreload\n",
    "%autoreload 2"
   ]
  },
  {
   "cell_type": "code",
   "execution_count": 2,
   "metadata": {},
   "outputs": [],
   "source": [
    "from researchlib.single_import import *"
   ]
  },
  {
   "cell_type": "code",
   "execution_count": 3,
   "metadata": {},
   "outputs": [],
   "source": [
    "train_dataset = MNIST(True)\n",
    "test_dataset = MNIST(False)"
   ]
  },
  {
   "cell_type": "code",
   "execution_count": 4,
   "metadata": {},
   "outputs": [],
   "source": [
    "train_x, train_y = train_dataset.train_data.numpy(), train_dataset.train_labels\n",
    "test_x, test_y = test_dataset.test_data.numpy(), test_dataset.test_labels\n",
    "train_y2 = to_one_hot(train_y, 10).numpy()\n",
    "test_y2 = to_one_hot(test_y, 10).numpy()\n",
    "train_y = train_y.numpy()\n",
    "test_y = test_y.numpy()"
   ]
  },
  {
   "cell_type": "code",
   "execution_count": 5,
   "metadata": {},
   "outputs": [],
   "source": [
    "train_data = FromNumpy(train_x[:, None, :, :], [train_y2, train_y], batch_size=256)\n",
    "test_data = FromNumpy(test_x[:, None, :, :], [test_y2, test_y], batch_size=256)"
   ]
  },
  {
   "cell_type": "code",
   "execution_count": 6,
   "metadata": {},
   "outputs": [],
   "source": [
    "class Auxiliary(nn.Module):\n",
    "    def __init__(self, f):\n",
    "        super().__init__()\n",
    "        self.f = f\n",
    "        self.store = None\n",
    "    \n",
    "    def forward(self, x):\n",
    "        # Store the result\n",
    "        # Return the origin value\n",
    "        self.store = self.f(x)\n",
    "        return x "
   ]
  },
  {
   "cell_type": "code",
   "execution_count": 29,
   "metadata": {},
   "outputs": [],
   "source": [
    "model = builder([\n",
    "    nn.Conv2d(1, 20, 5, 1),\n",
    "    nn.ReLU(),\n",
    "    nn.MaxPool2d(2, 2),\n",
    "    nn.Conv2d(20, 50, 5, 1),\n",
    "    nn.ReLU(),\n",
    "    nn.MaxPool2d(2, 2),\n",
    "    Flatten(),\n",
    "    nn.Linear(4*4*50, 500),\n",
    "    nn.ReLU(),\n",
    "    nn.Linear(500, 10),\n",
    "    Auxiliary(nn.Sigmoid()),\n",
    "    nn.Softmax(1)\n",
    "])"
   ]
  },
  {
   "cell_type": "code",
   "execution_count": 30,
   "metadata": {},
   "outputs": [],
   "source": [
    "runner = Runner(model, train_data, test_data, 'adam', ['bce', 'nll'])"
   ]
  },
  {
   "cell_type": "code",
   "execution_count": 31,
   "metadata": {},
   "outputs": [
    {
     "data": {
      "application/vnd.jupyter.widget-view+json": {
       "model_id": "b04b05a00d70440d92ac8cf488c6cb39",
       "version_major": 2,
       "version_minor": 0
      },
      "text/plain": [
       "HBox(children=(IntProgress(value=0, max=4), HTML(value='')))"
      ]
     },
     "metadata": {},
     "output_type": "display_data"
    },
    {
     "data": {
      "application/vnd.jupyter.widget-view+json": {
       "model_id": "",
       "version_major": 2,
       "version_minor": 0
      },
      "text/plain": [
       "HBox(children=(IntProgress(value=0, max=235), HTML(value='')))"
      ]
     },
     "metadata": {},
     "output_type": "display_data"
    },
    {
     "name": "stdout",
     "output_type": "stream",
     "text": [
      "  Epochs    train_loss    train_acc      val_loss      val_acc    \n",
      "================================================================\n",
      "    1*       -0.7955        0.9094       -0.9568        0.9788    \n"
     ]
    },
    {
     "data": {
      "application/vnd.jupyter.widget-view+json": {
       "model_id": "",
       "version_major": 2,
       "version_minor": 0
      },
      "text/plain": [
       "HBox(children=(IntProgress(value=0, max=235), HTML(value='')))"
      ]
     },
     "metadata": {},
     "output_type": "display_data"
    },
    {
     "name": "stdout",
     "output_type": "stream",
     "text": [
      "    2        -0.9716        0.9856       -0.9804        0.9896    \n"
     ]
    },
    {
     "data": {
      "application/vnd.jupyter.widget-view+json": {
       "model_id": "",
       "version_major": 2,
       "version_minor": 0
      },
      "text/plain": [
       "HBox(children=(IntProgress(value=0, max=235), HTML(value='')))"
      ]
     },
     "metadata": {},
     "output_type": "display_data"
    },
    {
     "name": "stdout",
     "output_type": "stream",
     "text": [
      "    3        -0.9831        0.9919       -0.9707        0.9872    \n"
     ]
    },
    {
     "data": {
      "application/vnd.jupyter.widget-view+json": {
       "model_id": "",
       "version_major": 2,
       "version_minor": 0
      },
      "text/plain": [
       "HBox(children=(IntProgress(value=0, max=235), HTML(value='')))"
      ]
     },
     "metadata": {},
     "output_type": "display_data"
    },
    {
     "name": "stdout",
     "output_type": "stream",
     "text": [
      "    4        -0.9848        0.9925       -0.9856        0.9930    \n",
      "\n"
     ]
    }
   ],
   "source": [
    "runner.fit(4)"
   ]
  },
  {
   "cell_type": "code",
   "execution_count": 32,
   "metadata": {},
   "outputs": [],
   "source": [
    "model = runner.model"
   ]
  },
  {
   "cell_type": "code",
   "execution_count": 45,
   "metadata": {},
   "outputs": [
    {
     "name": "stdout",
     "output_type": "stream",
     "text": [
      "tensor([[6.6702e-14, 6.2851e-13, 6.6820e-15, 1.0777e-17, 5.3743e-13, 2.1907e-12,\n",
      "         1.0000e+00, 1.9527e-13, 5.4591e-16, 7.4643e-18]], device='cuda:0',\n",
      "       grad_fn=<SoftmaxBackward>)\n",
      "tensor([[4.4454e-07, 4.1887e-06, 4.4532e-08, 7.1821e-11, 3.5817e-06, 1.4600e-05,\n",
      "         1.0000e+00, 1.3014e-06, 3.6382e-09, 4.9746e-11]], device='cuda:0',\n",
      "       grad_fn=<SigmoidBackward>)\n",
      "tensor([[2.9651e-20, 2.6327e-18, 2.9757e-22, 7.7399e-28, 1.9249e-18, 3.1985e-17,\n",
      "         1.0000e+00, 2.5413e-19, 1.9861e-24, 3.7132e-28]], device='cuda:0',\n",
      "       grad_fn=<MulBackward0>)\n"
     ]
    }
   ],
   "source": [
    "data = next(iter(train_data))\n",
    "x = data[0][0]\n",
    "x = x[None, :, :, :]\n",
    "out1 = model(x.cuda())\n",
    "out2 = get_aux_out(model)[0]\n",
    "print(out1)\n",
    "print(out2)\n",
    "print(out1*out2)\n"
   ]
  },
  {
   "cell_type": "code",
   "execution_count": null,
   "metadata": {},
   "outputs": [],
   "source": []
  }
 ],
 "metadata": {
  "kernelspec": {
   "display_name": "Python 3",
   "language": "python",
   "name": "python3"
  },
  "language_info": {
   "codemirror_mode": {
    "name": "ipython",
    "version": 3
   },
   "file_extension": ".py",
   "mimetype": "text/x-python",
   "name": "python",
   "nbconvert_exporter": "python",
   "pygments_lexer": "ipython3",
   "version": "3.6.7"
  }
 },
 "nbformat": 4,
 "nbformat_minor": 2
}
