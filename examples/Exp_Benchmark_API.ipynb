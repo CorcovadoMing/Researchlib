{
 "cells": [
  {
   "cell_type": "code",
   "execution_count": 1,
   "metadata": {},
   "outputs": [
    {
     "name": "stdout",
     "output_type": "stream",
     "text": [
      "Using GPU 0: Tesla V100-SXM2-16GB-N\n",
      "Driver: 418.40.04\n",
      "Researchlib version 19.08.1\n",
      "Image version: 19.08.1\n",
      "Current version is up-to-date!\n",
      "\n",
      "* Dashboard is open at http://<ip>:8050\n"
     ]
    }
   ],
   "source": [
    "import sys\n",
    "sys.path.append('..')\n",
    "from researchlib.single_import import *"
   ]
  },
  {
   "cell_type": "code",
   "execution_count": 2,
   "metadata": {},
   "outputs": [
    {
     "name": "stdout",
     "output_type": "stream",
     "text": [
      "Files already downloaded and verified\n",
      "Files already downloaded and verified\n",
      "3 64\n",
      "64 64\n",
      "64 64\n",
      "64 64\n",
      "64 128\n",
      "128 128\n",
      "128 128\n",
      "128 128\n",
      "128 256\n",
      "256 256\n",
      "256 256\n",
      "256 256\n",
      "256 512\n",
      "512 512\n",
      "512 512\n",
      "512 512\n"
     ]
    }
   ],
   "source": [
    "train_loader = VisionDataset(vision.CIFAR10, batch_size=128, train=True)\n",
    "test_loader = VisionDataset(vision.CIFAR10, batch_size=128, train=False)\n",
    "model = builder([\n",
    "    # preact=False -> required!!!, make sure go shakedrop layer after BN!!\n",
    "    AutoConvNet2d(3, 15, 'residual', filters=(64, 512), pooling_freq=4, flatten=False, se=False, sn=False, sd=True, preact=False),\n",
    "    nn.AdaptiveMaxPool2d(1),\n",
    "    nn.Flatten(),\n",
    "    nn.Linear(512, 10),\n",
    "    nn.LogSoftmax(-1)\n",
    "])\n",
    "runner = Runner(model, train_loader, test_loader, 'sgd', 'nll', monitor_state='acc', monitor_mode='max', swa=True)"
   ]
  },
  {
   "cell_type": "code",
   "execution_count": 3,
   "metadata": {},
   "outputs": [],
   "source": [
    "runner.init_model('xavier_normal')"
   ]
  },
  {
   "cell_type": "code",
   "execution_count": 4,
   "metadata": {},
   "outputs": [
    {
     "data": {
      "text/plain": [
       "{'ema': -1,\n",
       " 'ema_start': 100,\n",
       " 'swa': True,\n",
       " 'swa_start': 20,\n",
       " 'larc': False,\n",
       " 'train_loader': 'CIFAR10',\n",
       " 'fp16': False,\n",
       " 'preprocessing_list': [],\n",
       " 'augmentation_list': [],\n",
       " 'loss_fn': 'nll_loss',\n",
       " 'optimizer': 'sgd',\n",
       " 'monitor_state': 'acc',\n",
       " 'best_state': -1000000000.0,\n",
       " 'model': {},\n",
       " 'fit': {}}"
      ]
     },
     "execution_count": 4,
     "metadata": {},
     "output_type": "execute_result"
    }
   ],
   "source": [
    "runner.describe()"
   ]
  },
  {
   "cell_type": "code",
   "execution_count": 5,
   "metadata": {},
   "outputs": [],
   "source": [
    "runner.submit_benchmark('Classification')"
   ]
  },
  {
   "cell_type": "code",
   "execution_count": 6,
   "metadata": {},
   "outputs": [
    {
     "data": {
      "application/vnd.jupyter.widget-view+json": {
       "model_id": "aef98da0e7f14be4802c999ba5bd6a47",
       "version_major": 2,
       "version_minor": 0
      },
      "text/plain": [
       "HBox(children=(Output(), Output()))"
      ]
     },
     "metadata": {},
     "output_type": "display_data"
    },
    {
     "data": {
      "application/vnd.jupyter.widget-view+json": {
       "model_id": "8b675dc68c87403cb9f07df17b54aaab",
       "version_major": 2,
       "version_minor": 0
      },
      "text/plain": [
       "HBox(children=(Output(), Output()))"
      ]
     },
     "metadata": {},
     "output_type": "display_data"
    },
    {
     "data": {
      "application/vnd.jupyter.widget-view+json": {
       "model_id": "64a7f2d98a5c4c02a8eb952a4ab48380",
       "version_major": 2,
       "version_minor": 0
      },
      "text/plain": [
       "HBox(children=(Output(), Output()))"
      ]
     },
     "metadata": {},
     "output_type": "display_data"
    },
    {
     "data": {
      "application/vnd.jupyter.widget-view+json": {
       "model_id": "d37c8e59fc48475b8623678ae2b0f484",
       "version_major": 2,
       "version_minor": 0
      },
      "text/plain": [
       "HBox(children=(Output(), Output(), Output()))"
      ]
     },
     "metadata": {},
     "output_type": "display_data"
    }
   ],
   "source": [
    "runner.preprocessing([Scaler([-1, 1])]).augmentation([HFlip(), Zoom()]).fit(1, 1e-1)"
   ]
  },
  {
   "cell_type": "code",
   "execution_count": 7,
   "metadata": {},
   "outputs": [
    {
     "data": {
      "text/plain": [
       "{'ema': -1,\n",
       " 'ema_start': 100,\n",
       " 'swa': True,\n",
       " 'swa_start': 20,\n",
       " 'larc': False,\n",
       " 'train_loader': 'CIFAR10',\n",
       " 'fp16': False,\n",
       " 'preprocessing_list': ['Scaler'],\n",
       " 'augmentation_list': ['HFlip', 'Zoom'],\n",
       " 'loss_fn': 'nll_loss',\n",
       " 'optimizer': 'sgd',\n",
       " 'monitor_state': 'acc',\n",
       " 'best_state': 0.17159999907016754,\n",
       " 'model': {},\n",
       " 'fit': {'epoch_1-2': {'self_iterative': False,\n",
       "   'mixup_alpha': 0,\n",
       "   'policy': 'cyclical',\n",
       "   'lr': 0.1,\n",
       "   'epochs': 1}}}"
      ]
     },
     "execution_count": 7,
     "metadata": {},
     "output_type": "execute_result"
    }
   ],
   "source": [
    "runner.describe()"
   ]
  },
  {
   "cell_type": "code",
   "execution_count": 8,
   "metadata": {},
   "outputs": [],
   "source": [
    "runner.submit_benchmark('Classification')"
   ]
  },
  {
   "cell_type": "code",
   "execution_count": 9,
   "metadata": {},
   "outputs": [
    {
     "name": "stdout",
     "output_type": "stream",
     "text": [
      "Experiment: default\n",
      "Checkpoints are saved in ./checkpoint/default\n"
     ]
    },
    {
     "data": {
      "text/html": [
       "<div>\n",
       "<style scoped>\n",
       "    .dataframe tbody tr th:only-of-type {\n",
       "        vertical-align: middle;\n",
       "    }\n",
       "\n",
       "    .dataframe tbody tr th {\n",
       "        vertical-align: top;\n",
       "    }\n",
       "\n",
       "    .dataframe thead th {\n",
       "        text-align: right;\n",
       "    }\n",
       "</style>\n",
       "<table border=\"1\" class=\"dataframe\">\n",
       "  <thead>\n",
       "    <tr style=\"text-align: right;\">\n",
       "      <th>Epoch</th>\n",
       "      <th>train_loss</th>\n",
       "      <th>train_acc</th>\n",
       "      <th>val_loss</th>\n",
       "      <th>val_acc</th>\n",
       "      <th>saved</th>\n",
       "    </tr>\n",
       "  </thead>\n",
       "  <tbody>\n",
       "    <tr>\n",
       "      <th>1</th>\n",
       "      <td>4.882634</td>\n",
       "      <td>0.12162</td>\n",
       "      <td>2.229242</td>\n",
       "      <td>0.1716</td>\n",
       "      <td>*</td>\n",
       "    </tr>\n",
       "  </tbody>\n",
       "</table>\n",
       "</div>"
      ],
      "text/plain": [
       "Epoch  train_loss  train_acc  val_loss  val_acc saved\n",
       "1        4.882634    0.12162  2.229242   0.1716     *"
      ]
     },
     "execution_count": 9,
     "metadata": {},
     "output_type": "execute_result"
    }
   ],
   "source": [
    "runner.report()"
   ]
  },
  {
   "cell_type": "code",
   "execution_count": 11,
   "metadata": {},
   "outputs": [
    {
     "name": "stdin",
     "output_type": "stream",
     "text": [
      "Are you sure reset these benchmarks: ['Classification', 'Segmentation', 'GAN', 'AnomalyDetection']? [y/n] y\n"
     ]
    },
    {
     "name": "stdout",
     "output_type": "stream",
     "text": [
      "Delete Classification\n",
      "Create Classification\n",
      "Delete Segmentation\n",
      "Create Segmentation\n",
      "Delete GAN\n",
      "Create GAN\n",
      "Delete AnomalyDetection\n",
      "Create AnomalyDetection\n"
     ]
    }
   ],
   "source": [
    "## deleta all, re-create all\n",
    "# runner.bencher.genesis(runner.bencher.categories)"
   ]
  },
  {
   "cell_type": "code",
   "execution_count": null,
   "metadata": {},
   "outputs": [],
   "source": []
  }
 ],
 "metadata": {
  "kernelspec": {
   "display_name": "Python 3",
   "language": "python",
   "name": "python3"
  },
  "language_info": {
   "codemirror_mode": {
    "name": "ipython",
    "version": 3
   },
   "file_extension": ".py",
   "mimetype": "text/x-python",
   "name": "python",
   "nbconvert_exporter": "python",
   "pygments_lexer": "ipython3",
   "version": "3.6.9"
  }
 },
 "nbformat": 4,
 "nbformat_minor": 4
}
