{
 "cells": [
  {
   "cell_type": "code",
   "execution_count": 1,
   "metadata": {},
   "outputs": [
    {
     "name": "stdout",
     "output_type": "stream",
     "text": [
      "Using GPU 0: Tesla V100-SXM2-16GB-N\n",
      "Driver: 418.40.04\n",
      "Researchlib version 19.08.1\n",
      "Image version: 19.08.1\n",
      "Current version is up-to-date!\n",
      "\n",
      "* Dashboard is open at http://<ip>:8050\n"
     ]
    }
   ],
   "source": [
    "from researchlib.single_import import *"
   ]
  },
  {
   "cell_type": "code",
   "execution_count": 2,
   "metadata": {},
   "outputs": [
    {
     "name": "stdout",
     "output_type": "stream",
     "text": [
      "Files already downloaded and verified\n",
      "Files already downloaded and verified\n",
      "3 64\n",
      "64 64\n",
      "64 64\n",
      "64 64\n",
      "64 128\n",
      "128 128\n",
      "128 128\n",
      "128 128\n",
      "128 256\n",
      "256 256\n",
      "256 256\n",
      "256 256\n",
      "256 512\n",
      "512 512\n",
      "512 512\n",
      "512 512\n"
     ]
    }
   ],
   "source": [
    "train_loader = VisionDataset(vision.CIFAR10, batch_size=128, train=True)\n",
    "test_loader = VisionDataset(vision.CIFAR10, batch_size=128, train=False)\n",
    "model = builder([\n",
    "    # preact=False -> required!!!, make sure go shakedrop layer after BN!!\n",
    "    AutoConvNet2d(3, 15, 'residual', filters=(64, 512), pooling_freq=4, flatten=False, se=False, sn=False, sd=True, preact=False),\n",
    "    nn.AdaptiveMaxPool2d(1),\n",
    "    nn.Flatten(),\n",
    "    nn.Linear(512, 10),\n",
    "    nn.LogSoftmax(-1)\n",
    "])\n",
    "runner = Runner(model, train_loader, test_loader, 'sgd', 'nll', monitor_state='acc', monitor_mode='max', swa=True)"
   ]
  },
  {
   "cell_type": "code",
   "execution_count": 3,
   "metadata": {},
   "outputs": [],
   "source": [
    "runner.init_model('xavier_normal')"
   ]
  },
  {
   "cell_type": "code",
   "execution_count": 4,
   "metadata": {},
   "outputs": [
    {
     "data": {
      "application/vnd.jupyter.widget-view+json": {
       "model_id": "71360a6fc72749ae9d127c1eb4832a6d",
       "version_major": 2,
       "version_minor": 0
      },
      "text/plain": [
       "HBox(children=(Output(), Output()))"
      ]
     },
     "metadata": {},
     "output_type": "display_data"
    },
    {
     "data": {
      "application/vnd.jupyter.widget-view+json": {
       "model_id": "a3b144e99e184290b7d6e9d3c25abacc",
       "version_major": 2,
       "version_minor": 0
      },
      "text/plain": [
       "HBox(children=(Output(), Output()))"
      ]
     },
     "metadata": {},
     "output_type": "display_data"
    },
    {
     "data": {
      "application/vnd.jupyter.widget-view+json": {
       "model_id": "4638ccd895a94aa391d46ca8c4645414",
       "version_major": 2,
       "version_minor": 0
      },
      "text/plain": [
       "HBox(children=(Output(), Output()))"
      ]
     },
     "metadata": {},
     "output_type": "display_data"
    },
    {
     "data": {
      "application/vnd.jupyter.widget-view+json": {
       "model_id": "b441c575379b4ed882241bd7d9ff0d72",
       "version_major": 2,
       "version_minor": 0
      },
      "text/plain": [
       "HBox(children=(Output(), Output(), Output()))"
      ]
     },
     "metadata": {},
     "output_type": "display_data"
    }
   ],
   "source": [
    "runner.preprocessing([Scaler([-1, 1])]).augmentation([HFlip(), Zoom()]).fit(2, 1e-1)"
   ]
  },
  {
   "cell_type": "code",
   "execution_count": 5,
   "metadata": {},
   "outputs": [
    {
     "data": {
      "text/plain": [
       "{'ema': -1,\n",
       " 'ema_start': 100,\n",
       " 'swa': True,\n",
       " 'swa_start': 20,\n",
       " 'larc': False,\n",
       " 'train_loader': 'CIFAR10',\n",
       " 'fp16': False,\n",
       " 'preprocessing_list': ['Scaler'],\n",
       " 'augmentation_list': ['HFlip', 'Zoom'],\n",
       " 'loss_fn': 'nll_loss',\n",
       " 'optimizer': 'sgd',\n",
       " 'monitor_state': 'acc',\n",
       " 'best_state': 0.11429999768733978,\n",
       " 'model': {},\n",
       " 'fit': {'epoch_1-3': {'self_iterative': False,\n",
       "   'mixup_alpha': 0,\n",
       "   'policy': 'cyclical',\n",
       "   'lr': 0.1,\n",
       "   'epochs': 2}}}"
      ]
     },
     "execution_count": 5,
     "metadata": {},
     "output_type": "execute_result"
    }
   ],
   "source": [
    "runner.describe()"
   ]
  },
  {
   "cell_type": "code",
   "execution_count": 6,
   "metadata": {},
   "outputs": [],
   "source": [
    "runner.submit_benchmark('Classification')"
   ]
  },
  {
   "cell_type": "code",
   "execution_count": 7,
   "metadata": {},
   "outputs": [
    {
     "data": {
      "application/vnd.jupyter.widget-view+json": {
       "model_id": "f73ca9efb32a4c85ba84ec8844a1d73a",
       "version_major": 2,
       "version_minor": 0
      },
      "text/plain": [
       "HBox(children=(Output(), Output()))"
      ]
     },
     "metadata": {},
     "output_type": "display_data"
    },
    {
     "data": {
      "application/vnd.jupyter.widget-view+json": {
       "model_id": "c7c95a1b79334147bb46d68a5eff7839",
       "version_major": 2,
       "version_minor": 0
      },
      "text/plain": [
       "HBox(children=(Output(), Output()))"
      ]
     },
     "metadata": {},
     "output_type": "display_data"
    },
    {
     "data": {
      "application/vnd.jupyter.widget-view+json": {
       "model_id": "4f176f15e02149139e5d1f1e793500d5",
       "version_major": 2,
       "version_minor": 0
      },
      "text/plain": [
       "HBox(children=(Output(), Output()))"
      ]
     },
     "metadata": {},
     "output_type": "display_data"
    },
    {
     "data": {
      "application/vnd.jupyter.widget-view+json": {
       "model_id": "47d14edabc274ddc9015f515259254b7",
       "version_major": 2,
       "version_minor": 0
      },
      "text/plain": [
       "HBox(children=(Output(), Output(), Output()))"
      ]
     },
     "metadata": {},
     "output_type": "display_data"
    }
   ],
   "source": [
    "runner.preprocessing([Scaler([-1, 1])]).augmentation([HFlip(), Zoom()]).fit(2, 1e-1)"
   ]
  },
  {
   "cell_type": "code",
   "execution_count": 8,
   "metadata": {},
   "outputs": [
    {
     "data": {
      "text/plain": [
       "{'ema': -1,\n",
       " 'ema_start': 100,\n",
       " 'swa': True,\n",
       " 'swa_start': 20,\n",
       " 'larc': False,\n",
       " 'train_loader': 'CIFAR10',\n",
       " 'fp16': False,\n",
       " 'preprocessing_list': ['Scaler'],\n",
       " 'augmentation_list': ['HFlip', 'Zoom'],\n",
       " 'loss_fn': 'nll_loss',\n",
       " 'optimizer': 'sgd',\n",
       " 'monitor_state': 'acc',\n",
       " 'best_state': 0.22280000150203705,\n",
       " 'model': {},\n",
       " 'fit': {'epoch_1-3': {'self_iterative': False,\n",
       "   'mixup_alpha': 0,\n",
       "   'policy': 'cyclical',\n",
       "   'lr': 0.1,\n",
       "   'epochs': 2},\n",
       "  'epoch_3-5': {'self_iterative': False,\n",
       "   'mixup_alpha': 0,\n",
       "   'policy': 'cyclical',\n",
       "   'lr': 0.1,\n",
       "   'epochs': 2}}}"
      ]
     },
     "execution_count": 8,
     "metadata": {},
     "output_type": "execute_result"
    }
   ],
   "source": [
    "runner.describe()"
   ]
  },
  {
   "cell_type": "code",
   "execution_count": 9,
   "metadata": {},
   "outputs": [],
   "source": [
    "runner.submit_benchmark('Classification')"
   ]
  },
  {
   "cell_type": "code",
   "execution_count": 10,
   "metadata": {},
   "outputs": [
    {
     "name": "stdout",
     "output_type": "stream",
     "text": [
      "Experiment: default\n",
      "Checkpoints are saved in ./checkpoint/default\n"
     ]
    },
    {
     "data": {
      "text/html": [
       "<div>\n",
       "<style scoped>\n",
       "    .dataframe tbody tr th:only-of-type {\n",
       "        vertical-align: middle;\n",
       "    }\n",
       "\n",
       "    .dataframe tbody tr th {\n",
       "        vertical-align: top;\n",
       "    }\n",
       "\n",
       "    .dataframe thead th {\n",
       "        text-align: right;\n",
       "    }\n",
       "</style>\n",
       "<table border=\"1\" class=\"dataframe\">\n",
       "  <thead>\n",
       "    <tr style=\"text-align: right;\">\n",
       "      <th>Epoch</th>\n",
       "      <th>train_loss</th>\n",
       "      <th>train_acc</th>\n",
       "      <th>val_loss</th>\n",
       "      <th>val_acc</th>\n",
       "      <th>saved</th>\n",
       "    </tr>\n",
       "  </thead>\n",
       "  <tbody>\n",
       "    <tr>\n",
       "      <th>1</th>\n",
       "      <td>4.705996</td>\n",
       "      <td>0.10744</td>\n",
       "      <td>2.471102</td>\n",
       "      <td>0.1058</td>\n",
       "      <td>*</td>\n",
       "    </tr>\n",
       "    <tr>\n",
       "      <th>2</th>\n",
       "      <td>2.791543</td>\n",
       "      <td>0.10724</td>\n",
       "      <td>2.297081</td>\n",
       "      <td>0.1143</td>\n",
       "      <td>*</td>\n",
       "    </tr>\n",
       "    <tr>\n",
       "      <th>3</th>\n",
       "      <td>2.478220</td>\n",
       "      <td>0.12184</td>\n",
       "      <td>2.263649</td>\n",
       "      <td>0.1369</td>\n",
       "      <td>*</td>\n",
       "    </tr>\n",
       "    <tr>\n",
       "      <th>4</th>\n",
       "      <td>2.450001</td>\n",
       "      <td>0.15030</td>\n",
       "      <td>2.086496</td>\n",
       "      <td>0.2228</td>\n",
       "      <td>*</td>\n",
       "    </tr>\n",
       "  </tbody>\n",
       "</table>\n",
       "</div>"
      ],
      "text/plain": [
       "Epoch  train_loss  train_acc  val_loss  val_acc saved\n",
       "1        4.705996    0.10744  2.471102   0.1058     *\n",
       "2        2.791543    0.10724  2.297081   0.1143     *\n",
       "3        2.478220    0.12184  2.263649   0.1369     *\n",
       "4        2.450001    0.15030  2.086496   0.2228     *"
      ]
     },
     "execution_count": 10,
     "metadata": {},
     "output_type": "execute_result"
    }
   ],
   "source": [
    "runner.report()"
   ]
  },
  {
   "cell_type": "code",
   "execution_count": null,
   "metadata": {},
   "outputs": [],
   "source": []
  }
 ],
 "metadata": {
  "kernelspec": {
   "display_name": "Python 3",
   "language": "python",
   "name": "python3"
  },
  "language_info": {
   "codemirror_mode": {
    "name": "ipython",
    "version": 3
   },
   "file_extension": ".py",
   "mimetype": "text/x-python",
   "name": "python",
   "nbconvert_exporter": "python",
   "pygments_lexer": "ipython3",
   "version": "3.6.9"
  }
 },
 "nbformat": 4,
 "nbformat_minor": 4
}
