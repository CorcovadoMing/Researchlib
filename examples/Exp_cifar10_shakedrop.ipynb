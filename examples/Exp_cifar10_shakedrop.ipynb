{
 "cells": [
  {
   "cell_type": "code",
   "execution_count": 1,
   "metadata": {
    "scrolled": true
   },
   "outputs": [],
   "source": [
    "%load_ext autoreload\n",
    "%autoreload 2"
   ]
  },
  {
   "cell_type": "code",
   "execution_count": 3,
   "metadata": {},
   "outputs": [
    {
     "data": {
      "text/plain": [
       "True"
      ]
     },
     "execution_count": 3,
     "metadata": {},
     "output_type": "execute_result"
    }
   ],
   "source": [
    "import redis\n",
    "import pickle\n",
    "r = redis.Redis()\n",
    "r.set('experiment', pickle.dumps([]))"
   ]
  },
  {
   "cell_type": "code",
   "execution_count": 4,
   "metadata": {},
   "outputs": [
    {
     "name": "stdout",
     "output_type": "stream",
     "text": [
      "Using GPU 0: Tesla V100-SXM2-16GB-N\n",
      "Driver: 418.40.04\n",
      "Researchlib version 19.08.1\n",
      "Image version: 19.08.1\n",
      "Current version is up-to-date!\n",
      " * Serving Flask app \"researchlib.frontend.dashboard\" (lazy loading)\n",
      " * Environment: production\n",
      "   WARNING: This is a development server. Do not use it in a production deployment.\n",
      "   Use a production WSGI server instead.\n",
      " * Debug mode: off\n",
      "\n",
      "* Dashboard is open at http://<ip>:8050\n"
     ]
    }
   ],
   "source": [
    "import sys\n",
    "sys.path.append('..')\n",
    "from researchlib.single_import import *"
   ]
  },
  {
   "cell_type": "code",
   "execution_count": 5,
   "metadata": {},
   "outputs": [
    {
     "name": "stdout",
     "output_type": "stream",
     "text": [
      "Files already downloaded and verified\n",
      "Files already downloaded and verified\n"
     ]
    }
   ],
   "source": [
    "train_loader = VisionDataset(vision.CIFAR10, batch_size=256, train=True)\n",
    "test_loader = VisionDataset(vision.CIFAR10, batch_size=256, train=False)"
   ]
  },
  {
   "cell_type": "code",
   "execution_count": 6,
   "metadata": {},
   "outputs": [
    {
     "name": "stdout",
     "output_type": "stream",
     "text": [
      "3 64\n",
      "64 64\n",
      "64 64\n",
      "64 64\n",
      "64 128\n",
      "128 128\n",
      "128 128\n",
      "128 128\n",
      "128 256\n",
      "256 256\n",
      "256 256\n",
      "256 256\n",
      "256 512\n",
      "512 512\n",
      "512 512\n",
      "512 512\n"
     ]
    }
   ],
   "source": [
    "model = builder([\n",
    "    AutoConvNet2d(3, 15, 'residual', filters=(64, 512), pooling_freq=4, flatten=False, se=False, sn=False, sd=True),\n",
    "    nn.AdaptiveMaxPool2d(1),\n",
    "    nn.Flatten(),\n",
    "    nn.Linear(512, 10),\n",
    "    nn.Softmax(-1)\n",
    "])"
   ]
  },
  {
   "cell_type": "code",
   "execution_count": 7,
   "metadata": {},
   "outputs": [],
   "source": [
    "runner = Runner(model, train_loader, test_loader, 'nesterov', 'nl', monitor_state='acc', monitor_mode='max', swa=False)"
   ]
  },
  {
   "cell_type": "code",
   "execution_count": 8,
   "metadata": {},
   "outputs": [],
   "source": [
    "runner.init_model('default')"
   ]
  },
  {
   "cell_type": "code",
   "execution_count": 9,
   "metadata": {
    "scrolled": true
   },
   "outputs": [
    {
     "data": {
      "application/vnd.jupyter.widget-view+json": {
       "model_id": "b02f0b72670146b3b203a9bbe83dc8c9",
       "version_major": 2,
       "version_minor": 0
      },
      "text/plain": [
       "HBox(children=(Output(), Output()))"
      ]
     },
     "metadata": {},
     "output_type": "display_data"
    },
    {
     "data": {
      "application/vnd.jupyter.widget-view+json": {
       "model_id": "087a494ca893493e98f6e535e6745fe3",
       "version_major": 2,
       "version_minor": 0
      },
      "text/plain": [
       "HBox(children=(Output(), Output()))"
      ]
     },
     "metadata": {},
     "output_type": "display_data"
    },
    {
     "data": {
      "application/vnd.jupyter.widget-view+json": {
       "model_id": "229bbabcdbac4b9b9219f1e82303ba78",
       "version_major": 2,
       "version_minor": 0
      },
      "text/plain": [
       "HBox(children=(Output(), Output()))"
      ]
     },
     "metadata": {},
     "output_type": "display_data"
    },
    {
     "data": {
      "application/vnd.jupyter.widget-view+json": {
       "model_id": "e6236ecfed814a5889cb6bf73a41ab12",
       "version_major": 2,
       "version_minor": 0
      },
      "text/plain": [
       "HBox(children=(Output(), Output(), Output()))"
      ]
     },
     "metadata": {},
     "output_type": "display_data"
    }
   ],
   "source": [
    "runner.preprocessing([Scaler([-1, 1])]).augmentation([HFlip(), Zoom()]).fit(2, lr=1e-2)"
   ]
  },
  {
   "cell_type": "code",
   "execution_count": 10,
   "metadata": {},
   "outputs": [
    {
     "name": "stdout",
     "output_type": "stream",
     "text": [
      "Experiment: default2019-08-14_08:51:38.109626\n",
      "Checkpoints are saved in ./checkpoint/default2019-08-14_08:51:38.109626\n"
     ]
    },
    {
     "data": {
      "text/html": [
       "<div>\n",
       "<style scoped>\n",
       "    .dataframe tbody tr th:only-of-type {\n",
       "        vertical-align: middle;\n",
       "    }\n",
       "\n",
       "    .dataframe tbody tr th {\n",
       "        vertical-align: top;\n",
       "    }\n",
       "\n",
       "    .dataframe thead th {\n",
       "        text-align: right;\n",
       "    }\n",
       "</style>\n",
       "<table border=\"1\" class=\"dataframe\">\n",
       "  <thead>\n",
       "    <tr style=\"text-align: right;\">\n",
       "      <th>Epoch</th>\n",
       "      <th>train_loss</th>\n",
       "      <th>train_acc</th>\n",
       "      <th>val_loss</th>\n",
       "      <th>val_acc</th>\n",
       "      <th>saved</th>\n",
       "    </tr>\n",
       "  </thead>\n",
       "  <tbody>\n",
       "    <tr>\n",
       "      <th>1</th>\n",
       "      <td>2.033383</td>\n",
       "      <td>0.24522</td>\n",
       "      <td>1.551363</td>\n",
       "      <td>0.4162</td>\n",
       "      <td>*</td>\n",
       "    </tr>\n",
       "    <tr>\n",
       "      <th>2</th>\n",
       "      <td>1.750842</td>\n",
       "      <td>0.36172</td>\n",
       "      <td>1.411103</td>\n",
       "      <td>0.4866</td>\n",
       "      <td>*</td>\n",
       "    </tr>\n",
       "  </tbody>\n",
       "</table>\n",
       "</div>"
      ],
      "text/plain": [
       "Epoch  train_loss  train_acc  val_loss  val_acc saved\n",
       "1        2.033383    0.24522  1.551363   0.4162     *\n",
       "2        1.750842    0.36172  1.411103   0.4866     *"
      ]
     },
     "execution_count": 10,
     "metadata": {},
     "output_type": "execute_result"
    }
   ],
   "source": [
    "runner.report()"
   ]
  },
  {
   "cell_type": "code",
   "execution_count": null,
   "metadata": {},
   "outputs": [],
   "source": []
  }
 ],
 "metadata": {
  "kernelspec": {
   "display_name": "Python 3",
   "language": "python",
   "name": "python3"
  },
  "language_info": {
   "codemirror_mode": {
    "name": "ipython",
    "version": 3
   },
   "file_extension": ".py",
   "mimetype": "text/x-python",
   "name": "python",
   "nbconvert_exporter": "python",
   "pygments_lexer": "ipython3",
   "version": "3.6.9"
  },
  "widgets": {
   "application/vnd.jupyter.widget-state+json": {
    "state": {
     "004783a1c0a8409faf54ca8064e30f15": {
      "model_module": "@jupyter-widgets/base",
      "model_module_version": "1.2.0",
      "model_name": "LayoutModel",
      "state": {}
     },
     "042009596559409d8b06d0a3037b6738": {
      "model_module": "@jupyter-widgets/output",
      "model_module_version": "1.0.0",
      "model_name": "OutputModel",
      "state": {
       "layout": "IPY_MODEL_89fd516266d84cb3b5698b1706d7a4f9",
       "outputs": [
        {
         "data": {
          "application/vnd.jupyter.widget-view+json": {
           "model_id": "2921d7f4740649c29b3032af0c568c2c",
           "version_major": 2,
           "version_minor": 0
          },
          "text/plain": "Label(value='Initialization')"
         },
         "metadata": {},
         "output_type": "display_data"
        }
       ]
      }
     },
     "06b91377344b497ba7cf4b251fe480f5": {
      "model_module": "@jupyter-widgets/controls",
      "model_module_version": "1.5.0",
      "model_name": "IntProgressModel",
      "state": {
       "bar_style": "info",
       "layout": "IPY_MODEL_a695612cec174e68b630db5a6ac956c2",
       "max": 196,
       "style": "IPY_MODEL_a9957f394a64400ab62da579d571c8f5",
       "value": 196
      }
     },
     "0cce34a5c90c4130b2933e14e11eb679": {
      "model_module": "@jupyter-widgets/base",
      "model_module_version": "1.2.0",
      "model_name": "LayoutModel",
      "state": {}
     },
     "0ceee05523f84627a32535bed4677205": {
      "model_module": "@jupyter-widgets/base",
      "model_module_version": "1.2.0",
      "model_name": "LayoutModel",
      "state": {}
     },
     "0f1639c32ce749d19234dd7af9c365ef": {
      "model_module": "@jupyter-widgets/base",
      "model_module_version": "1.2.0",
      "model_name": "LayoutModel",
      "state": {}
     },
     "10f2d8ea2b3546d8a7847bd08e616105": {
      "model_module": "@jupyter-widgets/output",
      "model_module_version": "1.0.0",
      "model_name": "OutputModel",
      "state": {
       "layout": "IPY_MODEL_32ecfc8f52f8410aa95db65a7f1336c3",
       "outputs": [
        {
         "name": "stdout",
         "output_type": "stream",
         "text": "  Epochs    train_loss    train_acc      val_loss      val_acc    \n================================================================\n    1*        1.3785        0.4946        1.6474        0.4907    \n    2*        0.7102        0.7505        0.5688        0.8027    \n    3         0.5598        0.8035        0.8596        0.7189    \n    4*        0.4621        0.8395        0.4289        0.8525    \n"
        }
       ]
      }
     },
     "1870e79385c2422090c441b5767f0fb1": {
      "model_module": "@jupyter-widgets/controls",
      "model_module_version": "1.5.0",
      "model_name": "ProgressStyleModel",
      "state": {
       "description_width": ""
      }
     },
     "2921d7f4740649c29b3032af0c568c2c": {
      "model_module": "@jupyter-widgets/controls",
      "model_module_version": "1.5.0",
      "model_name": "LabelModel",
      "state": {
       "layout": "IPY_MODEL_0f1639c32ce749d19234dd7af9c365ef",
       "style": "IPY_MODEL_991fb721bad14a40ace1d668895c8b10",
       "value": "Epoch: 4, Loss: 0.4620605"
      }
     },
     "31cd55290e864943b2bd2ba21c94abfc": {
      "model_module": "@jupyter-widgets/base",
      "model_module_version": "1.2.0",
      "model_name": "LayoutModel",
      "state": {}
     },
     "32ecfc8f52f8410aa95db65a7f1336c3": {
      "model_module": "@jupyter-widgets/base",
      "model_module_version": "1.2.0",
      "model_name": "LayoutModel",
      "state": {}
     },
     "338bcb22d36f4f269e85f7d5a0b2eae8": {
      "model_module": "@jupyter-widgets/base",
      "model_module_version": "1.2.0",
      "model_name": "LayoutModel",
      "state": {}
     },
     "34f1984cd1834fb99bd9633dc6ba2be5": {
      "model_module": "@jupyter-widgets/base",
      "model_module_version": "1.2.0",
      "model_name": "LayoutModel",
      "state": {}
     },
     "350d2eae367f4555b72a7ea87f3d826d": {
      "model_module": "@jupyter-widgets/output",
      "model_module_version": "1.0.0",
      "model_name": "OutputModel",
      "state": {
       "layout": "IPY_MODEL_34f1984cd1834fb99bd9633dc6ba2be5",
       "outputs": [
        {
         "data": {
          "image/png": "iVBORw0KGgoAAAANSUhEUgAAA1gAAAEYCAYAAABBWFftAAAABHNCSVQICAgIfAhkiAAAAAlwSFlzAAALEgAACxIB0t1+/AAAADh0RVh0U29mdHdhcmUAbWF0cGxvdGxpYiB2ZXJzaW9uMy4xLjAsIGh0dHA6Ly9tYXRwbG90bGliLm9yZy+17YcXAAAgAElEQVR4nOzdd3xUVd7H8c/MpPdGIJBCCORQIgJBBJSOIir2XXUt7K67Ym9r3edxXV0fC2Lv7rrNvtjXVZAqvUVBETihJhSRFppCgCTPH3cShmyARCbclO/79coL5paZ350BnS/nnN/1VFRUICIiIiIiIsfO63YBIiIiIiIiTYUCloiIiIiISJAoYImIiIiIiASJApaIiIiIiEiQKGCJiIiIiIgEiQKWiIiIiIhIkChgiYiIiIiIBEmI2wWIiEjjY4xJA14GegJpQLa1ds0Rju8GPAt0BXYBL1tr/xSw/+fA/UA6sBb4vbX2Q/++cOAR4GIgEngLuNlau9+/fyrQGzjgf7r11loT8Ny/AB4GUoAJwK+ttdv8+5KAV4HTgS3APdbaNwPObQE8DZwFlAOfWmsvC6j5FqAbMM9aOzDgvH7AZ9XehmjgImvte7W4prbAC0AfoBR4F7jFWnsg4P18FegELAWustYu9O9L8Nc83P+6L1hr/xhQ2xqgJVDm3zTLWnu6f99LwOUBNYcC+6y1sYiISK1oBEtEpIkzxtTHP6aVA+OAC2t5/JvANCAJGABcZ4w5x19fG+B14DYgDrgDeNMYk+o/926cIJcH5AI9gP+t9vw3WGtj/D+B4aoLThC8AidU/IgTXCo9D+zz77sMeNF/TqX3gY1AJpAKjAnYtw14CicoHcJaOz2gnhjgbGA3zntWm2t6AdiEE167Vb5n/msKAz7yv2eJwD+Aj/zbAZ4EooC2QC/gCmPMr6qVOCKgvtMD6r6mWt1vAWOrX5+IiByeRrBERBoo/0jDc8CVQBbOl/OR1tq9/v2/Be7CCS0zgGustRv8+yqAG3BGWEKAbP+264FbgVY44eDvwGs4X/THAZdba/cdrTZr7ffAC3UIb22BN6y1ZcBKY8wMoAvwMc6o1XZrbeWIz3+MMT8AOTghYwTwaMCo0zPAo8B9tXjdy4B/W2un+c+9F1hqjInFCYkXAnnW2t3ADGPMxzhh7G5jzOlABjDQXzfAVwHvwUT/c/6mFnWMBN611v7gf3y0a8oGnvN/1huNMeP87xfAQJzP9ClrbQXwjDHmdmAwzmc4Ahhurf0RWGOMeRX4NfC3WtRZxRgTjfP+nF2X80REmjuNYImINGw/B87A+cLdFfglgDFmMM60t5/jjHIUAW9XO/c84GSgc8C2YUA+zpS6O4FXcKaEZeCErEsrDzTGbDfGnBqk63gKuNIYE2qMMThT3yb69y3ACT3nGGN8xpjzcKbFfR1wvqfa79ONMfEB2x42xmwxxsw0xgwM2N4FWFT5wFq7EmfEKtf/c8BaWxhw/CIOBpnegAX+YYzZaoyZb4wZUNcL9weVi3BGmgId6ZqeAi4xxkT5R/iGc3D0qwvwtT9cVfo6oO6anjuv2mu/YYzZbIz53Bhz4mFKvxDYjDPyKCIitaSAJSLSsD1jrd3gH+n4N850MXBGZv5qrf3SWlsK3AP08a/dqfSwtXabtXZPwLbR1tqd1tpvgcXA59baVdbaHThrhrpXHmitTbDWzgjSdXyCEzL2AMuAV6218/2vUwb8E2caYan/11EBoz3jgJuNMS2MMa2Am/zbo/y/3gW0A9rgBMZ/G2Ny/PtigB3VatkBxPr37TzMPnBG1k4HpuCM+D2OMxUvpY7XfgHO+q4vArYd7Zqm4QSmncA6nBD6YS2uqfK57zbGxBpj2uOMXkUFHHsZzohilv/axvvXbVU3EvhntSAnIiJHoYAlItKwbQz4/Y84X64BWuOMWgHgn+K2FSdkVFpbw/N9H/D7PTU8jiHI/I0kxgEPABE4o2XDjDGVa4qGAqNxpr6F4aw3+ou/kQPA/+FMzVsIzMIJGvsra7fWzrXW7rLWllpr/wHMBM70n7sbZ11XoDicRhtH2gfO+7HGWvuqtXa/tfZtnPf0lDq+BTUFlcNekzHGi/N+vY/TGCMFZ63Vo7W4JnDC2h5gOc5arbdwQhoA1tqZ1to91tofrbUPA9uBfoFPZozJxPk8/lnHaxURafYUsEREGqcNOCMQQNU0tGRgfcAxDWXkoR1QZq39p7X2gLV2Hc50xsoQ1A2YZq1dYK0t949szQWGAvjDwA3W2jbW2nY4QbLAWlt+mNer4OAUuW+Bqilwxph2QDhQ6P8JMcZ0CDj3RP854Ey7q/4e1uk9NcZkUENQOco1JeE01XjOHxq34qyfqny/vgW6GmMCpwF2razbP2p5mbW2lbW2C87/6+cdoczA96vSFcBMa+2qulyviIioyYWISGP1FvCWMeZNnDbdDwFzj9QqPdiMMRGAz/8w3BgTUdmAo5pCwONvl/42Tje+i3GmpwHMx5nS1s1au9AY0x1nROUF/+u0wQkB3+GsKbsXuMq/L8G/7QucNu0XA/2Bm/3P/QYw2982/UucUbT3rbW7/Oe/Dzzgb1TRDTgX6Os/9wNgjDFmJE7HvvNxpg3O9J/rw2ljHgJ4/e9HWWWrdb8rcNqgr6z23h32mqy1W4wxq4FrjTFjcEYVR3JwTdpUnBbrN/nbqv/Wv32y/7lzcEaltuNMcbwaZ1SwcmQqw/+ee4EbcUbIZnKoKzk4YiYiInWgESwRkUbI38HuXuA9nC/pOcAlwXwNY8xufzA5nD0409XAWVdVtdbLGPOS/8s/1tqdOOuQbgVKcKbFLQYe9O//Avgj8K4xZhfONT1krf3c/3Q5ONPofsBpFHF3wL5Q//NsxlnndCNwXmXjCv9as2twgtYmnHVK1wVcw3U496HahBNar/Wfg3/d2znA7ThrnO4GzrXWbvGfe4X/ml/ECYR7gD9Xe4+u5L+bWxztmvC/X2f4r2sFzvTBW/117cNpYHIlToj6tf+aK7s/5gPf4EwZfBi4rPKa/Nf/Is7nsN7/GsP9o2QAGGP64ARJtWcXEfkJPBUVDWUGiYiIiIiISOOmESwREREREZEgUcASEREREREJEgUsERERERGRIGkQXQQLCgrCgZNwFmqXuVyOiIiIiIjIkfiANGB+fn5+aeCOBhGwcMLVdLeLEBERERERqYN+wIzADbUKWMaYD4FsoBynJe+N1tqFhznW4Nyd/gVr7e21LOw7gNzcXMLCwmp5ioiIiIiIyPG3b98+CgsLwZ9jAtV2BGuktXYHgDHmXOCvQI/qB/lvuvgy8GEdaywDCAsLIzw8vI6nioiIiIiIuOK/ljfVKmBVhiu/eJyRrJrcDXyCc9f5mLpWJyIiIiIi0pjVeg2WMeYvwOmAB+fO79X3nwgMAwYB9warQBERERERkcai1m3arbW/sdZmAr8HHgvcZ4wJBV4BrrHWqgugiIiIiIg0S3XuImitfc0Y84oxJtlau9W/OQ3IAT51elyQAHiMMXHW2quDV66IiIiIiNSX8vJytmzZwvbt2ykr07hJREQE6enphIaG1vqcowYsY0wMkGitXet/PALY5v8BwFpbDKQEnPNHIKYOXQRFRERERMRl69atw+Px0LZtW0JDQ/F4PG6X5JqKigq2bt3KunXryM7OrvV5tRnBigbGGmOicbpkbANGWGsrjDGfAn+w1i74SVWLiIiIiEiD8cMPP2CMweut9UqiJsvj8ZCcnMzmzZvrdN5RA5a19nug92H2nXmY7X+sUxUN0PK1JSws3MzwPm2JidK9uURERESkeVC4OuinjODp3TuM9Zt289pnS7n64Yl8PG0l+w8crjO9iIiIiIiIQwHrMAbmZ/D0bQPJaZPAnz9azPWjJzNz0QYqKircLk1ERERERBooBawjyG4dzwOj+vDH3/YmLNTLI/+cz53PTmfp6m1HP1lERERERBqE49kRsc5t2psbj8dDfseWdMtNZdL8Yt4Yt5Q7n5tO365pjDyrM61TYtwuUURERESkXkxeUMyEecX18tyn9cpkcM/Mox5njOHWW29lwoQJbN++nTvvvJNhw4YBMG3aNJ544gnKyspISkrigQceICsri7lz5/Lggw+Sl5fHkiVLuOWWWxg/fjxhYWGsWbOGtWvXctpppzFo0CCeffZZNm7cyMiRIxk5cuQxX5cCVi35vB5OPzmL/t3a8MEXK3l/ynLmfbuRM/tmc/FphrhoNcIQEREREakPMTExvPfeexQUFHDLLbcwbNgwtm7dyp133snrr79O+/btGTt2LLfffjtjx44FYMWKFTzwwAN0794dgPHjx7N8+XL+8Y9/UFZWxuDBg9m1axevv/46mzdv5owzzuCiiy4iOjr6mGpVwKqjiPAQLj3dMKx3Fm+OX8YnM1YxaX4xPx+ay9mntiMs1Od2iSIiIiIiQTG4Z+1GmerbmWc6zcu7devGpk2bKC0tZdGiRXTs2JH27dsDcOGFF3L//feze/duALKysqrCVaWhQ4cSFuYMjGRnZzNgwAC8Xi8tW7YkLi6OjRs3kpOTc0y1ag3WT5QUF8ENP+vGM7cPolN2Mn/7ZAnXPjqJqV+uo7xcjTBERERERIIlPDwcAJ/PGcw4cODAUc+Jioo67PNUPlf1x8FYq6WAdYyyWsVx32968+CovsREhvH4GwX87ukv+GbFFrdLExERERFpsrp168ayZctYuXIlAB988AGdO3cmJsbdHgmaIhgkJ+a24MlbBzD1y3W89ukSfv/iTHp1bsUvz+5MRstYt8sTEREREWlSkpKSGD16NLfffjsHDhwgKSmJxx57zO2y8DSE+zoVFBS0BVbn5eUdMkzXWJXuL+PjaSsZO2k5pfvLGHZyFpcOMyTGRrhdmoiIiIjIYS1dupROnTq5XUaDUtN7UlpayuLFiwGy8/Pz1wTu0whWPQgP9fGzIbmcfnIWb39u+Wz2GqZ+uZYLB3fg3P45RITpbRcRERERaYq0BqsexceEM+qCrjx/52C65aby+mfLuOaRSUycV0yZGmGIiIiIiDQ5CljHQZsWMfz+l7145PpTSY6P4Ol3vuKWJ6byld3kdmkiIiIiIhJECljHUZd2yYy5qT93Xt6TH0sP8IdXZnPfK7NZ891Ot0sTEREREQGgvLzc7RIajJ/Sr0IB6zjzeDz0696Gl+4azFXndMEWl3Dz41N45p2v2Lpjj9vliYiIiEgzFh0dzfr169m3b99PChdNSUVFBVu3biUiom6N6tRtwSWhIT7OG9CeISdl8q+JhXwyYxXTFq7n/AHtuWBQeyLD9dGIiIiIyPGVnp7Oli1bKCoqqtXNfJu6iIgI0tPT63SOvsW7LDYqjKvOyeOsU7L556dLeXuCZdycNVw2rCOn9crE59Mgo4iIiIgcH16vl9TUVFJTU90updHSt/cGolVyNHde0ZMxN/WjdUo0z7+7iBsfn8r8JRub/fCsiIiIiEhjUasRLGPMh0A2UA7sBm601i6sdsy9wCVAGbAf+L21dnxwy236TFYSj1x/KnMWf8ffP1nCA6/OpWv7FH41ogvt0xPcLk9ERERERI6gtiNYI621J1pruwNjgL/WcMw84CRrbVfg18A7xpjIINXZrHg8Hvqc0Jrn7xzMqPNPYPWGndz65Bc88WYBm0p+dLs8ERERERE5jFqNYFlrdwQ8jMcZyap+TOBo1deAB0gG1h1Lgc1ZiM/L2ae2Y1B+Bu9OXs5H01YyY9EGzu2fw0WDOxAdGep2iSIiIiIiEqDWTS6MMX8BTscJTmcc5fArgZXWWoWrIIiODGXkWZ0Z3rctr3+2lHcnL+fzuUVcerrhjD5tCVEjDBERERGRBqHW38yttb+x1mYCvwceO9xxxpgBwJ+AS4+9PAmUmhjFbb/I58lbB9A2LY6XP/iG60dPZvY3G9QIQ0RERESkAajz0Ie19jVgkDEmufo+Y0wf4HXgPGutDUJ9UoP26Qk8eE1f/nDVyfh8Hh76+3zufn4Gtmib26WJiIiIiDRrR50iaIyJARKttWv9j0cA2/w/gcedBLwDXGSt/bIeapUAHo+Hkzq3oodJ5fN5xbw5fhm3PzOdft3acOWZnWiVHO12iSIiIiIizU5t1mBFA2ONMdE4Ldi3ASOstRXGmE+BP1hrFwAvAJHAy8aYynOvsNZ+Uw91i5/P52V4n7YM6N6G96eu4IOpK5n9zQbOPrUdPx+aS2xUmNslioiIiIg0G56GsHanoKCgLbA6Ly+P8PBwt8tp1Lbu2MMb45YxcX4x0RGhXHxaLmedkk1oiM/t0kREREREmoTS0lIWL14MkJ2fn78mcJ/azzUxyfGR3HRxd56+bSC5mYm8+vG3XPvoZKZ/tV6NMERERERE6pkCVhOV3Tqe+6/uw/1X9yEyPITRry/gjmem8+2qrW6XJiIiIiLSZNX6PljSOPUwqZzYoQVTFqzltc+WcvfzM+hzQhojz+pMmxYxbpcnIiIiItKkKGA1Az6vh6G9Mjm1W2s++mIl701ZzrxvNzK8T1suOd0QH6N1byIiIiIiwaCA1YxEhIVw8WmG03tn8dZ4y6ez1zC5YC0XDe7AOf1zCA9VIwwRERERkWOhNVjNUGJsBNdddCLP3T6IvHYp/PPTpVzzyCQmL1hLebkaYYiIiIiI/FQKWM1YRstY7r3qZB669hQSYsJ48q0vue3pL1i0fLPbpYmIiIiINEoKWMIJ7VN4/OYB/O6yfHb+sI//fWkW9/9lDsUbd7pdmoiIiIhIo6KAJQB4vR4G9kjnpbuG8KuzO7N09VZuHDOF58YupGTnXrfLExERERFpFNTkQg4RFurjgkEdGHJSJu9MLOTTmav54st1XDCoA+cPyCEiXH9kREREREQORyNYUqP4mHCuPu8EXrhzMD06pvLm+GWMemQin88tokyNMEREREREaqSAJUfUukUM94zsxegb+tEiMYpn/7WQW56YypfLNrldmoiIiIhIg6OAJbXSKTuJx27sx91XnsTefQe478+zufflWazesMPt0kREREREGgwtqJFa83g8nHJia3p1acVns1bz9gTLzU9MZXDPDC4/oxMpCZFulygiIiIi4ioFLKmz0BAv5/TPYXDPDP41aTn/nr6K6Qs3cN6AHC4c1J6oiFC3SxQRERERcYWmCMpPFhMVxq9HdOGlu4fQO68V/5pYyKiHJ/HprNWUlZW7XZ6IiIiIyHGngCXHrGVSFHdc3pPHb+5Pm9QYXnzva24YM4W5i7+jokIdB0VERESk+ajVFEFjzIdANlAO7AZutNYurHaMD3gGOAOoAB6x1v4luOVKQ5abmcjD153C3G838vdPlvDg3+aRl5PMr0d0oUNGotvliYiIiIjUu9quwRpprd0BYIw5F/gr0KPaMZcB7YEOQDLwlTFmorV2TZBqlUbA4/HQOy+Nnp1aMn5OEW99vozbnprGgO7pXHFmJ1omRbldooiIiIhIvanVFMHKcOUXjzOSVd3FwJ+tteXW2s3Ah8DPjr1EaYxCfF7OOiWbV+4Zys+GdGD2Nxu49tFJ/O3f37J7z363yxMRERERqRe17iJojPkLcDrgwZkGWF0mUBTwuBjIOKbqpNGLigjlyjM7M7xPNq+PW8oHX6xgwrwiLjnNMLxvNqEhWgYoIiIiIk1Hrb/dWmt/Y63NBH4PPFZ/JUlT1CIxklsv7cFTtw6kXZt4/vzRYq4fPZmZizaoEYaIiIiINBl1Hj6w1r4GDDLGJFfbVQxkBTzOBNYeQ23SBLVrE8+fRvXlvt/0JjTUyyP/nM+dz05n2ZptbpcmIiIiInLMjjpF0BgTAyRaa9f6H48Atvl/Ao0FfmuMeR+nycV5QL/glitNgcfjoWenlnTPbcHE+Wt5Y9xS7nh2Oqd0bc2VZ3WidUqM2yWKiIiIiPwktVmDFQ2MNcZEA2U4wWqEtbbCGPMp8Adr7QLgNeBkYLn/vAestavro2hpGnw+L8N6Z9G/exs+nLqC96euYO6333Fm32wuPs0QFx3mdokiIiIiInXiaQjrXwoKCtoCq/Py8ggPD3e7HHHJtp17eXP8MibMLSIyPISfDzWcfWo2YaE+t0sTEREREalSWlrK4sWLAbLz8/PXBO5TCzdpMJLiIrjhZ9145vZBdMpO5m+ffMu1j07iiy/XUV7u/j8EiIiIiIgcjQKWNDhZreK47ze9eXBUX2IiwxjzRgG/e2Ya36zc4nZpIiIiIiJHpIAlDdaJuS148tYB3Hppd7bv3MvvX5jJg3+dy9rvd7ldmoiIiIhIjRSwpEHzej0M7pnJS/cM5cozO/H1ii3cMGYKL763iO27St0uT0RERETkELXpIijiuvBQHz8bkstpvbJ4e4Lls9lrmFKwjosGd+Cc/u2ICNMfZRERERFxn0awpFFJiA3nmgu68vwdgzixQwqvfbaUax6ZxKT5xZSpEYaIiIiIuEwBSxql9NRY/udXJ/PI9aeSFBfBU29/xa1PTmVh4Sa3SxMRERGRZkwBSxq1Lu2SGXNTf+64PJ8f9h7g3pdnc9+fZ1P03U63SxMRERGRZkgBSxo9r9dD/+7pvHTXYH49ogu2qISbHp/CM+98xdYde9wuT0RERESaEXUGkCYjNMTH+QPbM7RXJu9MKOQ/M1cxbeF6LhjYnvMHticyXH/cRURERKR+aQRLmpzYqDB+c24eL9w5hJM6teStzy2jHp7I+DlrKCsrd7s8EREREWnCFLCkyUpLieauK0/isRv70So5mufGLuLGx6eyYOn3VFSo46CIiIiIBJ8CljR5Hdsm8egNp3LPyJM4UFbO/X+Zw/++NIuV67a7XZqIiIiINDFalCLNgsfjoW/X1pzUuRXjZq/hrc8ttz71BQN7pHPF8M60SIx0u0QRERERaQIUsKRZCQ3xMqJfOwb1zODdSYV8PH0VMxdt4Jz+OVw0uAPRkaFulygiIiIijZimCEqzFBMZyi/P7sJLdw2h74mteXfycq5+eCL/mbGKA2qEISIiIiI/kQKWNGupSVH87hf5PHnLALJaxfHSB99ww2OTmf3Nd2qEISIiIiJ1poAlArTPSOD/ru3LvVedjMfj4aG/z+Pu52dQWFzidmkiIiIi0ogcdQ2WMSYZeA3IAfYBy4FR1trN1Y7LBV4BEoBw4B1r7R+DXbBIffF4PPTq3Ip8k8rn84p5c9wyfvf0NPp3a8MVZ3aiVXK02yWKiIiISANXmxGsCmC0tdZYa08AVgKP1HDcaOBda2034CTgV8aYXsErVeT48Pm8DO/TlpfvGcLFp+Uy59uNXPvoZF79eDG7f9zndnkiIiIi0oAddQTLWrsNmBqwaQ5wbQ2HVgDx/t9H+R9vOsb6RFwTFRHK5Wd0YniftrwxbhkfTVvJxHnFXHya4axT2hIa4nO7RBERERFpYOq0BssY48UJVx/XsPsW4GJjzHpgDfCYtXbNsRYo4rbk+Ehuurg7T982kNzMRF79eDHXjZ7M9IXr1QhDRERERA5R1yYXzwK7gedq2DcKeM1a2wZnvdZNxpiTj7E+kQYju3U891/dh/uv7kNEWAijX1vAHc9OZ8nqrW6XJiIiIiINRK0DljFmDNABuNhaW9ONgm4C/gFgrf0OmAz0D0aRIg1JD5PKU7cN5OaLu7G5ZA93PTeDh/4+jw2bd7tdmoiIiIi4rFYByxjzEJAPnGetLT3MYauBM/zHxwL9gMXBKFKkofF5PQztlcXLdw/h8jM6srBwE9eNnszLH3zNjt2H+ysiIiIiIk2d52hrSIwxXXCCUiGwx795tbX2fGPMQuBMa+0GY0w+zhTCaCAUeNta+0BtiigoKGgLrM7LyyM8PPynXYmIi0p27eWt8Zbxc4uICPPxsyG5jOjXjvBQNcIQERERaWpKS0tZvHgxQHZ+fv6awH1HDVjHgwKWNBVrv9/F3z9ZwrwlG0lJiOTKMzsxoHs6Xq/H7dJEREREJEiOFLDq2uRCRI4go2Us9151Mg9dewoJMWE88eaX3Pb0F3y9YvPRTxYRERGRRk8BS6QenNA+hcdvHsDvftGDnT/s439enMUDr86heONOt0sTERERkXqkgCVST7xeDwPzM3jpriH88qzOfLtqKzeOmcLz7y6iZOdet8sTERERkXoQ4nYBIk1dWKiPCwd3YGivTN6eYPls1hqmFqzlwsEdOK9/DhHh+msoIiIi0lRoBEvkOImPCWfU+V154c7BdDepvDFuGaMemcSEuUWUlbvfbEZEREREjp0Clshx1rpFDL//ZS8eveFUWiRE8sy/FnLLE1P5ctkmt0sTERERkWOkgCXiks7ZyTx2Uz/uurIne/cd4L4/z+YPL89i9YYdbpcmIiIiIj+RFn+IuMjj8XDqiW04uUsr/jNzDe9MsNz8xFSG9Mzk8uEdSY6PdLtEEREREakDBSyRBiA0xMd5A3IYelIG70ws5JMZq5m2cD3nD8jhgkHtiYoIdbtEEREREakFTREUaUBiosK46pw8XrxrML27tOKdiYWMengSn81aTVlZudvliYiIiMhRKGCJNECtkqO544qePH5zf9qkxvDCe19z4+NTmLdkIxUV6jgoIiIi0lApYIk0YLmZiTx83Sn8z696UV5ewZ9encv/vDiLFWu3u12aiIiIiNRAa7BEGjiPx0PvvDR6dmrJ+DlFvDl+Gbc+9QUDe6RzxfBOpCZFuV2iiIiIiPgpYIk0EiE+L2edks3AHum8N2U5H32xkplfb+Ccfu24aEguMZFqhCEiIiLiNgUskUYmOjKUK8/szPA+2bw+binvT13B53OLueT0XIb3ySY0RDN/RURERNyib2IijVSLxEhuvbQHT94ygHZt4vjzh4u5/rHJzPx6gxphiIiIiLhEAUukkctJT+BPo/py3296Exri5ZF/zOeu52awrGib26WJiIiINDtHnSJojEkGXgNygH3AcmCUtXZzDcfeCFwP7AfKrLXdgluuiNTE4/HQs1NLuue2YOL8tbwxbil3PDOdU05szcgzO5OWEu12iSIiIiLNQm1GsCqA0dZaY609AVgJPFL9IGPMBcDPgJP8xw0LaqUiclQ+n5dhvbN4+Z6h/OJ0w4Kl33Pd6En8+aNv2PnDPrfLExEREWnyjkt7//kAAB4QSURBVDqCZa3dBkwN2DQHuLaGQ38H3Gut3eU/7/tgFCgidRcZHsKlwzoyrE9b3hi3jE+mr2LS/LX8fEguZ5+aTVioz+0SRURERJqkOq3BMsZ4ccLVxzXs7gz0NsbMMsYsMMb8NhgFishPlxQXwY0/78YzvxtEx6xE/vbJt1w7ejJffLmO8nI1whAREREJtro2uXgW2A08V8M+H5ABnAqcCdxpjOl/bOWJSDBkpcXxx9/24U+j+hATEcqYNwq4/ZlpLF65xe3SRERERJqUWgcsY8wYoANwsbW2vIZDioG3rLXl1tpNwASgV3DKFJFg6JabypO3DuDWS7uzbede7nlhJg/+dS7rNu1yuzQRERGRJqFWAcsY8xCQD5xnrS09zGFvAmf4j48G+gGLglGkiASP1+thcM9MXrp7CFcM78TXK7Zw/WNTePG9RWzfdbi/3iIiIiJSG0cNWMaYLsA9QGtgljFmoTHmA/++hcaY1v5DnwQyjDHfAvOA1621E+qpbhE5RhFhIfx8aC6v3DOUM3pnMW5OEVc/PJF/TSxk774DbpcnIiIi0ih5KircX+heUFDQFlidl5dHeHi42+WINEtrv9/FP/6zhLnfbiQlPoLLh3diUH4GXq/H7dJEREREGpTS0lIWL14MkJ2fn78mcF9dm1yISBOV0TKW//31yTx83SkkxkXw1NtfceuTX7CwcJPbpYmIiIg0GgpYInKIvJwUxtzUn9svy2f3nn3c+/Js/vjn2RR9t9Pt0kREREQaPAUsEfkvXq+HAT3SefGuIfzq7C4sKyrhpsen8Oy/FrJt5163yxMRERFpsELcLkBEGq6wUB8XDGrP0F6ZvDPR8unM1Uz7ah0XDGzPeQPbExmu/4SIiIiIBNIIlogcVVx0GL899wReuHMI+Z1a8ubnllEPT2T8nCLKyt1vlCMiIiLSUChgiUitpaVEc/eVJ/HYjf1olRzNc2MXctPjU1iw9HsaQkdSEREREbcpYIlInXVsm8SjN5zK3SNPYv+Bcu7/yxzufXkWq9bvcLs0EREREVdpAYWI/CQej4dTuramV+dWfDZ7NW9/XsgtT05lUH4Gl5/RiRaJkW6XKCIiInLcKWCJyDEJDfFyTr8cBvfM5N1JhXw8fRUzFq7n3AE5XDS4A1ERoW6XKCIiInLcaIqgiARFTGQovzy7Cy/dNYS+XVszdtJyrn54Iv+ZuZoDZeVulyciIiJyXChgiUhQpSZF8bvL8nnilv5ktozjpfe/5obHJjNn8XdqhCEiIiJNngKWiNSLDhmJ/N+1fbn31yfj8Xj4v7/N454XZlJYXOJ2aSIiIiL1RmuwRKTeeDweenVpRX7HVD6fW8Sb4y2/e3oa/bu14YozO9EqOdrtEkVERESCSgFLROqdz+dleN9sBvRI5/0pK/jgi5XM+uY7zj41m4uH5hITFeZ2iSIiIiJBoYAlIsdNVEQolw/vxPC+bXn9s2V8NG0lE+cVc8nphjP7ZhMaolnLIiIi0rjp24yIHHfJ8ZHcfEl3nr5tIB0yEvjLR4u5bvQkZixar0YYIiIi0qgpYImIa7Jbx/PAqL7c/9s+RISF8Og/F3DHs9NZsnqr26WJiIiI/CSaIigiruvRMZUTc1sweX4xr49byl3PzaDPCWn88qzOtG4R43Z5IiIiIrV21IBljEkGXgNygH3AcmCUtXbzYY4fCEwCbrbWPhe8UkWkKfN5PZx2chb9urXhw2kreW/ycuZ9u5HhfdtyyWmG+Jhwt0sUEREROaraTBGsAEZba4219gRgJfBITQcaY2KBR4HPgleiiDQnEeEhXHKa4ZV7hnLayVl8OnM1Vz88kfcmL2ff/jK3yxMRERE5oqMGLGvtNmvt1IBNc4Cswxz+BPAYsOXYSxOR5iwxLoLrLzqRZ28fRJd2yfz9P0u45tFJTC1YS3m5GmGIiIhIw1SnJhfGGC9wLfBxDfuGA/HW2neDVJuICJmt4vjDVb158Jq+xEaF8fibX3Lb01/wzQr9O46IiIg0PHXtIvgssBs4ZG2VMSYBZ9rgDUGqS0TkECd2aMGTtwzgtl/0YMfuffz+xZn86dW5rP1+l9uliYiIiFSpdRdBY8wYoAMwwlpbXm13HpAGzDPGAKQAI4wxSdbaB4JVrIg0b16vh0H5GfTt2pp/T1/F2EmF3DBmCsNOzuLSYYbE2Ai3SxQREZFmrlYByxjzEJAPnGWtLa2+31o7A0gNOP7vwAJ1ERSR+hAe6uOiwR04rVcmb0+wfDZrDVO/XMuFgzpw7oAcIsJ0BwoRERFxx1GnCBpjugD3AK2BWcaYhcaYD/z7FhpjWtdzjSIiNYqPCWfU+V15/s7BdMtN5fVxyxj18CQmziuiTI0wRERExAWeigr3v4QUFBS0BVbn5eURHq573YjIT/Ptqq387d/fYotLaJsWx69GdKGHST36iSIiIiJ1UFpayuLFiwGy8/Pz1wTuq2uTCxGRBqtLu2Qeu6kfd17Rkz2lB7jvldnc98psVm/Y4XZpIiIi0kxooYKINCkej4d+3drQO68V/5m5hncmWG5+YipDT8rksjM6khwf6XaJIiIi0oQpYIlIkxQa4uO8ATkMPSmDdyYW8smM1Xzx1XrOH5jDBQPbExUR6naJIiIi0gQpYIlIkxYTFcZV5+Rx1inZvPbpUt6ZUMjYScsJC/Hi83rwej34vF7nV58Hn9fj3+7sP7jNf0zljy/wfGd/5bHe6sd4nOepfK2Dz3G4bQGP/c9zyGv7Xytw2yHPc4Tn9XqcUT4RERGpHwpYItIstEqO5o4renLugBzmLP6OA2UVlJWXU15WQVl55U85ZeUVAdvKq/ZVbjtQVk7p/sBt5QHnV1BeVu1x1a/lHChzv6kQcMQw5/VVC3deL15f9SBXLXD6Doa56uHyyNu8NYbaQ5/3p7xW9ec9NOx6vQqYIiJSfxSwRKRZyc1MJDcz0bXXLw8Ic1W/DwhqB7eVHxrSqoW58pqO8Qe5skOet6ZtAa8d8Dy1rWff/nLKy8sODZdllcdW3/bfgdNtXo9z02pvtRE+X43bajdyedgRRo/HH1CrB9math053FYFy2rbKl/bG1BzTeEycJtGMUVE6o8ClojIceT1f8ENbaZNXCsqKg4Nd/7wdui28qrAVl5RQ7g87AjjkUcT/3vE8tBtNb7WYQLnvv1l1cJteVWgPSTU1rCtAdwdpVog9AfLmoJb9WmvxzBVttYjl4cZXa3NVNnwsBBSEyMVIEXEVQpYIiJy3Hj869F8PrcrcU9VcKwpXNZmhDEgzB0yaljDiGX1UckjP2/tX2v/gXJKq4fcI06VPTSA1qfYqFByMxMxWUmYLGfEOiZSTW1E5PhRwBIRETmOvF4PXjyE+IDQ5pc0KyoqKK/gv0JXVQCsNkJ52CmyNUyV3b1nP8uLS7DFJXxpl1WNFma0jMFkJpGblUjHrEQyW8bi8zXPUWQRqX8KWCIiInLceDwefB7weX2E1sO3kOF92gLw4979LC/ezrLibdiiEuYt2cjE+cUARIT56JCRiMny/2QmkhgXEfxiRKRZUsASERGRJicqIpQTc1twYm4LwBk527j1R2yRE7iWFZfwwdQVVVMWU5Oi6Jh5MHS1axNPaEjzG2EUkWOngCUiIiJNnsfjIS0lmrSUaAbmZwBQur+Mleu2Y4tKsEUlLFmzjWkL1wMQ4vOS0yb+4ChXVpIaaIhIrShgiYiISLMUHuqjc3YynbOTq7Zt3bGnKnDZ4hLGzSni4+mrAEiIDcf4R7k6ZiXRPiOByHB9lRKRQ+m/CiIiIiJ+yfGR9O0aSd+urQE4UFbOmu92+kOXM71w7rcbAeeeallpceRmOs0zTFYSbVrE6GbWIs2cApaIiIjIYYT4vLRPT6B9egJnnZINwM4f9lFYXMKyom0UFpUwY+F6xs8pAiA6IuSQNvEmK5HYqDA3L0FEjjMFLBEREZE6iIsOo2enlvTs1BJw7m22fvNubNE2lvmnF/5roqXyll9tWkQfDFyZibRNi1ObeJEmTAFLRERE5Bh4vR4yWsaS0TKWob2yAKdN/IqABhpfLtvE5AVrAQgL9dEhI6FqPZfJSiQ5PtLNSxCRIDpqwDLGJAOvATnAPmA5MMpau7nacc8DQ4BSYDdws7V2QdArFhEREWngoiJC6dq+BV3bH2wTv6lkT9U6LltUwsfTV3JgqjPMlZIQ6W+ekYjJTCInPZ6wZngjapGmoDYjWBXAaGvtVABjzGPAI8BV1Y77DLjFWrvfGHM28A5OKBMRERFp1jweDy2TomiZFEX/7ukA7NtfxqoNOw52LSzaxsxFGwAI8XnIbh1fNa3QZCXRKjlKbeJFGoGjBixr7TZgasCmOcC1NRz3ScDD2UC6McZrrS0/1iJFREREmpqwUB8ds5LomJVUta1k515scUlV6Jowr5hPZqwGnLVflVMKO2Ym0SEzgaiIULfKF5HDqNMaLGOMFydcfXyUQ28A/qNwJSIiIlJ7iXER9M5Lo3deGgBlZeUUf7/L3zzDmV44f8n3AHg8kNky9pCOhRmpsWoTL+Kyuja5eBZnfdVzhzvAGHMJ8Aug/zHUJSIiItLs+XxeslvHk906nuF92gKw+8d9FBZvdwJXcQmzvt7A53OdNvFRESFOA42AroXxMeEuXoFI81PrgGWMGQN0AEYcbmTKGHM+8H/AEGvt98EpUUREREQqxUSF0aNjKj06pgJOA40NW344pE38u5OXU+7vE5+WHF01wmWyEmmbFk9oiNrEi9SXWgUsY8xDQD5wlrW29DDHnA08AZxmrV0TtApFRERE5LA8Hg9tWsTQpkUMg3tmArC39MDBNvHFJXy9YjNTv1wHQFiIl5z0hIOhKzOJlIQINdAQCRJPRUXFEQ8wxnQBFgOFwB7/5tXW2vONMQuBM621G4wxm3HauAe2bx9ird16tCIKCgraAqvz8vIID9cwtoiIiEgwVVRUsGX7XmzxwTbxK9ZtZ/8BZ1JSUlzEwTbxWU6b+Igw3S5V5HBKS0tZvHgxQHZ+fv6awH1HDVjHgwKWiIiIyPG1/0A5qwPbxBdvY+PWHwHn5snZreOqWsR3zEokLSVao1wifkcKWPqnCREREZFmKDTES25mIrmZiYzo52zbvquUwuISlhVto7C4hCkFa/l01hoAYqNCyfUHLpPlnBcTqTbxItUpYImIiIgIAAmx4fTq0opeXVoBUFZewbrANvHFJXxpl1E5ASqjZQwm82Cb+MxWcfjUJl6aOQUsEREREamRz+shKy2OrLQ4hvXOAuCHPftZvtaZVrisqIR5SzYycX4xABFhPv8oV2LVr4mxEW5egshxp4AlIiIiIrUWHRlKt9xUuuUebBO/ceuPVTdCXlZcwvtTVlDmbxOfmhRFx8yDbeLbtYknNMTn5iWI1CsFLBERERH5yTweD2kp0aSlRDMwPwOA0v1lrKxsE19UwpLVW5m2cD0AIT4vOenxTtdC//TCFomRaqAhTYYCloiIiIgEVXioj87ZyXTOTq7atmX7HmxxCYX+e3ONm13Ex9NWAZAYG141pbBjVhLtMxKIDNfXVGmc9CdXREREROpdSkIkKQmRnNK1NQAHyspZ891O/yiXM71w7rcbAfB6ICstzulY6A9ebVrE4FUDDWkEFLBERERE5LgL8Xlpn55A+/QEzjolG4Adu0tZvnY7y/yBa9pX6xg3ew3grP0yAWu5cjMTiY0Kc+8CRA5DAUtEREREGoT4mHB6dmpJz04tASgvr2D95t3Yom3+VvElvDPB4u+fQZsW0VX35TKZibRNi8Pn87p4BSIKWCIiIiLSQHm9HjJaxpLRMpahvZw28T/u3c+KgAYaXy7bxOQFawEID/PRPj2BjgGjXMnxkW5egjRDClgiIiIi0mhERYTStX0LurZvATht4r/f9iOFxSVVoeujaSs5UOYMc6UkRPqbZyRiMpPISY8nLFRt4qX+KGCJiIiISKPl8XholRxNq+Ro+ndPB2Df/jJWbdhRFbhs0TZmLtoAQIjPQ3breP9ariQ6ZiXSMilKbeIlaBSwRERERKRJCQv10TEriY5ZSVXbtu3ce7BjYXEJE+YV88mM1QDEx4RhMg+u5eqQmUBURKhb5Usjp4AlIiIiIk1eUlwEfU5Io88JaQCUlZVT/P0uf/MMp2vhvCVOm3iPBzJbxh5soJGVSEZqrNrES60oYImIiIhIs+PzecluHU9263iG92kLwO4f91FYvN3pWlhcwqyvN/D53CIAoiJCyM04tE18fEy4i1cgDZUCloiIiIgIEBMVRo+OqfTomAo4DTQ2bPnhkDbxYycvp9zfJz4tJbpqWqHJSiS7dTwhahPf7ClgiYiIiIjUwOPx0KZFDG1axDC4ZyYAe0sPHGwTX1zCosLNTC1YB0BYiJec9AR/10JnemFKgtrENzcKWCIiIiIitRQRHkJeTgp5OSmAM8q1efueqo6FhcUl/Gfmaj78YiUAyfER/lEuJ3DlpMcTEaav4E3ZUT9dY0wy8BqQA+wDlgOjrLWbqx0XBfwNyAcOALdbaz8JesUiIiIiIg2Ex+MhNTGK1MQo+nVrA8D+A+WsDmwTX7yNWV9/B4DP66Ft6zj/tEKnTXxaSrTaxDchtYnPFcBoa+1UAGPMY8AjwFXVjrsd2GmtbW+M6QBMN8a0t9buDmbBIiIiIiINWWiIl9xMpxHGiH7Otu27SiksLmGZv2PhlIK1fDprDQCxUWFVzTOM/7zoSLWJb6yOGrCstduAqQGb5gDX1nDoxcBI/znLjTELgOHA2GMvU0RERESk8UqIDadXl1b06tIKgLLyCtZ+v+uQe3MVLPueigqnTXx6aiwdAzoWZraKw6c28Y1CnSaAGmO8OOHq4xp2ZwJFAY+LgYyfXpqIiIiISNPk83pomxZH27Q4hvXOAuCHPftZvtaZVrisqIQ5izcyYV4xAJHhPjpkBIxyZSWSGBvh5iXIYdR1hd2zwG7guXqoRURERESk2YqODKVbbirdcg+2if9u6w9O84yiEpYVl/D+lBWU+dvEt0yKqppa2DEriezWcYSG+Ny8BKEOAcsYMwboAIyw1pbXcEgxkAVUNr/IBKYcc4UiIiIiIs2Qx+OhdUoMrVNiGJTvTAwr3V/Gyso28UUlLFm1lWlfrQcgxOclJz3eCVz+roUtEiPVQOM4q1XAMsY8hNMd8CxrbelhDhsLjAIW+JtcnARcGpQqRURERESE8FAfnbOT6ZydXLVty/Y92OKSqvVc42at4eNpqwBIjA33j3I5gatDegIR4WoTX59q06a9C3APUAjMMsYArLbWnm+MWQicaa3dADwG/N0YswIoA6621u6qv9JFRERERCQlIZKUhEhO6doagANl5az5bufBBhr+9VwAXg+0TYuvap5hshJp0yIGrxpoBI2noqLC7RooKChoC6zOy8sjPDzc7XJERERERJqUHbtLWb52e1Wb+MLiEn7cewBw1n4Zf9iqDF6xUWEuV9ywlZaWsnjxYoDs/Pz8NYH7ND4oIiIiItLExceE07NTS3p2aglAeXkF6zb528T7pxe+M8Hi759BmxYx/uYZzvTCrFax+HxeF6+g8VDAEhERERFpZrxeD5mt4shsFcdpJztt4n/cu58VAQ00vly2ickL1gIQHuajfXpC1b25TFYSSXFqE18TBSwRERERESEqIpSu7VvQtX0LwGkT//22H6tGuQqLSvho2koOlDnDXC0SI/1TC5PomJVIuzbxhIWqTbwCloiIiIiI/BePx0Or5GhaJUczoEc6APv2l7Fqw46qUS5btI0ZizYAEOLz0K5NvNOx0L+mq2VSVLNrE6+AJSIiIiIitRIW6qNjVhIds5Kqtm3bufdgx8LiEj6fW8S/pztt4uNjwjD+e3KZrEQ6ZCQQFRHqVvnHhQKWiIiIiIj8ZElxEfQ5IY0+J6QBUFZWTtHGXVWByxaVMG+J0ybe44GsVnFO4PKPcqWnxjapNvEKWCIiIiIiEjQ+n5d2beJp1yae4X2zAdj94z4Ki7dji7axrLiEGYs2MH5OEQBRESHkZhzaJj4+pvHeukkBS0RERERE6lVMVBg9OqbSo2Mq4LSJ37Bl98G1XMUljJ28nHJ/n/i0lGinTXxmIl1yUmibFudm+XWigCUiIiIiIseV1+shPTWW9NRYhpyUCcDe0gMH28QXl7CocDNTC9bh8cBLdw2hdYsYl6uuHQUsERERERFxXUR4CHk5KeTlpABOm/jN2/ewZfseWiZHu1xd7SlgiYiIiIhIg+PxeEhNjCI1McrtUurE63YBIiIiIiIiTYUCloiIiIiISJAoYImIiIiIiASJApaIiIiIiEiQKGCJiIiIiIgEiQKWiIiIiIhIkDSUNu0+gH379rldh4iIiIiIyBEF5BZf9X0NJWClARQWFrpdh4iIiIiISG2lASsDNzSUgDUf6Ad8B5S5XIuIiIiIiMiR+HDC1fzqOzwVFRXHvxwREREREZEmSE0uREREREREgkQBS0REREREJEgUsERERERERIJEAUtERERERCRIFLBERERERESCRAFLREREREQkSBSwREREREREgkQBS0REREREJEhC3C6gITLGjAEuBNoCJ1hrF7tbkdQXfdbNizEmGXgNyAH2AcuBUdbaza4WJvXCGPMhkA2UA7uBG621C92tSuqLPu/mQ59182SMuQ/4I43g+5pGsGr2IdAfKHK7EKl3+qyblwpgtLXWWGtPAFYCj7hck9SfkdbaE6213YExwF/dLkjqlT7v5kOfdTNjjOkB9KaRfF/TCFYNrLUzAIwxbpci9UyfdfNird0GTA3YNAe41p1qpL5Za3cEPIzH+dduaaL0eTcf+qybF2NMOPA8cCmH/j+8wVLAEpFmyRjjxQlXH7tdi9QfY8xfgNMBD3CGy+VIPdPn3Xzos25WHgBet9auaSz/IK4pgiLSXD2LM3f/ObcLkfpjrf2NtTYT+D3wmNv1SP3S59186LNuHowxfYCewAtu11IXClgi0uz4m5t0AC621mpqSTNgrX0NGORvdCJNnD7v5kOfdZM3AOgErDbGrAHSgfHGmNPdLOpoNEVQRJoVY8xDQD5wlrW21O16pH4YY2KARGvtWv/jEcA2/480Mfq8mw991s2LtfYRAppR+UPW2Q29i6ACVg2MMc8AFwCtgInGmK3W2i4ulyX1QJ9182KM6QLcAxQCs/xzuVdba893tTCpD9HAWGNMNFCG8+VrhLW2wt2ypJ7o824+9FlLg+epqNCfRxERERERkWDQGiwREREREZEgUcASEREREREJEgUsERERERGRIFHAEhERERERCRIFLBERERERkSBRwBIREREREfn/9u4n1PI5jOP4e5I7xZi5UwyZO1byGcbCQtnMlJ1IWSjRJBbi2mEWlKEsaNLUWFmQosyGBYmFmpTVjIQSjY8s2GhkcuuOaZqGYXF+OJ0sLM51j+P9qlPn+zvP+fZ7lk/P98+UeA+WJGnmJdkNPA/sYnT3zXHgkWH8QNvd6/h6kiT9yQJLkjTTkmwG3gUeBt4AFoA9wNn1fC9Jkv6OFw1LkmZakhuBI20XJ55fC3wGXAicAX5pu5hkI/AscBewEXgLeLTtmSQ3A68DLwKPAT8DT7Y9PMx5G3AQ2AGsAofaHlz7LCVJ88I9WJKkWfc18GuS15LcmmQrQNvjwDJwtO2msQLsAHANcANwNbAdeHpsviuAS4fn9wEvJcnw2yvAQ20vAa4HPljb1CRJ88YCS5I009quAruB34CXgR+TvJPk8snYJBuABxl1rH5qewp4Drh7IvSptmfbfgi8x6jbBXAOuC7J5rYrbT9do7QkSXPKPViSpJk3dKvuB0iyk9EyvxeA9ydCLwMuAj75qynFBuCCsZiVtqfHxt8BVw7f7wT2AweSfA480fbo9DKRJM07O1iSpP+Utl8BrzJawje5kfgko/1Yu9ouDp8tbTeNxWxNcvHY+Crg+2Huj9veAWwD3mZ0qIYkSf+YBZYkaaYl2ZlkX5KlYbwDuAc4BvwALCVZAGh7ntEywkNJtg3x25PcMjHtM0kWkuwBbgfeHMZ7k2xpe47RIRfn/5UkJUlzwwJLkjTrTgE3AR8lOc2osPoC2MfoEIovgRNJTg7xjwPfAMeSrAJHgIzNdwJYYdS1OgwsD10xgHuBb4f/LQN71zIxSdL88Zh2SdL/xh/HtLddWu93kSTNJztYkiRJkjQlFliSJEmSNCUuEZQkSZKkKbGDJUmSJElTYoElSZIkSVNigSVJkiRJU2KBJUmSJElTYoElSZIkSVPyO2MNpdtChiNjAAAAAElFTkSuQmCC\n",
          "text/plain": "<Figure size 864x288 with 1 Axes>"
         },
         "metadata": {
          "needs_background": "light"
         },
         "output_type": "display_data"
        }
       ]
      }
     },
     "3846aca8a2664137b36ae0c41911aee4": {
      "model_module": "@jupyter-widgets/output",
      "model_module_version": "1.0.0",
      "model_name": "OutputModel",
      "state": {
       "layout": "IPY_MODEL_4124a8587aa34967ab486a59501b9770",
       "outputs": [
        {
         "data": {
          "image/png": "iVBORw0KGgoAAAANSUhEUgAAA1gAAAEYCAYAAABBWFftAAAABHNCSVQICAgIfAhkiAAAAAlwSFlzAAALEgAACxIB0t1+/AAAADh0RVh0U29mdHdhcmUAbWF0cGxvdGxpYiB2ZXJzaW9uMy4xLjAsIGh0dHA6Ly9tYXRwbG90bGliLm9yZy+17YcXAAAgAElEQVR4nOzdeVzVdb7H8ddhCRSCi1uipuL2tcR9RQWc9mVqbHFstbLRsdQETGOuli3W1RwBc8nRssmcsUanq04367YNoOGO5tZXS80FDRdEIUS2+8c53CFHExX9sbyfj8c8mPP7/s7vvA+a8Dnfz/f7c5WUlCAiIiIiIiKXzsvpACIiIiIiItWFCiwREREREZEKogJLRERERESkgqjAEhERERERqSAqsERERERERCqICiwREREREZEKogJLRKQKMcbsMcbc5HQOEREROTsfpwOIiMiVY4yJBUYC9YAc4ANgjLW28DzPewF4CbjZWvu551hjYBYQCfwETLTWzvaMtQGmAL0Bb2At8Iy11nrGH/BcryGQDywHRlprT3jGm3uuHeEZXwzElOY0xpR4XrP0Zo7vW2t/5xlb7slU6irAWmvbe8Y7AdOBDsBJ4E/W2lfKvNfawB+B3wK+wCZrbZRnzA+YBtzjGVsJDLPWHvCM1wHeBm4BjgB/sNb+1TN2J/AHIBw4BXwExFprT5a59pvA/Z739rq1NsEz1gt4BegKFAH/9Hw/D57x53QVsAm42lrb5Cx/joOAd4Eh1tq3zhwvj/O8x37Al578pYZba9+9mNcSEamKNIMlIlJNGGPK86HZMqCLtTYI9y/6HYFnznPdlsAA4OAZQwuA3cA1wJ3Aa8aYX3nG/sPzWsYzvgZYWua5K4E+1tpgoAXuD/wmlhmfBWQCoUAnIBp4+ozX72itDfT873elB621t5c5Hgh8DSwq87y/AilAndLrGmPuLjM+xzN2nedrbJmxUbiLvg5AIyALd7FWaiZw2vOeHwbeNMa084wFe95jI8+1G+MuQku9CLQGmgG/AsYaY27zjIV4cjX3jJ8E3uHfjQEOn+U4xpgQ4D+BrWcbvwC/9B4BMsp+/1VciUhNoxksEZEqyhjzIv+aDbkbiAN+cVbCWvt9mYcuoBhodZ6Xmgk8h7voKX3tQKAf8FtrbQGwyRizGBgMfGWtXYO7qCo9PxEYb4ypa609aq3dd8ZrFJ2RIwyYYa09BRwyxnwCtOMCeWbCIoHHyxxuDvzFWlsEfG+MWeG59jJjTFvc38smpbNpwPozcn1qrf3Rc/0PgNJZpgDgPiDcWpsDrDDGLAMeBeJLZ3k8fjLGzMU9i1fqMeBxa20WkOUZfxz4xFq7/Iz3NQNIPuNYGPAI7r8Hc8/y7fgv4A3cM3Nln+cHvOo57gf8N+6ZtbwzL3C+93iW1xQRqXE0gyUiUrX9Bnf73H8AfzHG9DXGHP+lJxhjHjLGnMDd3tUR+NMvnDsAyLfWfnzGkOuMr6X/P/wcl4oCDllrj5a5dl9jTDbu2Zj7gKQy5ycBDxhjantaEW8HPjnjminGmEPGmA89hdTZDAJSrbV7zrj2IGOMrzHG4J6R+twz1gP4AXjJGHPEGLPZGHNfmee+DfQxxjTytBI+jLu9EaANUGit3VHm/E2cuzCMwjOb5JldCvWcf0HPLWM67hmqsxVGPYBuwOyzXGuSJ3sn3EVuY+CFc7xued5jA2PMj8aY3caYRE9RJiJSY6jAEhGp2tKstUustcXW2jxr7Qpr7X/80hOstX/1tAi2wf0L949nO88YczXwGu62uDOvcRJ3m9/zxhh/Y0wX3EVS7bNcpwnuWbC4M66xwtMi2AR3q9yeMsMpuH9pPwHsB9YBS8qMR+OeiWoLZAAfnaNFchDw5zOOfYR7nVMe8C3wtrV2rWesCe4iMRt3K98I4F1jzHWe8Z3APuCAJ9t1wMuesUDPsbKygavPDGWMuRn3jFVpIRNY5vzzPbeD53ljyhy7B/C21v73Wc73xj37OMJaW3zGmAsYinvG6pjnz/U14IEzr1PO9/gt7kItFLgB95qxhHNcS0SkWlKBJSJStZ3Zaldu1tqduGdBZp3jlBeB986Y/SnrYdwtc/twb86wAHcx9P+MMfWB/wVmWWsXniPHAdyzU+97nuPlefwhEIB7Q44QYHKZ56RYa09ba4/jLgDDcBc7ZV+7L+5NNBaXOVbHc+2XAX/gWuBWY0zp+q48oAD3hh2nrbXJwFe4N3QAd6HoB9T1ZPuQf81g5QBBZ7y9INwzdGVz9cK9Duz+MjNBOWXO/6XntvK83ihrbarnWADwOudeS/c08I21dtVZxurjLorXG2OOe2Y/P/Ecxxiz3BiT4/nfw+d7j9baQ9babZ6CfzcwFnfhLSJSY2gNlohI1VZy/lN+kQ/Q8hxjNwJNyhQf9YG/GWMmW2snW2t/AH5derIx5q/8fN1VCO7iapm19tULyFEHaIp7DVY+kG+MeQf3BhFjz/H8En7ergjuGaIPPWuFSrUAiqy18z2P9xtj3gfuwF1ofnOOa5fqBIyz1h7zvMfpwMvGmHrADsDHGNPaU7yCuwXz/1v5jDGdcW/+Mdha+0XpcWttljHmoOf8z87x3Ga4Wxlfsda+VyZTa9yzeanujkeuAoKNMYeAXrj/HKONMXd4zq8DdPbspvgM7qKyXelOiGVZa28v+9hTzP3iezxDCfowV0RqGBVYIiI1iDHmd7gLnkxjzPW4tw3/9Byn34h7K/JSa3G3+S33XOs63DNW+bg3SLgFzyySMSbIc92V1tp/2/zAMxuSaq3d6ykcXgW+ALDWHjHG7AaeMsb8EXdb2mN4ih/PjnW+wGagFu7C6wCwvcz1a3ky3XPGS+8AXMaYh3DPmDUABuKepQJ3a+Je4A/GmP8CeuLZ0a/M92CQMeafuLcifxr3rnlHPK/7Ie6C63e4i7Hf4N6qHmNMOO7ZoZHW2n+c5fs9H/dGIOtw79A3BHjC89zGuLc/n1G6FX4ZW3DPxJXqDcwAuuDeUfBx3LN1pT7EPav3trW22LOZRqIxZoTn70Vj3JtY/NvfC2tt7nne46+AXZ7vYRPc67uWnnkdEZHqTAWWiEg1YoyJBJZ7tic/mz7Aq55dAA/j3r78+TLP3wq8Zq39S9kNKTxjRUBWmRmhW4FxuFvM0oHbrLWlW4TfA3QH2hljHi9zmeuttXuB64HJnlmuLOBj3MVeqXtxb0bxHO4dBr/kX9ulX4O7JbEJkIt7G/Zfe3YzLNUfOM6/CicArLUnjDH34m43fBP37M0/8GwRb60tMMb8BvdujPG4N7wYZK391nOJZ3HvxLcT90zRFn5exD0NzMO9xfxR4Clrbenszmjcs4BvG2Pe9hz7wVpbukHEBE+mHzy5JltrSzf2+B3u2bcXPbtHlr6fQM+9wQ6VHjPGHAOKrbWlx3626Ykx5jRwwlpbut7rOdxrulZ5ZuIOeHKcq/D+pffYGXeraIhn7L9x/x0REakxXCUll9pdIiIiIiIiIqC+aBERERERkQqjAktERERERKSCqMASERERERGpINV2k4v169f74V5gfRD3AmkREREREZGK4I37pupru3btml92oNoWWLiLq1SnQ4iIiIiISLUVCawoe6A6F1gHAdq0acNVV13ldBYREREREakmTp8+zY4dO8BTc5RVnQusIoCrrroKPz8/p7OIiIiIiEj1829LkbTJhYiIiIiISAVRgSUiIiIiIlJBytUiaIxpA7wL1AWOAoOstTvPOMcbeAO4DSgBJllr3yrH2C3Aa0B7YLq19tnyXFNERERERKSyKe8arNnATGvtAmPMI8CfgBvOOOdhoBXQGnchlm6M+dxau+c8Y7uA3wH3A/4XcE0REREREakCCgoK2L9/P6dOnXI6ygXx9/enSZMm+Pr6lvs55y2wjDENgC7AzZ5DC4EZxpj61trDZU4dCMy11hYDh40xS4ABwJRfGrPWfud5nf5neflfuqaIiIiIiFQB+/fv5+qrr6Z58+a4XC6n45RLSUkJR48eZf/+/YSFhZX7eeVZg3UtcMBaWwTg+ZrhOV5WU+CHMo/3ljnnl8Z+ycU+T0REREREKolTp05Rt27dKlNcAbhcLurWrXvBs27a5OIK2Z2RzYdffUdBYbHTUURERGqUU/mFLFi+ne27jzkdRaRGq0rFVamLyVyeAmsf0Niz4UTpxhONPMfL2gs0K/O4aZlzfmnsl1zs8yqdjMO5vPPRVsbPXknWyarVeyoiIlJVHTqay5jpqXzw+Q7+MGsFy7/e7XQkEanmzltgWWszgY3Ag55DDwLpZ6y/AlgEDDHGeBlj6gP9gcXlGPslF/u8SqdPx0aMeaQr3+3PJjYxmZ37spyOJCIiUq1t2nGYuKRkDh/PI35Qdzq1qc+sv3/DjEUb1VEiUsMZY8jNzb0s1y7vLoLDgHeNMS8AWcAgT7CPgResteuA94CeQOn27S9ba0s/JjrnmDGmL/A+EAS4jDEPAE9aaz89zzWrnKjOTWhcP5BX/7yG52asYMSATtzQTUvKREREKlJJSQnLUncx7x9badIgkHFP9KBRvUB6tQ9lwfLtLP5yJ3sPneQPj3UnJOjMDYxFpCYrLCzEx6e8JdLZuUpKSiooTuWyfv365sDu8PBw/Pz8nI7zM9k5+Uyev47N3x/hN1EteeLX1+PtreVwIiIil+p0QREzF2/iy3X7iGgfSswDnant//PtlVM3HmDaB+kE1vLlPx/vQZumIQ6lFak5tm/fznXXXQfAl+v28tmavZfldW7u0ZQbujU973nGGDZs2EBAQAA33HADd9xxB6tWraJNmza89tpr58xeKj8/ny1btgCEde3adU/ZsUsrz+SiBAf68fLvI3h72RaWpnzPDwdPMObRbgQFXOV0NBERkSrryPE8XvvzGnbuO85Dt7Zl4E1t8PL69wXqkZ0a06RBIBPnrSZ+5gpGDOhYrl/IRKT6ysnJYfHiilmJpALLIT7eXvz+ng60bBzMzMXfEJeUzPjBPWkeGuR0NBERkSpn2+6j/Ne7a8k/Xci4J3rQKzz0F88PaxRMQkw0r7+3jsSF6Xx/IJvBv26njhKRK+CGbuWbZbqS+vc/2y15L47+FXHYTT2a8V/D+1BQWMSYN1JY+U2G05FERESqlE/S9jDuzZXU9vPhj89Enbe4KhUc6MdLQyO4O7IFy1J28cKcNE7knr68YUWkUqpdu3aFXUsFViXQtlkdEmP70Sw0iEnvruW95dspLq6ea+NEREQqSkFhMbMWb2Lm4k10aF2fqTHRNG14YZ0gPt5eDOnfnlEDO7N9zzFik5LZnZF9mRKLSE2gAquSqBPkz3893YebezTlb5/vYOI7q8nNK3A6loiISKWUdfIU42evZHnaHu77VSteeLIXgbV8z/u8c7mpR1MmDe9LYWExY6ansmLTgYoLKyI1igqsSsTXx5uRv+3EsHs7sOHbTEZPS2F/5kmnY4mIiFQqO/dlEZeYzHf7sxn7SDce/3U7vM+ymcWFatM0hMTYaMJCg5g8fx3zP95GkTpKRKolay0BAQEAfPnll7Rp06bCrq0Cq5JxuVzc2SeMV4b1JifvNKOnpbB22yGnY4mIiFQKX63fR/yMFXh5uZgyMpLIzo0r9Pp1gvx57ek+3NqrGYu+2MnEeeooEZELowKrkmrfsh4JMdE0rBvAK/NW87fPd1Bd71kmIiJyPkVFxby9bAsJf92AaVaHhJhoWjQOviyv5evjzfD7O/LUfR1It5mMnpbMvh/VUSIi5aMCqxJrEFKbySP6EtmpMe8t387k+evIyy90OpaIiMgVdSL3NC/OXcWS5O+5K7IFL/8+guBAv8v6mi6Xizt6hzFxWG9y8gp49o0U1qijRETKQQVWJed/lQ/PPtyVJ37djrTNGYydnsqho7lOxxIREbki9hw8QVxSMlt2HWXUwE4M7d8enyt4r6rwlvVIjOlHaL0AJs5bzQefWXWUiFykqvjfzsVkVoFVBbhcLu79VSsm/C6Cw8fziEtKZtOOw07HEhERuaxWfpPBmDdSKCgsZtLwPtzUo5kjOeqH1GLyiEiiOzdhwSffMmn+WnWUiFwgf39/jh49WqWKrJKSEo4ePYq/v/8FPc9Vld7khVi/fn1zYHd4eDh+fpe3jeBKyjiSw6vvrGF/Zg6D72rH3ZEtcLkufeckERGRyqK4uIS/fPotf/t8B22bhfCHx3tQJ+jCfsG5HEpKSliS/D1//mgrTRsGMe6JHjSsG+B0LJEqoaCggP3793Pq1Cmno1wQf39/mjRpgq/vz28DkZ+fz5YtWwDCunbtuqfsmAqsKuinUwUkvZ9O2uaD3NDtWp6+vyN+vt5OxxIREblkuXkFTP3retZu+5FbejZj2L3t8fWpXD/j0m0mr7+3DoDnBnWjU5sGDicSkSvtlwostQhWQbX9fYkf1J2Hbm3Ll+v2ET9zBUeO5zkdS0RE5JLszzzJ6GkpbPg2k2H3dmDEgI6VrrgC6GwakBATTd1gfybMSWNJ8ndVqu1JRC4vFVhVlJeXiwdvMYx7ogcHMk8Sm5TMtt1HnY4lIiJyUdZuO8ToaSnk5J1m4rDe3NknrFK3wIfWC2DKM1H0DA/l7WVbSVi4gfyCIqdjiUgloAKriusVHsofn4mitp8P495cyfK0PU5HEhERKbeSkhL+9vkOXpm3mtB6ASTERBPesp7Tscqllp8P8YO688htbfnn+v3Ez0jlcJY6SkRqOhVY1UDThkFMjYmmQ+v6zFq8iZmLN1FQWOx0LBERkV+Ul1/I5PnreG/5dqI6NWHS8L40CKntdKwL4uXlYuDNhucH9+TA4VzikpLZuksdJSI1mQqsaiKwli8vPNmL+37Vik/S9jB+9kqyTlatXVpERKTmOHQ0l7HTU0nbnMHgu9ox+uEu+F/l43Ssi9ajXUOmjoqitr+no+Tr3U5HEhGHqMCqRry9XDz+63aMfaQb3+3PJjYxmZ37spyOJSIi8jObdhwmLimZI8fzmDAkgnv6tarU663K69prrmZqTDSdTQNm/f0bZizaqI4SkRpIBVY1FNm5MVNGRuLt5eK5GSv4ct0+pyOJiIhQUlLC0pTveWFuGiFB/iTERNPFVK8tzgNr+TJ+cE8G3NiaT1f9wLg3V5J1Qh0lIjWJCqxqqkXjYBJiomnbrA6JCzfw1tItFBXpUzQREXFGfkERSe+n89bSLfRs15ApIyMJrVc9b9Lr7eVi0B3XM/bRbuzKyCY2KZkde9VRIlJTqMCqxoID/Xj59xHcFdmCpSnfM2FuGidyTzsdS0REapgjx/OIn+nuqHjo1rbED+pObX9fp2NddpGdPB0l3l7Ez1zBF2v3Oh1JRK4AFVjVnI+3F0P7t2fUwE5s3XWMuKRkdmdkOx1LRERqiG27jxKblMyBzJOMe6IHD95i8PKq+uutyiusUTAJo6K4rnkdkt5PZ+6SzeooEanmVGDVEDf1aMak4X0oKCxmzPRUVm7KcDqSiIhUc8vT9jDuzZXU9vPhj89E0Ss81OlIjggO9OPloRHcHdmCZam7eGFOGtk5+U7HEpHLRAVWDWKa1SExNpqw0CAmzV/L/I+3UVxc4nQsERGpZgoKi5m5eBOzFm+iQ+v6TI2JpmnDIKdjOcrb24sh/dszamBntu85Rty0FHWUiFRTKrBqmDpB/rz2dB9u6dmMRV/s5JV5q8nNK3A6loiIVBNZJ08xfvZKPknbw32/asULT/YisFb1X29VXjf1aMqk4X0p9HSUpG484HQkEalgKrBqIF8fb0YM6MiwezuQbjMZPS2F/ZknnY4lIiJV3M59WcQmJvPd/mzGPtKNx3/dDu8atN6qvNo0Dfn/jpLX31vH/I+3UaSOEpFqQwVWDeVyubizTxivDOtNTt5pRk9LYc22Q07HEhGRKurLdft4bsYKvL1cTBkZSWTnxk5HqtRKO0pu7eXuKJk4bzU56igRqRZUYNVw7VvWIyEmmoZ1A5g4bzV/+3wHJSX6FE1ERMqnqKiYt5ZuIXHhBto2q0NCTDQtGgc7HatK8PXxZvj9HXnqPndHybPTktn3ozpKRKo6FVhCg5DaTB7Rl8hOjXlv+XYmz19HXn6h07FERKSSO5F7mglz01ia8j13Rbbg5d9HEBzo53SsKsXlcnFH7zAmDutNTl6Bu6NkqzpKRKoyFVgCgP9VPjz7cFee+HU70jZnMHZ6KoeO5jodS0REKqndGdnEJSWzddcxRg3sxND+7fHx1q8VFyu8ZT0SY/rRqH4AE99ZzQefWe30K1JF6V9C+X8ul4t7f9WKCb+L4PDxPOKSktm047DTsUREpJJZuSmDMdNTKSgsZtLwPtzUo5nTkaqF+iG1mDwikujOTVjwybdMmr9WHSUiVZCrPOttjDFtgHeBusBRYJC1ducZ53gDbwC3ASXAJGvtW5c41gB4B7gW8AW+Ap6x1p73X5v169c3B3aHh4fj56d2hQuVcSSHV99Zw/7MHAbf1Y67I1vgcmknKBGRmqy4uIQFn2xn0Rc7adsshD883oM6Qf5Ox6p2SkpKWJL8PX/+aCvXXnM1457oSWi9AKdjiUgZ+fn5bNmyBSCsa9eue8qOlXcGazYw01rbBpgJ/Oks5zwMtAJaAxHAi8aY5pc49p/AdmttB6AD0BW4t5yZ5RI0qhfIlJGR9GzXkLeWbiHp/XTyC4qcjiUiIg7JzSvglXmrWfTFTm7p2YzXnu6j4uoycblc3NOvFS8OieBo9inikpJJt5lOxxKRcjpvgeWZReoCLPQcWgh0McbUP+PUgcBca22xtfYwsAQYcIljJcDVxhgvwA+4CtAd+a6Q2v6+xA/qzkO3tuXLdfuIn7mCI8fznI4lIiJX2P7Mk4yelkK6zWTYvR0YMaAjvj7eTseq9jqbBiTERFM32J8X56axJPk77fQrUgWUZwbrWuCAtbYIwPM1w3O8rKbAD2Ue7y1zzsWOvQK0AQ4Ch4BPrbUry5FZKoiXl4sHbzGMe6IHBzJPEpuUzLbdR52OJSIiV8jabYcYPS2FnLzTTBzWmzv7hKll/AoKrRfAlGei6BkeytvLtpKwcIM6SkQqucq+ycUA4BsgFGgMRBlj7nc2Us3UKzyUPz4TRW0/H8a9uZLlaXucjiQiIpdRSUkJf/t8B6/MW01ovQASYqIJb1nP6Vg1Ui0/H+IHdeeR29ryz/X7iZ+RyuEsdZSIVFblKbD2AY09m1GUbkrRyHO8rL1A2W2EmpY552LHRgJ/8bQPZgNLgV+VI7NcBk0bBjE1JpoOresza/EmZi7eREFhsdOxRESkguXlFzJ5/jreW76dqE5NmDS8Lw1Cajsdq0bz8nIx8GbD84N7cuBwrmeLfHWUiFRG5y2wrLWZwEbgQc+hB4F0z3qpshYBQ4wxXp71Wf2BxZc4thv37oIYY64CbgK2XPjblIoSWMuXF57sxX2/asUnaXsYP3slWSdPOR1LREQqyKGjuYydnkra5gwG39WO0Q93wf8qH6djiUePdg2ZOiqK2v6ejpKvdzsdSUTOUN4WwWHASGPMDtyzSsMAjDEfG2O6ec55D9gF7ARWAS9ba3df4lgMEGmM2Yy7yNsBzL2YNyoVx9vLxeO/bsfYR7rx3f5sYhOT2bkvy+lYIiJyiTbtOExcUjJHjucxYUgE9/RrpfVWldC111zN1JhoOpsGzPr7N8xYtFEdJSKVSLnug1UV6T5YV8auA9m8+s5qsk7mM2JAJ27odubeJyIiUtmVlJSwLHUX8/6xlSYNAhmv+y5VCUXFJfzFc1+y65rX4Q+PdSdEW+eLXBEVcR8skbNq0TiYhJho2jarQ+LCDby1dAtFRfoUTUSkqsgvKCLp/XTeWrqFnu0aMmVkpIqrKsLby8WgO65n7KPd2JWRTWxSMjv2qqNExGkqsOSSBQf68fLvI7grsgVLU75nwtw0TuSedjqWiIicx5HjecTPXMGX6/bx8G1tiR/Undr+vk7HkgsU2akxU0ZG4u3tRfzMFXyxdq/TkURqNBVYUiF8vL0Y2r89owZ2YuuuY8QlJbM7I9vpWCIicg7bdh8lNimZA5k5jH+iBw/cbPDy0nqrqiqsUTAJo6K4rnkdkt5PZ+6SzeooEXGICiypUDf1aMak4X0oKCxmzPRUVm7KcDqSiIicYXnaHsa9uZLafj5MHeW+ia1UfcGBfrw8NIK7I1uwLHUXL8xJIzsn3+lYIjWOCiypcKZZHRJjowkLDWLS/LXM/3gbxcXVczMVEZGqpKCwmJmLNzFr8SY6tq7P1Jhorr3maqdjSQXy9vZiSP/2xDzQme17jhE3LUUdJSJXmAosuSzqBPnz2tN9uKVnMxZ9sZNX5q0mN6/A6VgiIjVW1slTjJ+9kk/S9nD/Da15/sleBNbSeqvq6sbuTZk0vC9FRe6OktSNB5yOJFJjqMCSy8bXx5sRAzoy7N4OpNtMRk9LYX/mSadjiYjUODv3ZRGbmMz3B7IZ+2g3Hrvzery13qraa9M0hMSYaFo0Cub199Yx/+NtFKmjROSyU4Ell5XL5eLOPmFMHNabnLzTjJ6Wwppth5yOJSJSY3y5bh/PzViBt5eLKSMjiezU2OlIcgWFBPnz6lO9ubWXu6Nk4rzV5KijROSyUoElV0R4y3okxEQTWi+AifNW88Hnlup6k2sRkcqgqKiYt5ZuIXHhBq5rXoeEmGjCGgU7HUsc4O4o6cTT97k7Sp6dlsy+H9VRInK5qMCSK6ZBSG0mDe9LVKcmLFj+LZPnryMvv9DpWCIi1c6J3NNMmJvG0pTvuSuyBS8NjSA40M/pWOKw23uH8epTfcjNK3R3lGxVR4nI5aACS64o/6t8GP1wFwbf1Y60zRmMnZ7KoaO5TscSEak2dmdkE5eUzNZdxxg1sBND+7fHx1s/7sWtXYu6JMRE07h+ABPfWc0Hn1nt9CtSwfQvrlxxLpeLe/q1YsKQCI4czyMuKZmNOzKdjiUiUuWt3JTBmOmpFBQWM2l4H27q0czpSFIJ1Q+pxaQRkUR3acKCT75l0vy16igRqUAqsMQxXUwDEmKiCQnyZ8KcNJYkf691WSIiF6G4uIT5H29j0vy1hIUGkRgbjWlWx+lYUon5+XoT92AXnry7Hau3HGTMGykcPF22rWgAACAASURBVKKOEpGKoAJLHBVaL4ApIyPpGR7K28vci7HzC4qcjiUiUmXk5hXwyrzVLPpiJ7f0bMZrT/ehTpC/07GkCnC5XPSPbsVLQyM4mn2KuKRk0q06SkQulQoscVxtf1/iB3Xn4dva8tX6/cTPXMHhrDynY4mIVHr7M08yeloK6TaTYfd2YMSAjvj6eDsdS6qYTm0akBgbTd1gf16cm8Z///M7dZSIXAIVWFIpeHm5eOBmw/gnenAgM8ezQPuo07FERCqtNdsOMXpaCjl5p5k4rDd39gnD5dLNg+XiNKwbwJRnoujVPpR5/9hKgjpKRC6aCiypVHqGhzJ1VBS1/X0YP3sly9P2OB1JRKRSKSkp4YPPLRPnrSa0XgAJMdGEt6zndCypBmr5+RA/qDuP3N6W5A37eW5GKplZPzkdS6TKUYEllc6111zN1JhoOrauz6zFm5i5eBMFhcVOxxIRcVxefiGT569jwfJvierUhEnD+9IgpLbTsaQacblcDLzJMP6JnmQczlVHichFUIEllVJgLV+ef7IX99/Qmk/S9jB+9kqyTp5yOpaIiGMOHc1l7PRU0jZnMPiudox+uAv+V/k4HUuqqR7tGjJ1VBQB/r6Me3MlH3+9W+uyRMpJBZZUWt5eLh6783rGPtqN7w9kE5uYzM59WU7HEhG54jbuyCQuKZkjx/OYMCSCe/q10noruexKO0o6mwa8+fdvPB0lWpclcj4qsKTSi+zUmNdHROLt5eK5GSv4ct0+pyOJiFwRJSUlLEn+nglz0ggJ8ichJpoupoHTsaQGCazly/jBPRlwY2s+XfUD4978mmMn1FEi8ktUYEmV0KJxMAkx0bRtVofEhRt4a+kWioq0LktEqq/8giISF27g7WVb6BkeypSRkYTWC3A6ltRA3l4uBt3h7ijZleHuKNmxVx0lIueiAkuqjOBAP17+fQR3RbZgacr3TJibxonc007HEhGpcIez8oifuYKv1u/n4dvaEj+oO7X9fZ2OJTVcZKfGTBkZiY+PF/EzV/DF2r1ORxKplFRgSZXi4+3F0P7tGTWwE1t3HSMuKZndGdlOxxIRqTBbdx0lLimZA5k5jH+iBw/cbPDy0norqRzCGgWTMCqK65rXIen9dOYs2UyhOkpEfkYFllRJN/VoxqThfSgoLGbM9FRWbspwOpKIyCVbnubeNbW2vw9TR0XRMzzU6Ugi/yY40I+Xh0Zwd2QL/pG6iwlz0sjOyXc6lkiloQJLqizTrA6JsdGEhQYxaf5a5n+8jeJibSErIlVPQWExMxZtZNbiTXRsXZ+pMdFce83VTscSOSdvby+G9G9PzAOd2b7nGHHTUtRRIuKhAkuqtDpB/rz2dB9u6dmMRV/s5JV5q8nNK3A6lohIuWWdOMW4N1fy6aofuP+G1jz/ZC8Ca2m9lVQNN3ZvyqThfSkqKubZN1JJTT/gdCQRx6nAkirP18ebEQM6MuzeDqTbTEZPS2F/5kmnY4mInNeOvVnEJiWzKyObsY9247E7r8db662kimnTNITEmGhaNg7m9QXrmP/xNorUUSI1mAosqRZcLhd39glj4rDe5OSdZvS0FNZsO+R0LBGRc/py3V7iZ67A28vFlJGRRHZq7HQkkYsWEuTPq0/15tZe7o6SifNWk6OOEqmhVGBJtRLesh4JMdGE1gtg4rzVfPC5paREn6KJSOVRVFTMW0u3kLgwneua1yEhJpqwRsFOxxK5ZO6Okk48fZ+7o+TZacns+1EdJVLzqMCSaqdBSG0mDe9LVKcmLFj+LZPnryMvv9DpWCIinMg9zYS5aSxN+Z67I1vw0tAIggP9nI4lUqFu7x3Gq0/1ITev0N1RslUdJVKz+JTnJGNMG+BdoC5wFBhkrd15xjnewBvAbUAJMMla+9aljHnGfws8D7g84zdZa3+82DcsNYP/VT6MfrgLLZsE8+ePtnLgcA7jnuhBw7oBTkcTkRpqd0Y2r76zhmMnTjFqYGdu6tHU6Ugil027FnVJiInmtT+vZuI7q3n41rYMuLGN7ukmNUJ5Z7BmAzOttW2AmcCfznLOw0AroDUQAbxojGl+KWPGmG7Ai8DN1tpwoC+gPUClXFwuF/f0a8WEIREcOZ5HXFIyG3dkOh1LRGqglZsyGDM9lYLCYiYN76viSmqE+iG1mDQikuguTVjwybdMmr9WHSVSI5y3wDLGNAC6AAs9hxYCXYwx9c84dSAw11pbbK09DCwBBlziWCzwR2vtIQBrbba19tTFvFGpubqYBiTERBMS5M+EOWksSf5e67JE5IooLi5h/sfbmDR/LWGhQSTGRtOmaYjTsUSuGD9fb+Ie7MKTd7dj9ZaDjHkjhYNHcp2OJXJZlWcG61rggLW2CMDzNcNzvKymwA9lHu8tc87Fjl0PtDDGpBhjNhhjxhtjNLcsFyy0XgBTRkbSMzyUt5dtIXHhBvILipyOJSLVWG5eAa/MW82iL3Zya69mvPZ0H+oE+TsdS+SKc7lc9I9uxUtDIziafYq4pGTSrTpKpPqq7JtceAMdgJuBaOB24FFHE0mVVdvfl/hB3Xn4trZ8tX4/8TNXcDgrz+lYIlIN7c88yehpKaTbTJ66rwPD7++Ir4+307FEHNWpTQMSY6OpG+zPi3PT+O9/fqeOEqmWylNg7QMaezajKN2UopHneFl7gWZlHjctc86ljC221uZba08CS4Ee5cgsclZeXi4euNkw/okeHMjMIS4pma27jjodS0SqkTXbDjF6Wgo5eaeZOKw3d/QOw+VS84UIQMO6AUx5Jope7UOZ94+tJKijRKqh8xZY1tpMYCPwoOfQg0C6Z71UWYuAIcYYL8/6rP7A4ksc+ytwizHGZYzxBW4ENl3MGxUpq2d4KFNHRVHb34fxs1eyPG2P05FEpIorKSnhg88tE+etJrReAIkx/QhvWc/pWCKVTi0/H+IHdeeR29uSvGE/z81IJTPrJ6djiVSY8rYIDgNGGmN2ACM9jzHGfOzZ6Q/gPWAXsBNYBbxsrd19iWPvA5nANtxF3lbg7Yt4nyL/5tprrmZqTDQdW9dn1uJNzFi0kYLCYqdjiUgVlJdfyOT561iw/FuiOzdh8ohI6ofUcjqWSKXlcrkYeJNh/BM9yTicq44SqVZc1bX3df369c2B3eHh4fj56SaOcm5FxSUsWL6dxV/u5LrmdfjDY90J0UJ0ESmnQ0dzefWdNew9dILHf92O/tEt1RIocgH2/XiSV99ZzaGjPzH0nvbcHtFc/w1JpZefn8+WLVsAwrp27bqn7Fhl3+RC5LLz9nLx2J3XM/bRbuzKyCY2KZkde7OcjiUiVcDGHZnEJSVz5HgeE4ZEcE+/VvrFUOQCXXvN1fxxVDSdTQPe/Ps3zFy8iYJCrcuSqksFlohHZKfGTBkZibeXi/iZK/hy3V6nI4lIJVVSUsKS5O+ZMCeNkCB/EmKi6WIaOB1LpMoKrOXL+ME9GXBjaz5d9QPj3vyaYyd061OpmlRgiZQR1iiYhJhormteh8SF6cxdupmiIq3LEpF/yS8oInHhBt5etoWe4aFMGRlJaL0Ap2OJVHneXi4G3XE9zw3ydJQkqqNEqiYVWCJnCA7046WhEdwd2YJlKbt4YU4aJ3JPOx1LRCqBw1l5xM9cwVfr9/PwbW2JH9Sd2v6+TscSqVb6dnR3lPj4eBE/cwVfrFVHiVQtKrBEzsLH24sh/dszamBntu85RmxSMrszsp2OJSIO2rrrKHFJyRzIzGH8Ez144GaDl5fWW4lcDmGNgkn0dJQkvZ/OnCWbKVRHiVQRKrBEfsFNPZoyaXhfCguLGTM9lRWbDjgdSUQcsDxtD+Nnr6S2vw9TR0XRMzzU6Ugi1V5QwFW8PDSCu6Na8I/UXUyYk0Z2Tr7TsUTOSwWWyHm0aRpCYmw0YaFBTJ6/jvkfb6OouHre3kBEfq6gsJgZizYya/EmOrauz9SYaK695mqnY4nUGN7eXgz5TXtiH3R3lMRNS1FHiVR6KrBEyqFOkD+vPd2HW3s1Y9EXO5k4bzW5eQVOxxKRyyjrxCnGvbmST1f9wP03tOb5J3sRWEvrrUSccEM3d0dJUVExz76RSmq6Okqk8lKBJVJOvj7eDL+/I0/d14F0m8noaSnszzzpdCwRuQx27M0iNimZXRnZjH20G4/deT3eWm8l4qg2TUNIjImmZeNgXl+wjnf/Rx0lUjmpwBK5AC6Xizt6hzFxWG9y8k4zeloKa7YdcjqWiFSgL9ftJX7mCry9XEwZGUlkp8ZORxIRj5Agf159yt1RsvjLnbzy9ipy1FEilYwKLJGLEN6yHokx/QitF8DEeav54HNLSYk+RROpyoqKipm7dDOJC9O5rnkdEmKiCWsU7HQsETmDr48XIwZ04un7O7Jxx2FGJyWz70d1lEjloQJL5CLVD6nF5BGRRHduwoLl3zJ5/jry8gudjiUiF+FE7mlemJPGspRd3B3ZgpeGRhAc6Od0LBH5BbdHNOfVp/rw06lCRk9LYfWWg05HEgFUYIlcEj9fb+Ie6sLgu9qRtjmDsdNTOXQ01+lYInIBdmdkE5uUzPY9xxg1sDND+rfHx1s/HkWqgnYt6pIQE03j+gFMfGcN739mKda6LHGYfoKIXCKXy8U9/Vrx4pAIjhzPIy4pmY07Mp2OJSLlsGLTAcZMT6WwsJhJw/tyU4+mTkcSkQtUP6QWk0ZE0q9rE/7yybdMmr+Wn05pXZY4RwWWSAXpbBqQEBNNSJA/E+aksST5e63LEqmkiopLmP/xNibPX0dYaBCJsdG0aRridCwRuUh+vt7EPdiFJ+9ux+otBxkzPZWDR9RRIs5QgSVSgULrBTBlZCQ9w0N5e9kWEhduIL+gyOlYIlJGbl4BE+etZtEXO7m1VzNee7oPdYL8nY4lIpfI5XLRP7oVLw2N4Fj2KeKSkkm36iiRK08FlkgFq+3vS/yg7jx8W1u+Wr+f+JkrOJyV53QsEQH2/XiS0dPcv3Q9dV8Hht/fEV8fb6djiUgF6tSmAYmx0dQN9ufFuWl8+NV36iiRK0oFlshl4OXl4oGbDeOf6MGBzBzikpLZuuuo07FEarQ12w7x7Bsp5OQVMHFYb+7oHYbLpZsHi1RHDesGMOWZKHq1D+Wdj7aS8Fd1lMiVowJL5DLqGR7K1FFR1Pb3YfzslSxP2+N0JJEap6SkhA8+s0yct5rQegEkxvQjvGU9p2OJyGVWy8+H+EHdeeT2tiSn7+e5GalkZv3kdCypAVRgiVxm115zNVNjounYuj6zFm9ixqKNFBQWOx1LpEbIyy9k0vy1LPjkW6I7N2HyiEjqh9RyOpaIXCEul4uBNxnGP9GTjMO5xCUls+X7I07HkmpOBZbIFRBYy5fnn+zF/Te05tNVPzDuzZVknTjldCyRau3Q0VzGTk9l1eaDDL6rHXEPdcHPV+utRGqiHu0aMnVUFIG1fBk/+2v+Z+VurcuSy0YFlsgV4u3l4rE7r2fso93Y5bmx6Y69WU7HEqmWNu7IJDYxmSPH83hxSAT39Gul9VYiNdy111zNH0dF09k0YPaH3zBj0SYKCrUuSyqeCiyRKyyyU2OmjIzE28tF/MwVfLlur9ORRKqNkpISliR/x4Q5adQN9ichxv3LlIgIuDtKxg/uyYAbW/O/q3/gP2et5Jg6SqSCqcAScUBYo2ASYqK5rnkdEhemM3fpZoqKtC5L5FLkFxSRsHADby/bSs/wUKY8E0VovQCnY4lIJePt5WLQHdfz3KBu7D54gthEdZRIxVKBJeKQ4EA/Xhoawd2RLViWsosX5qRxIve007FEqqTDWXnEz1zBP9fv55Hb2hI/qDu1/HycjiUilVjfju6OEh8fL+JnruCLteookYqhAkvEQT7eXgzp355RAzuzfc8xYpOS2Z2R7XQskSpl666jxCUlcyAzh+cH92TgzQYvL623EpHzC2sUTKKnoyTp/XTmLNlMoTpK5BKpwBKpBG7q0ZRJw/tSWFjMmOmprNh0wOlIIlXC8rQ9jJ+9ktr+PkwdFUWPdg2djiQiVUxQwFW8PDSCu6Na8I/UXUyYk0Z2Tr7TsaQKU4ElUkm0aRpCYmw0YaFBTJ6/jvkfb6OoWFvIipxNQWExMxZtZNbiTXRsXZ+pMdFce83VTscSkSrK29uLIb9pT+yD7o6SuGkp6iiRi6YCS6QSqRPkz2tP9+HWXs1Y9MVOJs5bTW5egdOxRCqVrBOnGPfmSj5d9QP339Ca55/sRWAtX6djiUg1cEM3d0dJUVExz76RSmq6OkrkwqnAEqlkfH28GX5/R566rwPpNpPR05LZ9+NJp2OJVAo79mYRm5TMroxsxj7ajcfuvB5vrbcSkQrUpmkIiTHRtGwczOsL1vHu/6ijRC6MCiyRSsjlcnFH7zAmDutNTl4Bz76Rwppth5yOJeKoL9ftJX7mCry9XEwZGUlkp8ZORxKRaiokyJ9Xn3J3lCz+cievvL2KHHWUSDmpwBKpxMJb1iMxph+h9QKYOG81H3xmKSnRp2hSsxQVFTN36WYSF6ZzXfM6JMREE9Yo2OlYIlLN+fp4MWJAJ56+vyMbdxxmdJI6SqR8ynWTEGNMG+BdoC5wFBhkrd15xjnewBvAbUAJMMla+9aljJW5tgHSgVnW2mcv7q2KVE31Q2oxeUQkM/62kQWffMuujGxiHuiie/xIjXAi9zST56/lm++OcHdkC564qx0+3vpsUESunNsjmtP0mquZ9O5aRk9LYfRDXegZHup0LKnEyvtTajYw01rbBpgJ/Oks5zwMtAJaAxHAi8aY5pc4VlqA/QlYUt43JVLd+Pl6E/dQFwbf1Y5Vmw8ydnoqh47mOh1L5LLanZFNbFIy2/ccY9TAzgzp317FlYg4ol2LuiTERNO4fgAT31nD+59ZirUuS87hvD+pjDENgC7AQs+hhUAXY0z9M04dCMy11hZbaw/jLogGXOIYQDzwEbDjgt+dSDXicrm4p18rXhwSwZHjecQmJrNxR6bTsUQuixWbDjBmeiqFhcVMGt6Xm3o0dTqSiNRw9UNqMWlEJL/q2oS/fPItk+av5adTWpcl/648HwVeCxyw1hYBeL5meI6X1RT4oczjvWXOuagxY0xH4FYgsRw5RWqEzqYBCTHR1A32Z8KcNJYkf6d1WVJtFBWXMP/jbUyev46w0CASY6Np0zTE6VgiIoC7oyT2wS48eXc4q7ccZMz0VA4eUUeJ/Fyl7bUwxvgCc4BhpcWdiLiF1gtgyjNR9AwP5e1lW0lYuIH8Av1nIlVbbl4BE+etZtEXO7m1VzNee7oPdYL8nY4lIvIzLpeL/tEteWloBFknThGXlEy6VUeJ/Et5Cqx9QGPPWqjSNVGNPMfL2gs0K/O4aZlzLmYsFGgJfGyM2QPEAEOMMXPKkVmk2qvl50P8oO48cltb/rl+P/EzV3A4K8/pWCIXZd+PJxk9zf1LylP3dWD4/R3x9fF2OpaIyDl1auPuKKn3H7V4cW4aH36ljhJxO+82ZNbaTGPMRuBBYIHna7pnvVRZi3AXQB/i3m2wPxB5sWPW2r1AvdKLG2NeBAK1i6DIv3h5uRh4syGsUTB//Mt64pKSiX+sO+1a1HU6mki5rdl2iKl/WY+vjxcTh/UmvGW98z9JRKQSaFg3gNdHRjLt/XTe+WgruzOyGfHbTvj56gOimqy8LYLDgJHGmB3ASM9jjDEfG2O6ec55D9gF7ARWAS9ba3df4piIlEOPdg2ZOiqK2v4+jJ+9kuVpe5yOJHJeJSUlfPCZZeK81YTWCyAxpp+KKxGpcmr5+fDcoG48cntbktP389yMVDKzfnI6ljjIVV2nMtevX98c2B0eHo6fn5/TcUSuiJy8Aqb+ZT3rtv/Irb2a8ft7OuDrU2mXWkoNlpdfSNL7G/j6m4P069JEn/iKSLVQdkY+flB3fWhUjeXn57NlyxaAsK5du+4pO6bfvESqkcBavowf3JMBN7bm01U/MO7NlWSdOOV0LJGfOXQ0l7HTU1m1+SCD72pH3ENdVFyJSLXQ4/qG/PGZKAJrXcX42V/zPyt3a11WDaQCS6Sa8fZyMeiO6xn7aDd2eW7UumNvltOxRADYuCOT2MRkjhzP48UhEdzTrxUul8vpWCIiFebaa65m6qgoOpsGzP7wG2Ys2kRBoXb6rUlUYIlUU5GdGjNlZCTe3l7Ez1zBl+v2Oh1JarCSkhKWJH/HhDlp1A32JyEmms6mgdOxREQuiwBPR8lvb2rD/67+gf+ctZJj6iipMVRgiVRjYY2CSRgVxXXN65C4MJ25SzdTVFTsdCypYfILikhYuIG3l22lZ3goU56JIrRegNOxREQuK28vF4/efh3xg7qz++AJYhOTsT8cczqWXAEqsESqueBAP14eGsHdkS1YlrKLF+akcSL3tNOxpIY4nJVH/IxU/rl+P4/c1pb4Qd2p5XfeO4SIiFQbfTo2YsrISPfGFzNX8vkadZRUdyqwRGoAb28vhvRvT8wDndm+5xixScnszsh2OpZUc1t3HSUuKZkDh3N5fnBPBt5s8PLSeisRqXnCGgWTEBNNuxZ1mPZBOnOWbKZQHSXVlgoskRrkxu5NmTS8L0VFxYyZnsqKTQecjiTV1PKvdzPuzZXU9vdh6qgoerRr6HQkERFHBQVcxUtDIvhNVEv+kbqLCXPSyM7JdzqWXAYqsERqmDZNQ0iMiaZFo2Amz1/H/I+3UVSsLWSlYhQUFjNj0UZm/f0bOpsGTI2J5tprrnY6lohIpeDt7cXvfhNO7IPujpK4pGR2HVBHSXWjAkukBgoJ8ufVp3pza69mLPpiJxPnrSY3r8DpWFLFZZ04xbg3V/Lpqh8YcGNrxg/uSWAtX6djiYhUOjd083SUFJcwZnoqqenqKKlOVGCJ1FC+Pt4Mv78jT93XgXSbyehpyez78aTTsaSK2rE3i9ikZHZlZDP20W4MuuN6vLXeSkTknEo7Slo2Dub1Bev480db1VFSTajAEqnBXC4Xd/QOY+Kw3uTkFfDsGyms2XbI6VhSxXyxdi/xM1fg7e3FlJGRRHZq7HQkEZEqwd1R0odbezXj7199xytvryJHHSVVngosESG8ZT0SY/oRWi+AifNW88FnlpISfYomv6yoqJi5SzaT9H461zWvQ8KoKMIaBTsdS0SkSvH18WLEgE48fX9HNu44zOikZPYeOuF0LLkEKrBEBID6IbWYPCKS6M5NWPDJt0yav5a8/EKnY0kllZ2Tzwtz0liWuou7I1vw8tAIggP9nI4lIlJl3R7RnFef6sNPpwp59o1UVm056HQkuUgqsETk//n5ehP3UBcG39WOVZsPMnZ6KoeO5jodSyqZ3RnZxE1LYfueY8Q80Jkh/dvj7a0fJyIil6pdi7okxETTuH4Ar76zhoX/aynWuqwqRz8RReRnXC4X9/RrxYtDIjhyPI/YxGQ27sh0OpZUEqkbDzBmeipFRcVMGt6XG7s3dTqSiEi1Uj+kFpNGRPKrrk3466fujpKfTmldVlWiAktEzqqzaUBCTDR1g/2ZMCeNJcnfaV1WDVZUXML8j7fx+nvraNEomMSYaNo0DXE6lohIteTn603sg1148u5wVm85yJjpqRw8oo6SqkIFloicU2i9AKY8E0XP8FDeXraVhIUbyC8ocjqWXGE5eQVMnLeaRV/s5NZezXj1qd6EBPk7HUtEpFpzuVz0j27JS0MjyDpxirikZNKtOkqqAhVYIvKLavn5ED+oO4/c1pZ/rt9P/IxUDmflOR1LrpB9P57k2WnuH+pP3deB4fd3xNfH2+lYIiI1Rqc27o6Sev9RixfnpvHhV+ooqexUYInIeXl5uRh4s+H5wT05cDiXuKRktu466nQsuczWbD3E6Gkp7hmsYb25o3cYLpduHiwicqU1rBvA6yMjiWjfiHc+2krCX9VRUpmpwBKRcuvRriFTR0VR29+HcW+uZPnXu52OJJdBSUkJH3xmmfjOahrVDyAxph/hLes5HUtEpEar5efDc4O68cjtbUlO389zM1LJzPrJ6VhyFiqwROSCXHvN1UyNiaazacCsv3/DjEUbKSgsdjqWVJC8/EImzV/Lgk++JbpzEyaPiKR+SC2nY4mICO51WQNvMowf3JODR9wdJVu+P+J0LDmDCiwRuWCBtXwZP7gnA25szaerfmDcmyvJOnHK6VhyiQ4dzWXs9FRWbT7I4LvaEfdQF/x8td5KRKSy6XF9Q/74TBSBta5i/Oyv+Z+Vu7UuqxJRgSUiF8Xby8WgO65n7KPd2JWRTWxSMjv2ZjkdSy7Sxh2ZxCYmc+R4Hi8OieCefq203kpEpBK79pqrmToqis6mAbM//IYZizZRUKh1WZWBCiwRuSSRnRozZWQk3t5exM9cwRdr9zodSS5ASUkJS5K/Y8KcNOoG+5Pgaf8UEZHKL8DTUfLbm9rwv6t/4D9nreSYOkocpwJLRC5ZWKNgEkZF8X/t3X9U1HW+x/HnMCASKCFJCoo/Uj4a/k5TUuDu6m7Z3U33lpWndG+WbpYmUBY3rU1X97CZgr9LNyuztdZt81jb5pa3EM1fpWxJ9dHCH+WP/MXFRCQYuH8we5f1bivpDF9meD3O4eB3vp+Zec35eoD3fN6fz3Tv2Iq8l3exfO3HeDxal9XYVVR6mLd6J8+uK2Jgj7bMeSCNtldEOh1LRES+B3eIizHDu5M9dgD7jpwmMzcfe+CU07GaNBVYIuIT0VHhzJyQwk2pnVlXUMzjy7Zwuuxbp2PJdzheUk72ogLe+/Ar7ryhG9ljBxARHup0LBERuUiDe8czZ3IqYaEhZC/ezDvb1VHiFBVYIuIzbncI40f2JOP2vny6/xSZefnsO1zqdCw5T1HxSbLy8jl0vIzHxg3kth8ZQkK03kpEJNB1io9mXkY6yZ1bMf+VXSxb+zFV6ihpcCqwRMTnhg5IJOf+IXg81UxdWMCmvx5yOpJ4/fn9fUxbupnLmocyd0oa1ya3cTqSRgDeSwAAFL5JREFUiIj4UMvIZswYn8KItKt4vaCYXy7bQumZCqdjNSkqsETEL5ISY8jNSKdzfDS/WfkBK9/8BE+1tpB1SmVVNYvWFLLk1Y/oa+KYm5FO+ytbOB1LRET8wO0O4Z4RPcgcXdtRkpWXT/EhdZQ0FBVYIuI3MS2bM3vidVw/qANrNuxl1optlJVXOh2rySk5fY5pSzezfusBRg3tyvRxA4mKCHM6loiI+NkP+yfym0lDqK6uYerCAgp2qaOkIajAEhG/Cgt1M2lUH+67uRe77DEenJ/Pl19/43SsJmPPwRIy8/IpPlzKw2P6M/bGq3FrvZWISJPRtX0M8zLTuSohmidXfcDzbxSpo8TPVGCJSIMYfl0nZk8cTFl5FQ8t2Mj2T446HSnobdhxkOzFm3C7Q5gzOZXUPglORxIREQfEtGjO7ImDuSGlI6+++zm/enYrZ9RR4jeumpoLV7DGmCTgBSAWOAmMtdbuPW+MG1gA3ADUADnW2t9e4rnHgNsBD1AJPGqtXV+fF/bhhx92BPb16NGD8PDw+txFRBrA8ZJyfv38Nr44VMod13fj1mFJuFyaUfElj6eaFa8Xsa6gmF5druDhMf2JjtLPQRERgT9v2c+y1z4iLuYypt11LYltWjodKSBVVFSwe/dugE7XXHPN/rrn6juD9TSw2FqbBCwGnvknY+4AugBdgRTgCWNMx0s8tx0YYK3tBYwDXjHGRNQzs4g0Qq1jIsiZlEp6v3aseuszclbuoLyiyulYQaP0TAWPL9vCuoJibkrtzMwJKSquRETk/wxP6cisewdztqKKhxYUsHX3EacjBZ0LFljGmDigH7Dae9NqoJ8xpvV5Q28Dlltrq621x4G1wKhLOWetXW+tPesd9xHgonYWTUQCWHiYm6zR/bj7pmS2fnyEhxcWcPRkmdOxAt6+w6Vkzd/Ip/tPkXF7X8aP7InbrU5wERH5R8mdY8nNSCchLorZz21n9V8s1VqX5TP1+c3bHjhkrfUAeL8f9t5eVyJwoM7xwTpjLvZcXWOBL6y1X9Ujs4g0ci6Xi5HpXZgxIYUT/1NOZm4+hXuOOR0rYBUUHmLqwgI8nmpy7h/C0AGJTkcSEZFG7IrLI8i5fwg/uKYdv1tf21Fy9pzWZflCQLy1aYxJB34FjHY6i4j4Vp+kOHIz04mNbs4vl21hbf7n1GdtqNTyVNew8s1PePLFD+gcH01uRjpJiTFOxxIRkQAQHuYmc3Q/7hnRg21FR5m6sIDDJ844HSvg1afA+hJI8G5G8bdNKeK9t9d1EOhQ5zixzpiLPYcxJgVYBYy01tp65BWRANMmNpI5D6QxqGdbnl1XxLzVO6mo9Dgdq9E7U17JrBXbWLNhL9cP6sDsidcR07K507FERCSAuFwuRqRdxczxKZScPkdW3kZ2WnWUXIoLFljW2mNAIX+fPRoN7PKul6prDTDeGBPiXZ81EvjDpZwzxgwAXgFusdbuvNgXKSKNX0R4KNljB3Dn8G7k7/yK7EUFHC8pdzpWo/Xl19/w0Px8dtlj3HdzLyaN6kNYqNvpWCIiEqB6J7VmXkY6rS+PYMbyLfzxXXWUXKz6tgjeC0w2xuwBJnuPMca8aYzp7x3zIlAM7AW2AjOttfsu8dwSIAJ4xhhT6P3qeXEvVUQaO5fLxW3DDNPvGsih42Vk5eVTVHzS6ViNzvaiozw4fyNl5VXMnjiY4dd1cjqSiIgEgTaxkcyZnEpKr3iee6OIuS/t5Ny32un3+6rX52AFIn0Olkhg+/Lrb5j93DaOnjzLL37WU0UEUF1dw5oNe3hp/WdclRDNo/85kNYx+uQKERHxrZqaGtZs2Muqtz6lU3w00+66lriYy5yO1aj44nOwREQaVPsrW/DUlHT6mjiWvPoRi9YUUllV7XQsx5RXVJGzcger3vqM9H7tyJmUquJKRET8wuVyceuwJB4bN5CjJ2s7SnZ/ccLpWAFDBZaINFpREWFMHzeQUUO7sn7rAaYt3UzJ6XNOx2pwR06UMXXBRrbtPsLdNyWTNbof4WFabyUiIv414Oo2zJ2SRlREM6Y//T5/2lSsdVn1oAJLRBo1d4iLsTdezcNj+lN8uJTMvHz2HCxxOlaD2WWPkZWXz8nSc8yYkMLI9C64XC6nY4mISBPRLq4Fc6ek0dfE8fRrH7Pw94VUVmmn339FBZaIBITUPgnMmZyK2x1C9uJNbNhx0OlIflVTU8Nr733OE8u3EBvdnNzMdPokxTkdS0REmqBIb0fJrcOSeHv7QR5dsplTTbCjpL5UYIlIwOgUH828KWl079iKvJd3sXztx3g8wbcuq6LSw7zVO1nxehGDerZlzgNptImNdDqWiIg0Ye4QF2OGdyd77AD2HTlNZu572AOnnI7VKKnAEpGAEh0VzswJKdyU2pl1BcU8vmwLpWcqnI7lM8dKzvLIogLe+/Ar7ryhG9ljBxARHup0LBEREQAG945nzuRUwkLdZC/ezDvbDzgdqdFRgSUiAcftDmH8yJ5k3N6XT/efImv+RvYdLnU61iUrKj5JVl4+h4+X8di4gdz2I6P1ViIi0uh0io9mXkY6yZ1bMf+VQp557SOqgrCj5GKpwBKRgDV0QCI59w/B46lm6sICCgoPOR3potTU1PDm+/uYtnQzkc3DmDsljWuT2zgdS0RE5Du1jGzGjPEpjEi7ijc27ePxZ4Kro+RSqMASkYCWlBhDbkY6neOjefLFD1j55id4qgNnC9nKKg+L//BXlr76EX1NHHMz0ml/ZQunY4mIiFyQ2x3CPSN6kDm6L58dOEVWXj7FhwK/o+RSqcASkYAX07I5sydex/WDOrBmw15mrdjGmfJKp2Nd0KnT55i29H3Wbz3AqKFdmT5uIFERYU7HEhER+V5+2D+R30waQnV1TW1Hya7A7CjxFRVYIhIUwkLdTBrVh/tu7sUue4yH5ufz5dffOB3rO+05WEJmbj7Fh0t5eEx/xt54Ne4QrbcSEZHA1LV9DPMy07kqIZonV33A828UBVRHiS+pwBKRoDL8uk7MnjiYsvIqHpy/ke1FR52O9P9s2HGQ7MWbCA0NYc7kVFL7JDgdSURE5JLFtGjO7ImDuSGlI6+++zm/enZrQHSU+JoKLBEJOsmdY5mXkU5C60hmPbeNV962VDeCd9E8nmqWr/2YvJd30b1jK+ZNSaNTfLTTsURERHwmLDSE+2/pzX239Oave4/zYF4+B4+edjpWg1KBJSJBqXVMBDmTUknv145Vb31GzsodlFdUOZan9EwFjy/bwrqCYm5K7czMCSlER4U7lkdERMSfhqd0ZNa9gzlbUcVDCwrYuvuI05EajAosEQla4WFuskb34+6bktm2+whTF2zk6MmyBs+x73ApWfM38un+U2Tc3pfxI3viduvHr4iIBLfkzrHkZqSTEBfF7Oe2s/ovjaOjxN/0G15EgprL5WJkehdmTEjhZOk5MnPzKdxzrMGev6DwEFMXFuDxVJNz/xCGDkhssOcWERFx2hWXR5Bz/xB+cE07fre+tqPk7LngXpelAktEmoQ+SXHkZqYTG92cXy7bwtr8z6mp8d+7aJ7qGla++QlPvvgBneOjyc1IJykxxm/PJyIi0liFh7nJHN2Pe0b0YFvRUaYuLODwiTNOx/IbFVgi0mS0iY1kzgNpDOrZlmfXFTFv9U4qKj0+f54z5ZXMWrGNNRv2cv2gDsyeeB0xLZv7/HlEREQChcvlYkTaVcwcn0LJ6XNk5W1kp224jpKGpAJLRJqUiPBQsscO4M7h3cjf+RXZiwo4XlLus8f/8utveGh+PrvsMe67uReTRvUhLNTts8cXEREJZL2TWjMvI53Wl0cwY/kW/viufztKnKACS0SaHJfLxW3DDNPvGsih42Vk5eVTVHzykh93e9FRHpy/kbLyKmZPHMzw6zr5IK2IiEhwaRMbyZzJqaT0iue5N4qY+9JOzn3r3E6/vqYCS0SarGuT2zB3ShqREaFMW7qZP7+/76Iep7q6hlfetsx6bhsJrSOZl5FOcudYH6cVEREJHs3DQ3lkTH/GDO/OxsKveGTRJo6VnHU6lk+owBKRJq39lS14ako6fU0cS179iEVrCqmsqq73/csrqshZuYNVb31Ger925ExKpXVMhB8Ti4iIBAeXy8Wtw5J4bNxAjp6s7SjZ/cUJp2NdMhVYItLkRUWEMX3cQEYN7cr6rQeYtnQzJafPXfB+R06UMXXBRrbtPsLdNyWTNbof4WFabyUiIvJ9DLi6tqMkKqIZ059+nz9tKg7odVkqsEREAHeIi7E3Xs0jY/tTfLiUzLx89hws+c7xu+wxsvLyOVl6jhkTUhiZ3gWXy9WAiUVERIJHu7gWzJ2SRr9ucTz92scs/H0hlVW+3+m3IajAEhGpY0jvBOZMTsXtDiF78SY27Dj4D+dramp47b3PeWL5FmKjm5ObmU6fpDiH0oqIiASPyIgwpt81kFuHJfH29oM8umQzp+rRUdLYqMASETlPJ+8HA3fv2Iq8l3exfO3HeDzVVFR6mLd6JyteL2JQz7bMeSCNNrGRTscVEREJGiEhLsYM70722AHsP3KazNz3sAdOOR3rewl1OoCISGPUMrIZMyeksOKNItZtLGb/kdOcPVfJF4dKuXN4N24dmqSWQBERET8Z3DuehLgoZq3YRvbizdx/Sy+GXdvB6Vj1ohksEZHv4HaHMH5ETzJH9+XT/ac4dLyM6XcN5LZhRsWViIiIn3Vs29L70SetmP9KYcC0C2oGS0TkAn7YPxHToRVhoSHExVzmdBwREZEmo2VkM2aMT2HfkdO0atnc6Tj1ogJLRKQeElpHOR1BRESkSXK7Q+jS7nKnY9SbWgRFRERERER8pF4zWMaYJOAFIBY4CYy11u49b4wbWADcANQAOdba3/rrnIiIiIiISGNT3xmsp4HF1tokYDHwzD8ZcwfQBegKpABPGGM6+vGciIiIiIhIo3LBAssYEwf0A1Z7b1oN9DPGtD5v6G3AcmtttbX2OLAWGOXHcyIiIiIiIo1KfWaw2gOHrLUeAO/3w97b60oEDtQ5PlhnjD/OiYiIiIiINCra5EJERERERMRH6rPJxZdAgjHGba31eDeeiPfeXtdBoAOww3tcd/bJH+cuxA3w7bff1nO4iIiIiIjIhdWpMdznn7tggWWtPWaMKQRGA6u833d510TVtQYYb4z5I7W7DY4EUv147kLaAuzZs6eew0VERERERL6XtsAXdW+o7wcN3wu8YIx5HCgBxgIYY94EHrfWfgC8CAwE/rZ9+0xr7T7vv/1x7kJ2UFuMHQE89byPiIiIiIjIhbipLa52nH/CVVNT0/BxREREREREgpA2uRAREREREfERFVgiIiIiIiI+ogJLRERERETER1RgiYiIiIiI+IgKLBERERERER9RgSUiIiIiIuIjKrBERERERER8RAWWiIiIiIiIj4Q6HaApMMY8BdwMdAR6Wmt3O5tIfEnXN7gZY2KBF4GrgG+BvcAvrLXHHQ0mPmWMWQt0AqqBM8Bka22hs6nEV3R9g5uub9NhjPkl8ASN/O8tzWA1jLVAGnDA6SDiF7q+wa0GeNJaa6y1PYEvgByHM4nv/dxa29ta2xd4CljhdCDxKV3f4Kbr2wQYY/oBgwiAv7c0g9UArLWbAIwxTkcRP9D1DW7W2lPAe3Vu2gpMdCaN+Iu1trTOYTS174RLkND1DW66vsHPGBMOLAZG84+/kxslFVgiIvVkjAmhtrha53QW8T1jzG+BHwMu4AaH44iP6foGN13foDcTWGWt3R8Ib2irRVBEpP4WUtvfv8jpIOJ71tp7rLWJwKPAHKfziG/p+gY3Xd/gZYxJAfoDS5zOUl8qsERE6sG7mUlX4DZrrdpPgpi19kXgB94NTiTI6PoGN13foJQOdAf2GWP2A+2A9caYHzsZ6l9Ri6CIyAUYY34NXAP8u7W2wuk84lvGmCggxlr7pff4p8Ap75cEOF3f4KbrG/ystTnU2VzKW2T9pDHvIqgCqwEYYxYA/wG0Ad4xxpy01iY7HEt8RNc3uBljkoH/AvYA73t7v/dZa3/maDDxpUhgjTEmEvBQ+4fZT621Nc7GEh/R9Q1uur7S6LhqavT/T0RERERExBe0BktERERERMRHVGCJiIiIiIj4iAosERERERERH1GBJSIiIiIi4iMqsERERERERHxEBZaIiIiIiIiP6HOwREQkaBhjhgBPAsnUfibOp0CG9/gea+0QB+OJiEgToAJLRESCgjGmJfAGMBH4PdAMSAUqnMwlIiJNiz5oWEREgoIxpj/wjrX28vNu7w7sAsKAcqDKWnu5MSYcmA3cCoQDrwGZ1tpyY8y/AauAJUAWcAaYZq19yfuYNwJPAe2B00CutfYp/79KERFp7LQGS0REgsUewGOMecEYM9wYEwNgrf0UuBfYYq2NqlOA5QBJQB+gC5AAPF7n8doAV3hv/zmwzBhjvOeeBX5hrW0B9AD+278vTUREAoUKLBERCQrW2tPAEKAGWA4cN8asM8Zcef5YY4wLmEDtjNUpa+03wK+B288b+pi1tsJamw/8idrZLoBK4GpjTEtrbYm1dqefXpaIiAQYrcESEZGg4Z2t+k8AY0w3atv88oD15w1tDVwGfPj3SSlcgLvOmBJrbVmd4wNAvPffNwPTgRxjzEdAtrV2i+9eiYiIBCrNYImISFCy1n4GPE9tC9/5C45PULseK9lae7n3K9paG1VnTIwxJrLOcSJw2PvYO6y1I4A4YC21m2qIiIiowBIRkeBgjOlmjHnQGNPOe9weGA1sBb4G2hljmgFYa6upbSPMNcbEeccnGGOuP+9hZxhjmhljUoGfAGu8x3cYY6KttZXUbnJR3SAvUkREGj0VWCIiEiy+AQYC24wxZdQWVruBB6ndhKIIOGqMOeEd/wjwObDVGHMaeAcwdR7vKFBC7azVS8C93lkxgDHAfu/97gXu8OcLExGRwKFt2kVERM7zt23arbXtnM4iIiKBRTNYIiIiIiIiPqICS0RERERExEfUIigiIiIiIuIjmsESERERERHxERVYIiIiIiIiPqICS0RERERExEdUYImIiIiIiPiICiwREREREREf+V+wyf6FO1jFBAAAAABJRU5ErkJggg==\n",
          "text/plain": "<Figure size 864x288 with 1 Axes>"
         },
         "metadata": {
          "needs_background": "light"
         },
         "output_type": "display_data"
        }
       ]
      }
     },
     "4124a8587aa34967ab486a59501b9770": {
      "model_module": "@jupyter-widgets/base",
      "model_module_version": "1.2.0",
      "model_name": "LayoutModel",
      "state": {}
     },
     "45154b9bedb443af9c66fd39fe57d3f4": {
      "model_module": "@jupyter-widgets/base",
      "model_module_version": "1.2.0",
      "model_name": "LayoutModel",
      "state": {}
     },
     "470c8ce9d9564279ad0c85d389624580": {
      "model_module": "@jupyter-widgets/controls",
      "model_module_version": "1.5.0",
      "model_name": "IntProgressModel",
      "state": {
       "bar_style": "success",
       "description": "U",
       "layout": "IPY_MODEL_0ceee05523f84627a32535bed4677205",
       "orientation": "vertical",
       "style": "IPY_MODEL_6ed6ffd3685a42998a87aa247d877c34"
      }
     },
     "5a84e821256d4cf1a6634f17b9c07c99": {
      "model_module": "@jupyter-widgets/base",
      "model_module_version": "1.2.0",
      "model_name": "LayoutModel",
      "state": {}
     },
     "63c269ce0fcb4de3ba69ffb838f116a8": {
      "model_module": "@jupyter-widgets/output",
      "model_module_version": "1.0.0",
      "model_name": "OutputModel",
      "state": {
       "layout": "IPY_MODEL_31cd55290e864943b2bd2ba21c94abfc",
       "outputs": [
        {
         "data": {
          "image/png": "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\n",
          "text/plain": "<Figure size 864x288 with 1 Axes>"
         },
         "metadata": {
          "needs_background": "light"
         },
         "output_type": "display_data"
        }
       ]
      }
     },
     "68f561e74d9b495e995ac439601f1946": {
      "model_module": "@jupyter-widgets/output",
      "model_module_version": "1.0.0",
      "model_name": "OutputModel",
      "state": {
       "layout": "IPY_MODEL_45154b9bedb443af9c66fd39fe57d3f4",
       "outputs": [
        {
         "data": {
          "application/vnd.jupyter.widget-view+json": {
           "model_id": "da7eb25a19f04688b8417e2da4e9a943",
           "version_major": 2,
           "version_minor": 0
          },
          "text/plain": "IntProgress(value=0, bar_style='success', description='M: 0%', orientation='vertical')"
         },
         "metadata": {},
         "output_type": "display_data"
        }
       ]
      }
     },
     "6dc1e0981e124bd28f98bfb6c7666012": {
      "model_module": "@jupyter-widgets/base",
      "model_module_version": "1.2.0",
      "model_name": "LayoutModel",
      "state": {}
     },
     "6ed6ffd3685a42998a87aa247d877c34": {
      "model_module": "@jupyter-widgets/controls",
      "model_module_version": "1.5.0",
      "model_name": "ProgressStyleModel",
      "state": {
       "description_width": ""
      }
     },
     "7ffeabc7587c411991a9afbf046abae3": {
      "model_module": "@jupyter-widgets/controls",
      "model_module_version": "1.5.0",
      "model_name": "HBoxModel",
      "state": {
       "children": [
        "IPY_MODEL_8b790abaf62e4046ac2affd8eb560319",
        "IPY_MODEL_63c269ce0fcb4de3ba69ffb838f116a8"
       ],
       "layout": "IPY_MODEL_6dc1e0981e124bd28f98bfb6c7666012"
      }
     },
     "89fd516266d84cb3b5698b1706d7a4f9": {
      "model_module": "@jupyter-widgets/base",
      "model_module_version": "1.2.0",
      "model_name": "LayoutModel",
      "state": {}
     },
     "8b790abaf62e4046ac2affd8eb560319": {
      "model_module": "@jupyter-widgets/output",
      "model_module_version": "1.0.0",
      "model_name": "OutputModel",
      "state": {
       "layout": "IPY_MODEL_5a84e821256d4cf1a6634f17b9c07c99",
       "outputs": [
        {
         "data": {
          "image/png": "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\n",
          "text/plain": "<Figure size 864x288 with 1 Axes>"
         },
         "metadata": {
          "needs_background": "light"
         },
         "output_type": "display_data"
        }
       ]
      }
     },
     "991fb721bad14a40ace1d668895c8b10": {
      "model_module": "@jupyter-widgets/controls",
      "model_module_version": "1.5.0",
      "model_name": "DescriptionStyleModel",
      "state": {
       "description_width": ""
      }
     },
     "a695612cec174e68b630db5a6ac956c2": {
      "model_module": "@jupyter-widgets/base",
      "model_module_version": "1.2.0",
      "model_name": "LayoutModel",
      "state": {}
     },
     "a9957f394a64400ab62da579d571c8f5": {
      "model_module": "@jupyter-widgets/controls",
      "model_module_version": "1.5.0",
      "model_name": "ProgressStyleModel",
      "state": {
       "description_width": ""
      }
     },
     "b02d058a59534e4b93866f1216927ae9": {
      "model_module": "@jupyter-widgets/controls",
      "model_module_version": "1.5.0",
      "model_name": "HBoxModel",
      "state": {
       "children": [
        "IPY_MODEL_68f561e74d9b495e995ac439601f1946",
        "IPY_MODEL_c2db779ff0c946e4afbbfb1ad9a83b40",
        "IPY_MODEL_10f2d8ea2b3546d8a7847bd08e616105"
       ],
       "layout": "IPY_MODEL_004783a1c0a8409faf54ca8064e30f15"
      }
     },
     "bcd2621c07034b27b45cdb902c957252": {
      "model_module": "@jupyter-widgets/controls",
      "model_module_version": "1.5.0",
      "model_name": "HBoxModel",
      "state": {
       "children": [
        "IPY_MODEL_042009596559409d8b06d0a3037b6738",
        "IPY_MODEL_bdbf8c266d534fe7919495f64baebb6c"
       ],
       "layout": "IPY_MODEL_f5a8950b494548a5ac574ddcc17036b8"
      }
     },
     "bdbf8c266d534fe7919495f64baebb6c": {
      "model_module": "@jupyter-widgets/output",
      "model_module_version": "1.0.0",
      "model_name": "OutputModel",
      "state": {
       "layout": "IPY_MODEL_0cce34a5c90c4130b2933e14e11eb679",
       "outputs": [
        {
         "data": {
          "application/vnd.jupyter.widget-view+json": {
           "model_id": "06b91377344b497ba7cf4b251fe480f5",
           "version_major": 2,
           "version_minor": 0
          },
          "text/plain": "IntProgress(value=0, bar_style='info', max=196)"
         },
         "metadata": {},
         "output_type": "display_data"
        }
       ]
      }
     },
     "c2db779ff0c946e4afbbfb1ad9a83b40": {
      "model_module": "@jupyter-widgets/output",
      "model_module_version": "1.0.0",
      "model_name": "OutputModel",
      "state": {
       "layout": "IPY_MODEL_338bcb22d36f4f269e85f7d5a0b2eae8",
       "outputs": [
        {
         "data": {
          "application/vnd.jupyter.widget-view+json": {
           "model_id": "470c8ce9d9564279ad0c85d389624580",
           "version_major": 2,
           "version_minor": 0
          },
          "text/plain": "IntProgress(value=0, bar_style='success', description='U: 0%', orientation='vertical')"
         },
         "metadata": {},
         "output_type": "display_data"
        }
       ]
      }
     },
     "d0e815ace2e04b63b83289484ec37903": {
      "model_module": "@jupyter-widgets/controls",
      "model_module_version": "1.5.0",
      "model_name": "HBoxModel",
      "state": {
       "children": [
        "IPY_MODEL_3846aca8a2664137b36ae0c41911aee4",
        "IPY_MODEL_350d2eae367f4555b72a7ea87f3d826d"
       ],
       "layout": "IPY_MODEL_fa73ba3b0601496ba52ebb295b093823"
      }
     },
     "da7eb25a19f04688b8417e2da4e9a943": {
      "model_module": "@jupyter-widgets/controls",
      "model_module_version": "1.5.0",
      "model_name": "IntProgressModel",
      "state": {
       "bar_style": "success",
       "description": "M",
       "layout": "IPY_MODEL_e7fee59b8d98401f968ee665185b0cd6",
       "orientation": "vertical",
       "style": "IPY_MODEL_1870e79385c2422090c441b5767f0fb1"
      }
     },
     "e7fee59b8d98401f968ee665185b0cd6": {
      "model_module": "@jupyter-widgets/base",
      "model_module_version": "1.2.0",
      "model_name": "LayoutModel",
      "state": {}
     },
     "f5a8950b494548a5ac574ddcc17036b8": {
      "model_module": "@jupyter-widgets/base",
      "model_module_version": "1.2.0",
      "model_name": "LayoutModel",
      "state": {}
     },
     "fa73ba3b0601496ba52ebb295b093823": {
      "model_module": "@jupyter-widgets/base",
      "model_module_version": "1.2.0",
      "model_name": "LayoutModel",
      "state": {}
     }
    },
    "version_major": 2,
    "version_minor": 0
   }
  }
 },
 "nbformat": 4,
 "nbformat_minor": 4
}
