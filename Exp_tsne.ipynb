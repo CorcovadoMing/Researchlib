{
 "cells": [
  {
   "cell_type": "code",
   "execution_count": 12,
   "metadata": {},
   "outputs": [
    {
     "name": "stdout",
     "output_type": "stream",
     "text": [
      "(1083, 1083)\n",
      "1083 2 2\n",
      "Train Epoch: 0 \tLoss: 3.597886e-06\n",
      "Train Epoch: 0 \tLoss: 3.570108e-06\n",
      "Train Epoch: 0 \tLoss: 3.535113e-06\n",
      "Train Epoch: 0 \tLoss: 3.486802e-06\n",
      "Train Epoch: 0 \tLoss: 3.465486e-06\n",
      "^C\n",
      "Traceback (most recent call last):\n",
      "  File \"run.py\", line 80, in <module>\n",
      "    ax = plt.gca()\n",
      "  File \"/opt/conda/lib/python3.6/site-packages/matplotlib/pyplot.py\", line 935, in gca\n",
      "    return gcf().gca(**kwargs)\n",
      "  File \"/opt/conda/lib/python3.6/site-packages/matplotlib/figure.py\", line 1863, in gca\n",
      "    return self.add_subplot(1, 1, 1, **kwargs)\n",
      "  File \"/opt/conda/lib/python3.6/site-packages/matplotlib/figure.py\", line 1367, in add_subplot\n",
      "    a = subplot_class_factory(projection_class)(self, *args, **kwargs)\n",
      "  File \"/opt/conda/lib/python3.6/site-packages/matplotlib/axes/_subplots.py\", line 70, in __init__\n",
      "    self._axes_class.__init__(self, fig, self.figbox, **kwargs)\n",
      "  File \"/opt/conda/lib/python3.6/site-packages/matplotlib/axes/_base.py\", line 491, in __init__\n",
      "    self.cla()\n",
      "  File \"/opt/conda/lib/python3.6/site-packages/matplotlib/axes/_base.py\", line 1050, in cla\n",
      "    self.grid(False)  # Disable grid on init to use rcParameter\n",
      "  File \"/opt/conda/lib/python3.6/site-packages/matplotlib/axes/_base.py\", line 2766, in grid\n",
      "    self.yaxis.grid(b, which=which, **kwargs)\n",
      "  File \"/opt/conda/lib/python3.6/site-packages/matplotlib/axis.py\", line 1457, in grid\n",
      "    **gridkw)\n",
      "  File \"/opt/conda/lib/python3.6/site-packages/matplotlib/axis.py\", line 862, in set_tick_params\n",
      "    for tick in self.majorTicks:\n",
      "  File \"/opt/conda/lib/python3.6/site-packages/matplotlib/axis.py\", line 677, in __get__\n",
      "    tick = instance._get_tick(major=True)\n",
      "  File \"/opt/conda/lib/python3.6/site-packages/matplotlib/axis.py\", line 2194, in _get_tick\n",
      "    return YTick(self.axes, 0, '', major=major, **tick_kw)\n",
      "  File \"/opt/conda/lib/python3.6/site-packages/matplotlib/axis.py\", line 175, in __init__\n",
      "    self.tick2line = self._get_tick2line()\n",
      "  File \"/opt/conda/lib/python3.6/site-packages/matplotlib/axis.py\", line 610, in _get_tick2line\n",
      "    l.set_transform(self.axes.get_yaxis_transform(which='tick2'))\n",
      "  File \"/opt/conda/lib/python3.6/site-packages/matplotlib/axes/_base.py\", line 758, in get_yaxis_transform\n",
      "    return self.spines['right'].get_spine_transform()\n",
      "  File \"/opt/conda/lib/python3.6/site-packages/matplotlib/spines.py\", line 438, in get_spine_transform\n",
      "    self._ensure_position_is_set()\n",
      "  File \"/opt/conda/lib/python3.6/site-packages/matplotlib/spines.py\", line 162, in _ensure_position_is_set\n",
      "    self.set_position(self._position)\n",
      "  File \"/opt/conda/lib/python3.6/site-packages/matplotlib/spines.py\", line 425, in set_position\n",
      "    self.set_transform(self.get_spine_transform())\n",
      "  File \"/opt/conda/lib/python3.6/site-packages/matplotlib/artist.py\", line 336, in set_transform\n",
      "    self.stale = True\n",
      "  File \"/opt/conda/lib/python3.6/site-packages/matplotlib/artist.py\", line 236, in stale\n",
      "    self.stale_callback(self, val)\n",
      "  File \"/opt/conda/lib/python3.6/site-packages/matplotlib/artist.py\", line 63, in _stale_axes_callback\n",
      "    self.axes.stale = val\n",
      "  File \"/opt/conda/lib/python3.6/site-packages/matplotlib/artist.py\", line 225, in stale\n",
      "    @stale.setter\n",
      "KeyboardInterrupt\n"
     ]
    }
   ],
   "source": [
    "!cd topicsne && python run.py"
   ]
  },
  {
   "cell_type": "code",
   "execution_count": null,
   "metadata": {},
   "outputs": [],
   "source": []
  }
 ],
 "metadata": {
  "kernelspec": {
   "display_name": "Python 3",
   "language": "python",
   "name": "python3"
  },
  "language_info": {
   "codemirror_mode": {
    "name": "ipython",
    "version": 3
   },
   "file_extension": ".py",
   "mimetype": "text/x-python",
   "name": "python",
   "nbconvert_exporter": "python",
   "pygments_lexer": "ipython3",
   "version": "3.6.7"
  }
 },
 "nbformat": 4,
 "nbformat_minor": 2
}
