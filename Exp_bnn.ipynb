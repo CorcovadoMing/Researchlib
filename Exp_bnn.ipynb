{
 "cells": [
  {
   "cell_type": "code",
   "execution_count": 1,
   "metadata": {},
   "outputs": [],
   "source": [
    "%load_ext autoreload\n",
    "%autoreload 2"
   ]
  },
  {
   "cell_type": "code",
   "execution_count": 1,
   "metadata": {},
   "outputs": [],
   "source": [
    "from researchlib.single_import import *"
   ]
  },
  {
   "cell_type": "markdown",
   "metadata": {},
   "source": [
    "# 1. Binary Linear Model"
   ]
  },
  {
   "cell_type": "code",
   "execution_count": 2,
   "metadata": {},
   "outputs": [],
   "source": [
    "model = builder([\n",
    "    Reshape((-1, 784)),\n",
    "    layer.BinarizeLinear(784, 512),\n",
    "    nn.BatchNorm1d(512),\n",
    "    nn.Hardtanh(),\n",
    "    layer.BinarizeLinear(512, 256),\n",
    "    nn.BatchNorm1d(256),\n",
    "    nn.Hardtanh(),\n",
    "    layer.BinarizeLinear(256, 128),\n",
    "    nn.BatchNorm1d(128),\n",
    "    nn.Hardtanh(),\n",
    "    layer.BinarizeLinear(128, 10),\n",
    "    nn.LogSoftmax(-1),\n",
    "])"
   ]
  },
  {
   "cell_type": "code",
   "execution_count": 13,
   "metadata": {},
   "outputs": [],
   "source": [
    "train_loader = FromVisionDataset(vision.MNIST(True), batch_size=128)\n",
    "test_loader = FromVisionDataset(vision.MNIST(False), batch_size=128)"
   ]
  },
  {
   "cell_type": "code",
   "execution_count": 14,
   "metadata": {},
   "outputs": [],
   "source": [
    "runner = Runner(model, train_loader, test_loader, 'adam', 'nll')"
   ]
  },
  {
   "cell_type": "code",
   "execution_count": 15,
   "metadata": {},
   "outputs": [
    {
     "name": "stdout",
     "output_type": "stream",
     "text": [
      "Init xavier_normal: BinarizeLinear(in_features=784, out_features=512, bias=True)\n",
      "Init xavier_normal: BinarizeLinear(in_features=512, out_features=256, bias=True)\n",
      "Init xavier_normal: BinarizeLinear(in_features=256, out_features=128, bias=True)\n",
      "Init xavier_normal: BinarizeLinear(in_features=128, out_features=10, bias=True)\n",
      "Init xavier_normal: Sequential(\n",
      "  (0): Reshape()\n",
      "  (1): BinarizeLinear(in_features=784, out_features=512, bias=True)\n",
      "  (2): BatchNorm1d(512, eps=1e-05, momentum=0.1, affine=True, track_running_stats=True)\n",
      "  (3): Hardtanh(min_val=-1.0, max_val=1.0)\n",
      "  (4): BinarizeLinear(in_features=512, out_features=256, bias=True)\n",
      "  (5): BatchNorm1d(256, eps=1e-05, momentum=0.1, affine=True, track_running_stats=True)\n",
      "  (6): Hardtanh(min_val=-1.0, max_val=1.0)\n",
      "  (7): BinarizeLinear(in_features=256, out_features=128, bias=True)\n",
      "  (8): BatchNorm1d(128, eps=1e-05, momentum=0.1, affine=True, track_running_stats=True)\n",
      "  (9): Hardtanh(min_val=-1.0, max_val=1.0)\n",
      "  (10): BinarizeLinear(in_features=128, out_features=10, bias=True)\n",
      "  (11): LogSoftmax()\n",
      ")\n",
      "Init xavier_normal: Sequential(\n",
      "  (0): Reshape()\n",
      "  (1): BinarizeLinear(in_features=784, out_features=512, bias=True)\n",
      "  (2): BatchNorm1d(512, eps=1e-05, momentum=0.1, affine=True, track_running_stats=True)\n",
      "  (3): Hardtanh(min_val=-1.0, max_val=1.0)\n",
      "  (4): BinarizeLinear(in_features=512, out_features=256, bias=True)\n",
      "  (5): BatchNorm1d(256, eps=1e-05, momentum=0.1, affine=True, track_running_stats=True)\n",
      "  (6): Hardtanh(min_val=-1.0, max_val=1.0)\n",
      "  (7): BinarizeLinear(in_features=256, out_features=128, bias=True)\n",
      "  (8): BatchNorm1d(128, eps=1e-05, momentum=0.1, affine=True, track_running_stats=True)\n",
      "  (9): Hardtanh(min_val=-1.0, max_val=1.0)\n",
      "  (10): BinarizeLinear(in_features=128, out_features=10, bias=True)\n",
      "  (11): LogSoftmax()\n",
      ")\n",
      "Init xavier_normal: Sequential(\n",
      "  (0): Reshape()\n",
      "  (1): BinarizeLinear(in_features=784, out_features=512, bias=True)\n",
      "  (2): BatchNorm1d(512, eps=1e-05, momentum=0.1, affine=True, track_running_stats=True)\n",
      "  (3): Hardtanh(min_val=-1.0, max_val=1.0)\n",
      "  (4): BinarizeLinear(in_features=512, out_features=256, bias=True)\n",
      "  (5): BatchNorm1d(256, eps=1e-05, momentum=0.1, affine=True, track_running_stats=True)\n",
      "  (6): Hardtanh(min_val=-1.0, max_val=1.0)\n",
      "  (7): BinarizeLinear(in_features=256, out_features=128, bias=True)\n",
      "  (8): BatchNorm1d(128, eps=1e-05, momentum=0.1, affine=True, track_running_stats=True)\n",
      "  (9): Hardtanh(min_val=-1.0, max_val=1.0)\n",
      "  (10): BinarizeLinear(in_features=128, out_features=10, bias=True)\n",
      "  (11): LogSoftmax()\n",
      ")\n",
      "Init xavier_normal: Sequential(\n",
      "  (0): Reshape()\n",
      "  (1): BinarizeLinear(in_features=784, out_features=512, bias=True)\n",
      "  (2): BatchNorm1d(512, eps=1e-05, momentum=0.1, affine=True, track_running_stats=True)\n",
      "  (3): Hardtanh(min_val=-1.0, max_val=1.0)\n",
      "  (4): BinarizeLinear(in_features=512, out_features=256, bias=True)\n",
      "  (5): BatchNorm1d(256, eps=1e-05, momentum=0.1, affine=True, track_running_stats=True)\n",
      "  (6): Hardtanh(min_val=-1.0, max_val=1.0)\n",
      "  (7): BinarizeLinear(in_features=256, out_features=128, bias=True)\n",
      "  (8): BatchNorm1d(128, eps=1e-05, momentum=0.1, affine=True, track_running_stats=True)\n",
      "  (9): Hardtanh(min_val=-1.0, max_val=1.0)\n",
      "  (10): BinarizeLinear(in_features=128, out_features=10, bias=True)\n",
      "  (11): LogSoftmax()\n",
      ")\n"
     ]
    }
   ],
   "source": [
    "runner.init_model()"
   ]
  },
  {
   "cell_type": "code",
   "execution_count": 17,
   "metadata": {},
   "outputs": [
    {
     "data": {
      "application/vnd.jupyter.widget-view+json": {
       "model_id": "dcd44a4702664949ab58e6c1c6aac86d",
       "version_major": 2,
       "version_minor": 0
      },
      "text/plain": [
       "HBox(children=(IntProgress(value=0, max=4), HTML(value='')))"
      ]
     },
     "metadata": {},
     "output_type": "display_data"
    },
    {
     "data": {
      "application/vnd.jupyter.widget-view+json": {
       "model_id": "",
       "version_major": 2,
       "version_minor": 0
      },
      "text/plain": [
       "HBox(children=(IntProgress(value=0, max=469), HTML(value='')))"
      ]
     },
     "metadata": {},
     "output_type": "display_data"
    },
    {
     "name": "stdout",
     "output_type": "stream",
     "text": [
      "  Epochs    train_loss    train_acc      val_loss      val_acc    \n",
      "================================================================\n",
      "    1         0.8334        0.9308        1.1069        0.9215    \n"
     ]
    },
    {
     "data": {
      "application/vnd.jupyter.widget-view+json": {
       "model_id": "",
       "version_major": 2,
       "version_minor": 0
      },
      "text/plain": [
       "HBox(children=(IntProgress(value=0, max=469), HTML(value='')))"
      ]
     },
     "metadata": {},
     "output_type": "display_data"
    },
    {
     "name": "stdout",
     "output_type": "stream",
     "text": [
      "    2         0.7348        0.9399        0.4221        0.9645    \n"
     ]
    },
    {
     "data": {
      "application/vnd.jupyter.widget-view+json": {
       "model_id": "",
       "version_major": 2,
       "version_minor": 0
      },
      "text/plain": [
       "HBox(children=(IntProgress(value=0, max=469), HTML(value='')))"
      ]
     },
     "metadata": {},
     "output_type": "display_data"
    },
    {
     "name": "stdout",
     "output_type": "stream",
     "text": [
      "    3         0.6158        0.9481        0.9481        0.9336    \n"
     ]
    },
    {
     "data": {
      "application/vnd.jupyter.widget-view+json": {
       "model_id": "",
       "version_major": 2,
       "version_minor": 0
      },
      "text/plain": [
       "HBox(children=(IntProgress(value=0, max=469), HTML(value='')))"
      ]
     },
     "metadata": {},
     "output_type": "display_data"
    },
    {
     "name": "stdout",
     "output_type": "stream",
     "text": [
      "    4         0.6126        0.9510        0.4871        0.9631    \n",
      "\n"
     ]
    }
   ],
   "source": [
    "runner.fit(4, 1e-2, callbacks=[Binarized()])"
   ]
  },
  {
   "cell_type": "markdown",
   "metadata": {},
   "source": [
    "# 2. Binary Convolution Model"
   ]
  },
  {
   "cell_type": "code",
   "execution_count": 5,
   "metadata": {},
   "outputs": [],
   "source": [
    "model = builder([\n",
    "    layer.BinarizeConv2d(1, 64, 5),\n",
    "    nn.BatchNorm2d(64),\n",
    "    nn.Hardtanh(),\n",
    "    nn.MaxPool2d(2),\n",
    "    layer.BinarizeConv2d(64, 128, 5),\n",
    "    nn.BatchNorm2d(128),\n",
    "    nn.Hardtanh(),\n",
    "    nn.MaxPool2d(2),\n",
    "    Flatten(),\n",
    "    layer.BinarizeLinear(2048, 10),\n",
    "    nn.LogSoftmax(-1)\n",
    "])"
   ]
  },
  {
   "cell_type": "code",
   "execution_count": 20,
   "metadata": {},
   "outputs": [],
   "source": [
    "runner = Runner(model, train_loader, test_loader, 'adam', 'nll')"
   ]
  },
  {
   "cell_type": "code",
   "execution_count": 21,
   "metadata": {},
   "outputs": [
    {
     "name": "stdout",
     "output_type": "stream",
     "text": [
      "Init xavier_normal: BinarizeConv2d(1, 64, kernel_size=(5, 5), stride=(1, 1))\n",
      "Init xavier_normal: BinarizeConv2d(64, 128, kernel_size=(5, 5), stride=(1, 1))\n",
      "Init xavier_normal: BinarizeLinear(in_features=2048, out_features=10, bias=True)\n",
      "Init xavier_normal: Sequential(\n",
      "  (0): BinarizeConv2d(1, 64, kernel_size=(5, 5), stride=(1, 1))\n",
      "  (1): BatchNorm2d(64, eps=1e-05, momentum=0.1, affine=True, track_running_stats=True)\n",
      "  (2): Hardtanh(min_val=-1.0, max_val=1.0)\n",
      "  (3): MaxPool2d(kernel_size=2, stride=2, padding=0, dilation=1, ceil_mode=False)\n",
      "  (4): BinarizeConv2d(64, 128, kernel_size=(5, 5), stride=(1, 1))\n",
      "  (5): BatchNorm2d(128, eps=1e-05, momentum=0.1, affine=True, track_running_stats=True)\n",
      "  (6): Hardtanh(min_val=-1.0, max_val=1.0)\n",
      "  (7): MaxPool2d(kernel_size=2, stride=2, padding=0, dilation=1, ceil_mode=False)\n",
      "  (8): Flatten()\n",
      "  (9): BinarizeLinear(in_features=2048, out_features=10, bias=True)\n",
      "  (10): LogSoftmax()\n",
      ")\n",
      "Init xavier_normal: Sequential(\n",
      "  (0): BinarizeConv2d(1, 64, kernel_size=(5, 5), stride=(1, 1))\n",
      "  (1): BatchNorm2d(64, eps=1e-05, momentum=0.1, affine=True, track_running_stats=True)\n",
      "  (2): Hardtanh(min_val=-1.0, max_val=1.0)\n",
      "  (3): MaxPool2d(kernel_size=2, stride=2, padding=0, dilation=1, ceil_mode=False)\n",
      "  (4): BinarizeConv2d(64, 128, kernel_size=(5, 5), stride=(1, 1))\n",
      "  (5): BatchNorm2d(128, eps=1e-05, momentum=0.1, affine=True, track_running_stats=True)\n",
      "  (6): Hardtanh(min_val=-1.0, max_val=1.0)\n",
      "  (7): MaxPool2d(kernel_size=2, stride=2, padding=0, dilation=1, ceil_mode=False)\n",
      "  (8): Flatten()\n",
      "  (9): BinarizeLinear(in_features=2048, out_features=10, bias=True)\n",
      "  (10): LogSoftmax()\n",
      ")\n",
      "Init xavier_normal: Sequential(\n",
      "  (0): BinarizeConv2d(1, 64, kernel_size=(5, 5), stride=(1, 1))\n",
      "  (1): BatchNorm2d(64, eps=1e-05, momentum=0.1, affine=True, track_running_stats=True)\n",
      "  (2): Hardtanh(min_val=-1.0, max_val=1.0)\n",
      "  (3): MaxPool2d(kernel_size=2, stride=2, padding=0, dilation=1, ceil_mode=False)\n",
      "  (4): BinarizeConv2d(64, 128, kernel_size=(5, 5), stride=(1, 1))\n",
      "  (5): BatchNorm2d(128, eps=1e-05, momentum=0.1, affine=True, track_running_stats=True)\n",
      "  (6): Hardtanh(min_val=-1.0, max_val=1.0)\n",
      "  (7): MaxPool2d(kernel_size=2, stride=2, padding=0, dilation=1, ceil_mode=False)\n",
      "  (8): Flatten()\n",
      "  (9): BinarizeLinear(in_features=2048, out_features=10, bias=True)\n",
      "  (10): LogSoftmax()\n",
      ")\n"
     ]
    }
   ],
   "source": [
    "runner.init_model()"
   ]
  },
  {
   "cell_type": "code",
   "execution_count": 22,
   "metadata": {},
   "outputs": [
    {
     "data": {
      "application/vnd.jupyter.widget-view+json": {
       "model_id": "dd980c2b40504e65bcad6e2687fd24d7",
       "version_major": 2,
       "version_minor": 0
      },
      "text/plain": [
       "HBox(children=(IntProgress(value=0, max=4), HTML(value='')))"
      ]
     },
     "metadata": {},
     "output_type": "display_data"
    },
    {
     "data": {
      "application/vnd.jupyter.widget-view+json": {
       "model_id": "",
       "version_major": 2,
       "version_minor": 0
      },
      "text/plain": [
       "HBox(children=(IntProgress(value=0, max=469), HTML(value='')))"
      ]
     },
     "metadata": {},
     "output_type": "display_data"
    },
    {
     "name": "stdout",
     "output_type": "stream",
     "text": [
      "  Epochs    train_loss    train_acc      val_loss      val_acc    \n",
      "================================================================\n",
      "    1*        5.5719        0.8552        3.0029        0.9415    \n"
     ]
    },
    {
     "data": {
      "application/vnd.jupyter.widget-view+json": {
       "model_id": "",
       "version_major": 2,
       "version_minor": 0
      },
      "text/plain": [
       "HBox(children=(IntProgress(value=0, max=469), HTML(value='')))"
      ]
     },
     "metadata": {},
     "output_type": "display_data"
    },
    {
     "name": "stdout",
     "output_type": "stream",
     "text": [
      "    2         2.5013        0.9564        0.8964        0.9798    \n"
     ]
    },
    {
     "data": {
      "application/vnd.jupyter.widget-view+json": {
       "model_id": "",
       "version_major": 2,
       "version_minor": 0
      },
      "text/plain": [
       "HBox(children=(IntProgress(value=0, max=469), HTML(value='')))"
      ]
     },
     "metadata": {},
     "output_type": "display_data"
    },
    {
     "name": "stdout",
     "output_type": "stream",
     "text": [
      "    3         2.1064        0.9609        2.3800        0.9567    \n"
     ]
    },
    {
     "data": {
      "application/vnd.jupyter.widget-view+json": {
       "model_id": "",
       "version_major": 2,
       "version_minor": 0
      },
      "text/plain": [
       "HBox(children=(IntProgress(value=0, max=469), HTML(value='')))"
      ]
     },
     "metadata": {},
     "output_type": "display_data"
    },
    {
     "name": "stdout",
     "output_type": "stream",
     "text": [
      "    4         1.9188        0.9667        0.7076        0.9823    \n"
     ]
    }
   ],
   "source": [
    "runner.fit(4, 1e-2, callbacks=[Binarized()])"
   ]
  },
  {
   "cell_type": "code",
   "execution_count": null,
   "metadata": {},
   "outputs": [],
   "source": []
  }
 ],
 "metadata": {
  "kernelspec": {
   "display_name": "Python 3",
   "language": "python",
   "name": "python3"
  },
  "language_info": {
   "codemirror_mode": {
    "name": "ipython",
    "version": 3
   },
   "file_extension": ".py",
   "mimetype": "text/x-python",
   "name": "python",
   "nbconvert_exporter": "python",
   "pygments_lexer": "ipython3",
   "version": "3.6.8"
  }
 },
 "nbformat": 4,
 "nbformat_minor": 2
}
