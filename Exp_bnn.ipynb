{
 "cells": [
  {
   "cell_type": "code",
   "execution_count": 1,
   "metadata": {},
   "outputs": [],
   "source": [
    "%load_ext autoreload\n",
    "%autoreload 2"
   ]
  },
  {
   "cell_type": "code",
   "execution_count": 2,
   "metadata": {},
   "outputs": [],
   "source": [
    "from researchlib.single_import import *"
   ]
  },
  {
   "cell_type": "markdown",
   "metadata": {},
   "source": [
    "# 1. Binary Linear Model"
   ]
  },
  {
   "cell_type": "code",
   "execution_count": 6,
   "metadata": {},
   "outputs": [],
   "source": [
    "model = builder([\n",
    "    layer.Reshape((-1, 784)),\n",
    "    layer.BinarizeLinear(784, 512),\n",
    "    nn.BatchNorm1d(512),\n",
    "    nn.Hardtanh(),\n",
    "    layer.BinarizeLinear(512, 256),\n",
    "    nn.BatchNorm1d(256),\n",
    "    nn.Hardtanh(),\n",
    "    layer.BinarizeLinear(256, 128),\n",
    "    nn.BatchNorm1d(128),\n",
    "    nn.Hardtanh(),\n",
    "    layer.BinarizeLinear(128, 10),\n",
    "    nn.LogSoftmax(-1),\n",
    "])"
   ]
  },
  {
   "cell_type": "code",
   "execution_count": 7,
   "metadata": {},
   "outputs": [],
   "source": [
    "train_loader = VisionDataset(vision.MNIST, batch_size=128, train=True)\n",
    "test_loader = VisionDataset(vision.MNIST, batch_size=128, train=False)"
   ]
  },
  {
   "cell_type": "code",
   "execution_count": 8,
   "metadata": {},
   "outputs": [],
   "source": [
    "runner = Runner(model, train_loader, test_loader, 'adam', 'nll', monitor_state='matrix', monitor_mode='max')"
   ]
  },
  {
   "cell_type": "code",
   "execution_count": 9,
   "metadata": {},
   "outputs": [
    {
     "name": "stdout",
     "output_type": "stream",
     "text": [
      "Init xavier_normal: _BinarizeLinear(in_features=784, out_features=512, bias=True)\n",
      "Init xavier_normal: _BinarizeLinear(in_features=512, out_features=256, bias=True)\n",
      "Init xavier_normal: _BinarizeLinear(in_features=256, out_features=128, bias=True)\n",
      "Init xavier_normal: _BinarizeLinear(in_features=128, out_features=10, bias=True)\n",
      "Init xavier_normal: Sequential(\n",
      "  (0): _Reshape()\n",
      "  (1): _BinarizeLinear(in_features=784, out_features=512, bias=True)\n",
      "  (2): BatchNorm1d(512, eps=1e-05, momentum=0.1, affine=True, track_running_stats=True)\n",
      "  (3): Hardtanh(min_val=-1.0, max_val=1.0)\n",
      "  (4): _BinarizeLinear(in_features=512, out_features=256, bias=True)\n",
      "  (5): BatchNorm1d(256, eps=1e-05, momentum=0.1, affine=True, track_running_stats=True)\n",
      "  (6): Hardtanh(min_val=-1.0, max_val=1.0)\n",
      "  (7): _BinarizeLinear(in_features=256, out_features=128, bias=True)\n",
      "  (8): BatchNorm1d(128, eps=1e-05, momentum=0.1, affine=True, track_running_stats=True)\n",
      "  (9): Hardtanh(min_val=-1.0, max_val=1.0)\n",
      "  (10): _BinarizeLinear(in_features=128, out_features=10, bias=True)\n",
      "  (11): LogSoftmax()\n",
      ")\n",
      "Init xavier_normal: Sequential(\n",
      "  (0): _Reshape()\n",
      "  (1): _BinarizeLinear(in_features=784, out_features=512, bias=True)\n",
      "  (2): BatchNorm1d(512, eps=1e-05, momentum=0.1, affine=True, track_running_stats=True)\n",
      "  (3): Hardtanh(min_val=-1.0, max_val=1.0)\n",
      "  (4): _BinarizeLinear(in_features=512, out_features=256, bias=True)\n",
      "  (5): BatchNorm1d(256, eps=1e-05, momentum=0.1, affine=True, track_running_stats=True)\n",
      "  (6): Hardtanh(min_val=-1.0, max_val=1.0)\n",
      "  (7): _BinarizeLinear(in_features=256, out_features=128, bias=True)\n",
      "  (8): BatchNorm1d(128, eps=1e-05, momentum=0.1, affine=True, track_running_stats=True)\n",
      "  (9): Hardtanh(min_val=-1.0, max_val=1.0)\n",
      "  (10): _BinarizeLinear(in_features=128, out_features=10, bias=True)\n",
      "  (11): LogSoftmax()\n",
      ")\n",
      "Init xavier_normal: Sequential(\n",
      "  (0): _Reshape()\n",
      "  (1): _BinarizeLinear(in_features=784, out_features=512, bias=True)\n",
      "  (2): BatchNorm1d(512, eps=1e-05, momentum=0.1, affine=True, track_running_stats=True)\n",
      "  (3): Hardtanh(min_val=-1.0, max_val=1.0)\n",
      "  (4): _BinarizeLinear(in_features=512, out_features=256, bias=True)\n",
      "  (5): BatchNorm1d(256, eps=1e-05, momentum=0.1, affine=True, track_running_stats=True)\n",
      "  (6): Hardtanh(min_val=-1.0, max_val=1.0)\n",
      "  (7): _BinarizeLinear(in_features=256, out_features=128, bias=True)\n",
      "  (8): BatchNorm1d(128, eps=1e-05, momentum=0.1, affine=True, track_running_stats=True)\n",
      "  (9): Hardtanh(min_val=-1.0, max_val=1.0)\n",
      "  (10): _BinarizeLinear(in_features=128, out_features=10, bias=True)\n",
      "  (11): LogSoftmax()\n",
      ")\n",
      "Init xavier_normal: Sequential(\n",
      "  (0): _Reshape()\n",
      "  (1): _BinarizeLinear(in_features=784, out_features=512, bias=True)\n",
      "  (2): BatchNorm1d(512, eps=1e-05, momentum=0.1, affine=True, track_running_stats=True)\n",
      "  (3): Hardtanh(min_val=-1.0, max_val=1.0)\n",
      "  (4): _BinarizeLinear(in_features=512, out_features=256, bias=True)\n",
      "  (5): BatchNorm1d(256, eps=1e-05, momentum=0.1, affine=True, track_running_stats=True)\n",
      "  (6): Hardtanh(min_val=-1.0, max_val=1.0)\n",
      "  (7): _BinarizeLinear(in_features=256, out_features=128, bias=True)\n",
      "  (8): BatchNorm1d(128, eps=1e-05, momentum=0.1, affine=True, track_running_stats=True)\n",
      "  (9): Hardtanh(min_val=-1.0, max_val=1.0)\n",
      "  (10): _BinarizeLinear(in_features=128, out_features=10, bias=True)\n",
      "  (11): LogSoftmax()\n",
      ")\n"
     ]
    }
   ],
   "source": [
    "runner.init_model()"
   ]
  },
  {
   "cell_type": "code",
   "execution_count": 17,
   "metadata": {},
   "outputs": [
    {
     "data": {
      "application/vnd.jupyter.widget-view+json": {
       "model_id": "d71ee16b3b1741c8b34b468c92d3ba3f",
       "version_major": 2,
       "version_minor": 0
      },
      "text/plain": [
       "HBox(children=(IntProgress(value=0, max=4), HTML(value='')))"
      ]
     },
     "metadata": {},
     "output_type": "display_data"
    },
    {
     "data": {
      "application/vnd.jupyter.widget-view+json": {
       "model_id": "",
       "version_major": 2,
       "version_minor": 0
      },
      "text/plain": [
       "HBox(children=(IntProgress(value=0, max=469), HTML(value='')))"
      ]
     },
     "metadata": {},
     "output_type": "display_data"
    },
    {
     "name": "stdout",
     "output_type": "stream",
     "text": [
      "  Epochs    train_loss    train_acc      val_loss      val_acc    \n",
      "================================================================\n",
      "    1*        6.9555        0.8421        2.8342        0.9312    \n"
     ]
    },
    {
     "data": {
      "application/vnd.jupyter.widget-view+json": {
       "model_id": "",
       "version_major": 2,
       "version_minor": 0
      },
      "text/plain": [
       "HBox(children=(IntProgress(value=0, max=469), HTML(value='')))"
      ]
     },
     "metadata": {},
     "output_type": "display_data"
    },
    {
     "name": "stdout",
     "output_type": "stream",
     "text": [
      "    2*        1.6866        0.9602        0.6558        0.9805    \n"
     ]
    },
    {
     "data": {
      "application/vnd.jupyter.widget-view+json": {
       "model_id": "",
       "version_major": 2,
       "version_minor": 0
      },
      "text/plain": [
       "HBox(children=(IntProgress(value=0, max=469), HTML(value='')))"
      ]
     },
     "metadata": {},
     "output_type": "display_data"
    },
    {
     "name": "stdout",
     "output_type": "stream",
     "text": [
      "    3         1.5880        0.9636        1.5150        0.9642    \n"
     ]
    },
    {
     "data": {
      "application/vnd.jupyter.widget-view+json": {
       "model_id": "",
       "version_major": 2,
       "version_minor": 0
      },
      "text/plain": [
       "HBox(children=(IntProgress(value=0, max=469), HTML(value='')))"
      ]
     },
     "metadata": {},
     "output_type": "display_data"
    },
    {
     "name": "stdout",
     "output_type": "stream",
     "text": [
      "    4         1.4213        0.9694        0.7400        0.9804    \n",
      "\n"
     ]
    }
   ],
   "source": [
    "runner.fit(4, 1e-2, callbacks=[Binarized()])"
   ]
  },
  {
   "cell_type": "code",
   "execution_count": 18,
   "metadata": {},
   "outputs": [
    {
     "name": "stdout",
     "output_type": "stream",
     "text": [
      "0.655822230290763 tensor(0.9805, device='cuda:0')\n"
     ]
    }
   ],
   "source": [
    "runner.load('checkpoint.h5')\n",
    "runner.validate()"
   ]
  },
  {
   "cell_type": "code",
   "execution_count": 19,
   "metadata": {},
   "outputs": [
    {
     "name": "stdout",
     "output_type": "stream",
     "text": [
      "0.655822230290763 tensor(0.9805, device='cuda:0')\n"
     ]
    },
    {
     "data": {
      "image/png": "[encoded data removed]",
      "text/plain": [
       "<Figure size 504x504 with 1 Axes>"
      ]
     },
     "metadata": {
      "needs_background": "light"
     },
     "output_type": "display_data"
    }
   ],
   "source": [
    "runner.validate(metrics=[ConfusionMatrix(classes=10, plot=True)])"
   ]
  },
  {
   "cell_type": "markdown",
   "metadata": {},
   "source": [
    "# 2. Binary Convolution Model"
   ]
  },
  {
   "cell_type": "code",
   "execution_count": 10,
   "metadata": {},
   "outputs": [],
   "source": [
    "model = builder([\n",
    "    layer.BinarizeConv2d(1, 64, 5),\n",
    "    nn.BatchNorm2d(64),\n",
    "    nn.Hardtanh(),\n",
    "    nn.MaxPool2d(2),\n",
    "    layer.BinarizeConv2d(64, 128, 5),\n",
    "    nn.BatchNorm2d(128),\n",
    "    nn.Hardtanh(),\n",
    "    nn.MaxPool2d(2),\n",
    "    layer.Flatten(),\n",
    "    layer.BinarizeLinear(2048, 10),\n",
    "    nn.LogSoftmax(-1)\n",
    "])"
   ]
  },
  {
   "cell_type": "code",
   "execution_count": 11,
   "metadata": {},
   "outputs": [],
   "source": [
    "runner = Runner(model, train_loader, test_loader, 'adam', 'nll', monitor_state='matrix', monitor_mode='max')"
   ]
  },
  {
   "cell_type": "code",
   "execution_count": 12,
   "metadata": {},
   "outputs": [
    {
     "name": "stdout",
     "output_type": "stream",
     "text": [
      "Init xavier_normal: _BinarizeConv2d(1, 64, kernel_size=(5, 5), stride=(1, 1))\n",
      "Init xavier_normal: _BinarizeConv2d(64, 128, kernel_size=(5, 5), stride=(1, 1))\n",
      "Init xavier_normal: _BinarizeLinear(in_features=2048, out_features=10, bias=True)\n",
      "Init xavier_normal: Sequential(\n",
      "  (0): _BinarizeConv2d(1, 64, kernel_size=(5, 5), stride=(1, 1))\n",
      "  (1): BatchNorm2d(64, eps=1e-05, momentum=0.1, affine=True, track_running_stats=True)\n",
      "  (2): Hardtanh(min_val=-1.0, max_val=1.0)\n",
      "  (3): MaxPool2d(kernel_size=2, stride=2, padding=0, dilation=1, ceil_mode=False)\n",
      "  (4): _BinarizeConv2d(64, 128, kernel_size=(5, 5), stride=(1, 1))\n",
      "  (5): BatchNorm2d(128, eps=1e-05, momentum=0.1, affine=True, track_running_stats=True)\n",
      "  (6): Hardtanh(min_val=-1.0, max_val=1.0)\n",
      "  (7): MaxPool2d(kernel_size=2, stride=2, padding=0, dilation=1, ceil_mode=False)\n",
      "  (8): _Flatten()\n",
      "  (9): _BinarizeLinear(in_features=2048, out_features=10, bias=True)\n",
      "  (10): LogSoftmax()\n",
      ")\n",
      "Init xavier_normal: Sequential(\n",
      "  (0): _BinarizeConv2d(1, 64, kernel_size=(5, 5), stride=(1, 1))\n",
      "  (1): BatchNorm2d(64, eps=1e-05, momentum=0.1, affine=True, track_running_stats=True)\n",
      "  (2): Hardtanh(min_val=-1.0, max_val=1.0)\n",
      "  (3): MaxPool2d(kernel_size=2, stride=2, padding=0, dilation=1, ceil_mode=False)\n",
      "  (4): _BinarizeConv2d(64, 128, kernel_size=(5, 5), stride=(1, 1))\n",
      "  (5): BatchNorm2d(128, eps=1e-05, momentum=0.1, affine=True, track_running_stats=True)\n",
      "  (6): Hardtanh(min_val=-1.0, max_val=1.0)\n",
      "  (7): MaxPool2d(kernel_size=2, stride=2, padding=0, dilation=1, ceil_mode=False)\n",
      "  (8): _Flatten()\n",
      "  (9): _BinarizeLinear(in_features=2048, out_features=10, bias=True)\n",
      "  (10): LogSoftmax()\n",
      ")\n",
      "Init xavier_normal: Sequential(\n",
      "  (0): _BinarizeConv2d(1, 64, kernel_size=(5, 5), stride=(1, 1))\n",
      "  (1): BatchNorm2d(64, eps=1e-05, momentum=0.1, affine=True, track_running_stats=True)\n",
      "  (2): Hardtanh(min_val=-1.0, max_val=1.0)\n",
      "  (3): MaxPool2d(kernel_size=2, stride=2, padding=0, dilation=1, ceil_mode=False)\n",
      "  (4): _BinarizeConv2d(64, 128, kernel_size=(5, 5), stride=(1, 1))\n",
      "  (5): BatchNorm2d(128, eps=1e-05, momentum=0.1, affine=True, track_running_stats=True)\n",
      "  (6): Hardtanh(min_val=-1.0, max_val=1.0)\n",
      "  (7): MaxPool2d(kernel_size=2, stride=2, padding=0, dilation=1, ceil_mode=False)\n",
      "  (8): _Flatten()\n",
      "  (9): _BinarizeLinear(in_features=2048, out_features=10, bias=True)\n",
      "  (10): LogSoftmax()\n",
      ")\n"
     ]
    }
   ],
   "source": [
    "runner.init_model()"
   ]
  },
  {
   "cell_type": "code",
   "execution_count": 13,
   "metadata": {},
   "outputs": [
    {
     "data": {
      "application/vnd.jupyter.widget-view+json": {
       "model_id": "ed20152b911d4453b9a3d6632d684089",
       "version_major": 2,
       "version_minor": 0
      },
      "text/plain": [
       "HBox(children=(IntProgress(value=0, max=4), HTML(value='')))"
      ]
     },
     "metadata": {},
     "output_type": "display_data"
    },
    {
     "data": {
      "application/vnd.jupyter.widget-view+json": {
       "model_id": "",
       "version_major": 2,
       "version_minor": 0
      },
      "text/plain": [
       "HBox(children=(IntProgress(value=0, max=469), HTML(value='')))"
      ]
     },
     "metadata": {},
     "output_type": "display_data"
    },
    {
     "name": "stdout",
     "output_type": "stream",
     "text": [
      "  Epochs    train_loss    train_acc      val_loss      val_acc    \n",
      "================================================================\n",
      "    1*        5.5645        0.8662        4.6069        0.9187    \n"
     ]
    },
    {
     "data": {
      "application/vnd.jupyter.widget-view+json": {
       "model_id": "",
       "version_major": 2,
       "version_minor": 0
      },
      "text/plain": [
       "HBox(children=(IntProgress(value=0, max=469), HTML(value='')))"
      ]
     },
     "metadata": {},
     "output_type": "display_data"
    },
    {
     "name": "stdout",
     "output_type": "stream",
     "text": [
      "    2*        2.6269        0.9542        1.1164        0.9764    \n"
     ]
    },
    {
     "data": {
      "application/vnd.jupyter.widget-view+json": {
       "model_id": "",
       "version_major": 2,
       "version_minor": 0
      },
      "text/plain": [
       "HBox(children=(IntProgress(value=0, max=469), HTML(value='')))"
      ]
     },
     "metadata": {},
     "output_type": "display_data"
    },
    {
     "name": "stdout",
     "output_type": "stream",
     "text": [
      "    3         2.0489        0.9606        2.8323        0.9442    \n"
     ]
    },
    {
     "data": {
      "application/vnd.jupyter.widget-view+json": {
       "model_id": "",
       "version_major": 2,
       "version_minor": 0
      },
      "text/plain": [
       "HBox(children=(IntProgress(value=0, max=469), HTML(value='')))"
      ]
     },
     "metadata": {},
     "output_type": "display_data"
    },
    {
     "name": "stdout",
     "output_type": "stream",
     "text": [
      "    4*        1.7426        0.9676        0.8696        0.9805    \n",
      "\n"
     ]
    }
   ],
   "source": [
    "runner.fit(4, 1e-2, callbacks=[Binarized()])"
   ]
  },
  {
   "cell_type": "code",
   "execution_count": 17,
   "metadata": {},
   "outputs": [
    {
     "data": {
      "text/plain": [
       "Parameter containing:\n",
       "tensor([[[[ 1.,  1., -1., -1., -1.],\n",
       "          [ 1.,  1.,  1.,  1., -1.],\n",
       "          [ 1.,  1.,  1.,  1., -1.],\n",
       "          [ 1.,  1.,  1.,  1.,  1.],\n",
       "          [-1., -1.,  1.,  1.,  1.]]],\n",
       "\n",
       "\n",
       "        [[[-1., -1.,  1.,  1., -1.],\n",
       "          [ 1.,  1.,  1., -1., -1.],\n",
       "          [ 1.,  1.,  1., -1., -1.],\n",
       "          [ 1., -1., -1.,  1.,  1.],\n",
       "          [-1., -1., -1.,  1.,  1.]]],\n",
       "\n",
       "\n",
       "        [[[ 1.,  1.,  1.,  1.,  1.],\n",
       "          [ 1.,  1.,  1.,  1.,  1.],\n",
       "          [ 1.,  1.,  1.,  1.,  1.],\n",
       "          [ 1., -1.,  1.,  1.,  1.],\n",
       "          [ 1., -1.,  1.,  1.,  1.]]],\n",
       "\n",
       "\n",
       "        ...,\n",
       "\n",
       "\n",
       "        [[[ 1.,  1.,  1.,  1.,  1.],\n",
       "          [-1., -1., -1., -1.,  1.],\n",
       "          [-1., -1., -1., -1., -1.],\n",
       "          [-1., -1., -1., -1., -1.],\n",
       "          [ 1.,  1.,  1.,  1.,  1.]]],\n",
       "\n",
       "\n",
       "        [[[ 1.,  1.,  1., -1., -1.],\n",
       "          [ 1.,  1., -1., -1., -1.],\n",
       "          [ 1., -1., -1., -1., -1.],\n",
       "          [ 1., -1., -1., -1., -1.],\n",
       "          [ 1.,  1.,  1., -1., -1.]]],\n",
       "\n",
       "\n",
       "        [[[ 1.,  1.,  1.,  1., -1.],\n",
       "          [ 1.,  1.,  1., -1.,  1.],\n",
       "          [ 1., -1.,  1.,  1.,  1.],\n",
       "          [ 1., -1.,  1.,  1.,  1.],\n",
       "          [-1., -1., -1.,  1.,  1.]]]], device='cuda:0', requires_grad=True)"
      ]
     },
     "execution_count": 17,
     "metadata": {},
     "output_type": "execute_result"
    }
   ],
   "source": [
    "model[0].weight"
   ]
  },
  {
   "cell_type": "code",
   "execution_count": 25,
   "metadata": {},
   "outputs": [
    {
     "name": "stdout",
     "output_type": "stream",
     "text": [
      "0.7713894172559811 tensor(0.9834, device='cuda:0')\n"
     ]
    },
    {
     "data": {
      "image/png": "[encoded data removed]",
      "text/plain": [
       "<Figure size 504x504 with 1 Axes>"
      ]
     },
     "metadata": {
      "needs_background": "light"
     },
     "output_type": "display_data"
    }
   ],
   "source": [
    "runner.validate(metrics=[ConfusionMatrix(classes=10, plot=True)])"
   ]
  },
  {
   "cell_type": "code",
   "execution_count": null,
   "metadata": {},
   "outputs": [],
   "source": []
  }
 ],
 "metadata": {
  "kernelspec": {
   "display_name": "Python 3",
   "language": "python",
   "name": "python3"
  },
  "language_info": {
   "codemirror_mode": {
    "name": "ipython",
    "version": 3
   },
   "file_extension": ".py",
   "mimetype": "text/x-python",
   "name": "python",
   "nbconvert_exporter": "python",
   "pygments_lexer": "ipython3",
   "version": "3.6.8"
  }
 },
 "nbformat": 4,
 "nbformat_minor": 2
}
