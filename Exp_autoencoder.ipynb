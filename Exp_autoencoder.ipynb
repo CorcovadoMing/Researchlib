{
 "cells": [
  {
   "cell_type": "code",
   "execution_count": 1,
   "metadata": {},
   "outputs": [],
   "source": [
    "%load_ext autoreload\n",
    "%autoreload 2"
   ]
  },
  {
   "cell_type": "code",
   "execution_count": 2,
   "metadata": {},
   "outputs": [],
   "source": [
    "from researchlib.single_import import *"
   ]
  },
  {
   "cell_type": "code",
   "execution_count": 3,
   "metadata": {},
   "outputs": [],
   "source": [
    "import numpy as np\n",
    "\n",
    "x = np.random.rand(20000, 100)\n",
    "x_test = np.random.rand(20000, 100)\n",
    "train_loader = FromNumpy(x, x, pin_memory=True, batch_size=32)\n",
    "test_loader = FromNumpy(x_test, x_test, pin_memory=True, batch_size=32)"
   ]
  },
  {
   "cell_type": "code",
   "execution_count": 4,
   "metadata": {},
   "outputs": [],
   "source": [
    "encoder = builder([\n",
    "    nn.Linear(100, 64),\n",
    "    nn.ReLU(),\n",
    "    nn.Linear(64, 20),\n",
    "])\n",
    "\n",
    "decoder = builder([\n",
    "    nn.ReLU(),\n",
    "    nn.Linear(20, 64),\n",
    "    nn.ReLU(),\n",
    "    nn.Linear(64, 100)\n",
    "])\n",
    "\n",
    "model = builder([\n",
    "    encoder,\n",
    "    decoder\n",
    "])"
   ]
  },
  {
   "cell_type": "code",
   "execution_count": 5,
   "metadata": {},
   "outputs": [],
   "source": [
    "runner = Runner(model, train_loader, test_loader, 'adam', 'mse')"
   ]
  },
  {
   "cell_type": "code",
   "execution_count": null,
   "metadata": {},
   "outputs": [
    {
     "data": {
      "application/vnd.jupyter.widget-view+json": {
       "model_id": "9add7518ba7540109a35accd5a560c0a",
       "version_major": 2,
       "version_minor": 0
      },
      "text/plain": [
       "HBox(children=(IntProgress(value=0, max=10), HTML(value='')))"
      ]
     },
     "metadata": {},
     "output_type": "display_data"
    },
    {
     "data": {
      "application/vnd.jupyter.widget-view+json": {
       "model_id": "506c0c3ae07846a0af726f7079819769",
       "version_major": 2,
       "version_minor": 0
      },
      "text/plain": [
       "HBox(children=(IntProgress(value=0, max=625), HTML(value='')))"
      ]
     },
     "metadata": {},
     "output_type": "display_data"
    },
    {
     "name": "stdout",
     "output_type": "stream",
     "text": [
      "\n",
      "Test set: Average loss: 0.0026\n"
     ]
    },
    {
     "data": {
      "application/vnd.jupyter.widget-view+json": {
       "model_id": "0ff125267621442e8cbeb0bc313776d7",
       "version_major": 2,
       "version_minor": 0
      },
      "text/plain": [
       "HBox(children=(IntProgress(value=0, max=625), HTML(value='')))"
      ]
     },
     "metadata": {},
     "output_type": "display_data"
    },
    {
     "name": "stdout",
     "output_type": "stream",
     "text": [
      "\n",
      "Test set: Average loss: 0.0026\n"
     ]
    },
    {
     "data": {
      "application/vnd.jupyter.widget-view+json": {
       "model_id": "ed76e4bdb9ed4a678c194a64a24ae609",
       "version_major": 2,
       "version_minor": 0
      },
      "text/plain": [
       "HBox(children=(IntProgress(value=0, max=625), HTML(value='')))"
      ]
     },
     "metadata": {},
     "output_type": "display_data"
    },
    {
     "name": "stdout",
     "output_type": "stream",
     "text": [
      "\n",
      "Test set: Average loss: 0.0026\n"
     ]
    },
    {
     "data": {
      "application/vnd.jupyter.widget-view+json": {
       "model_id": "72a8305647244b1cbbe3575be996a479",
       "version_major": 2,
       "version_minor": 0
      },
      "text/plain": [
       "HBox(children=(IntProgress(value=0, max=625), HTML(value='')))"
      ]
     },
     "metadata": {},
     "output_type": "display_data"
    },
    {
     "name": "stdout",
     "output_type": "stream",
     "text": [
      "\n",
      "Test set: Average loss: 0.0026\n"
     ]
    },
    {
     "data": {
      "application/vnd.jupyter.widget-view+json": {
       "model_id": "c5b5edac70f74cffb3eb7059aa45ffaf",
       "version_major": 2,
       "version_minor": 0
      },
      "text/plain": [
       "HBox(children=(IntProgress(value=0, max=625), HTML(value='')))"
      ]
     },
     "metadata": {},
     "output_type": "display_data"
    }
   ],
   "source": [
    "runner.fit(10, 1e-2)"
   ]
  },
  {
   "cell_type": "code",
   "execution_count": 15,
   "metadata": {},
   "outputs": [
    {
     "name": "stdout",
     "output_type": "stream",
     "text": [
      "tensor([[-7.5162e-17,  1.5261e-01,  1.4696e+00,  ...,  3.7239e-01,\n",
      "          2.5184e-19,  1.2092e+00],\n",
      "        [-7.2883e-17,  1.6680e-01,  1.5024e+00,  ...,  2.4774e-01,\n",
      "          2.4272e-19,  1.2119e+00],\n",
      "        [-7.3209e-17,  6.9486e-02,  1.1779e+00,  ...,  4.7344e-01,\n",
      "          2.3775e-19,  1.0851e+00],\n",
      "        ...,\n",
      "        [-7.0406e-17,  1.8708e-01,  1.5405e+00,  ...,  1.7040e-01,\n",
      "          2.3563e-19,  1.2068e+00],\n",
      "        [-7.6415e-17,  1.2558e-01,  1.3949e+00,  ...,  4.4425e-01,\n",
      "          2.5400e-19,  1.1902e+00],\n",
      "        [-7.7518e-17,  2.0893e-01,  1.7050e+00,  ...,  1.9998e-01,\n",
      "          2.5999e-19,  1.3331e+00]], device='cuda:0', grad_fn=<AddmmBackward>)\n"
     ]
    }
   ],
   "source": [
    "x_test = torch.from_numpy(x).float().cuda()\n",
    "\n",
    "x_result = encoder(x_test)\n",
    "print(x_result)"
   ]
  },
  {
   "cell_type": "code",
   "execution_count": null,
   "metadata": {},
   "outputs": [],
   "source": []
  }
 ],
 "metadata": {
  "kernelspec": {
   "display_name": "Python 3",
   "language": "python",
   "name": "python3"
  },
  "language_info": {
   "codemirror_mode": {
    "name": "ipython",
    "version": 3
   },
   "file_extension": ".py",
   "mimetype": "text/x-python",
   "name": "python",
   "nbconvert_exporter": "python",
   "pygments_lexer": "ipython3",
   "version": "3.6.7"
  }
 },
 "nbformat": 4,
 "nbformat_minor": 2
}
