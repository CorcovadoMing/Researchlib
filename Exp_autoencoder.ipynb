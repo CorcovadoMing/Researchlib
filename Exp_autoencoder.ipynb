{
 "cells": [
  {
   "cell_type": "code",
   "execution_count": 1,
   "metadata": {},
   "outputs": [],
   "source": [
    "%load_ext autoreload\n",
    "%autoreload 2"
   ]
  },
  {
   "cell_type": "code",
   "execution_count": 2,
   "metadata": {},
   "outputs": [],
   "source": [
    "from researchlib.single_import import *"
   ]
  },
  {
   "cell_type": "code",
   "execution_count": 3,
   "metadata": {},
   "outputs": [],
   "source": [
    "import numpy as np\n",
    "\n",
    "x = np.random.rand(20000, 100)\n",
    "x_test = np.random.rand(20000, 100)\n",
    "train_loader = FromNumpy(x, x, pin_memory=True, batch_size=32)\n",
    "test_loader = FromNumpy(x_test, x_test, pin_memory=True, batch_size=32)"
   ]
  },
  {
   "cell_type": "code",
   "execution_count": 4,
   "metadata": {},
   "outputs": [],
   "source": [
    "encoder = builder([\n",
    "    nn.Linear(100, 64),\n",
    "    nn.ReLU(),\n",
    "    nn.Linear(64, 20),\n",
    "])\n",
    "\n",
    "decoder = builder([\n",
    "    nn.ReLU(),\n",
    "    nn.Linear(20, 64),\n",
    "    nn.ReLU(),\n",
    "    nn.Linear(64, 100)\n",
    "])\n",
    "\n",
    "model = builder([\n",
    "    encoder,\n",
    "    decoder\n",
    "])"
   ]
  },
  {
   "cell_type": "code",
   "execution_count": 7,
   "metadata": {},
   "outputs": [],
   "source": [
    "runner = Runner(model, train_loader, test_loader, 'adam', 'mse', monitor_state='loss')"
   ]
  },
  {
   "cell_type": "code",
   "execution_count": 9,
   "metadata": {},
   "outputs": [
    {
     "data": {
      "application/vnd.jupyter.widget-view+json": {
       "model_id": "54ede5f68fc14927975468e2d35a3e15",
       "version_major": 2,
       "version_minor": 0
      },
      "text/plain": [
       "HBox(children=(IntProgress(value=0, max=3), HTML(value='')))"
      ]
     },
     "metadata": {},
     "output_type": "display_data"
    },
    {
     "data": {
      "application/vnd.jupyter.widget-view+json": {
       "model_id": "",
       "version_major": 2,
       "version_minor": 0
      },
      "text/plain": [
       "HBox(children=(IntProgress(value=0, max=625), HTML(value='')))"
      ]
     },
     "metadata": {},
     "output_type": "display_data"
    },
    {
     "name": "stdout",
     "output_type": "stream",
     "text": [
      "  Epochs    train_loss     val_loss   \n",
      "================================================================\n",
      "    1         0.0763        0.0773    \n"
     ]
    },
    {
     "data": {
      "application/vnd.jupyter.widget-view+json": {
       "model_id": "",
       "version_major": 2,
       "version_minor": 0
      },
      "text/plain": [
       "HBox(children=(IntProgress(value=0, max=625), HTML(value='')))"
      ]
     },
     "metadata": {},
     "output_type": "display_data"
    },
    {
     "name": "stdout",
     "output_type": "stream",
     "text": [
      "    2*        0.0764        0.0768    \n"
     ]
    },
    {
     "data": {
      "application/vnd.jupyter.widget-view+json": {
       "model_id": "",
       "version_major": 2,
       "version_minor": 0
      },
      "text/plain": [
       "HBox(children=(IntProgress(value=0, max=625), HTML(value='')))"
      ]
     },
     "metadata": {},
     "output_type": "display_data"
    },
    {
     "name": "stdout",
     "output_type": "stream",
     "text": [
      "    3         0.0763        0.0772    \n"
     ]
    }
   ],
   "source": [
    "runner.fit(3, 1e-2)"
   ]
  },
  {
   "cell_type": "code",
   "execution_count": 10,
   "metadata": {},
   "outputs": [
    {
     "name": "stdout",
     "output_type": "stream",
     "text": [
      "tensor([[ 0.4782, -2.3170,  0.3763,  ...,  0.1950, -0.5447, -0.5501],\n",
      "        [ 0.4701, -2.4429,  0.3078,  ...,  0.4639, -0.3859, -0.8424],\n",
      "        [ 0.4370, -2.8744,  0.3008,  ...,  0.6225, -0.6077, -0.7332],\n",
      "        ...,\n",
      "        [ 0.4802, -2.5471,  0.1709,  ...,  0.3544, -0.3498, -0.8399],\n",
      "        [ 0.5444, -2.4327,  0.3423,  ...,  0.3993, -0.3822, -0.6160],\n",
      "        [ 0.3222, -2.2046,  0.4235,  ...,  0.3098, -0.5520, -0.5791]],\n",
      "       device='cuda:0', grad_fn=<AddmmBackward>)\n"
     ]
    }
   ],
   "source": [
    "x_test = torch.from_numpy(x).float().cuda()\n",
    "\n",
    "x_result = encoder(x_test)\n",
    "print(x_result)"
   ]
  },
  {
   "cell_type": "code",
   "execution_count": null,
   "metadata": {},
   "outputs": [],
   "source": []
  }
 ],
 "metadata": {
  "kernelspec": {
   "display_name": "Python 3",
   "language": "python",
   "name": "python3"
  },
  "language_info": {
   "codemirror_mode": {
    "name": "ipython",
    "version": 3
   },
   "file_extension": ".py",
   "mimetype": "text/x-python",
   "name": "python",
   "nbconvert_exporter": "python",
   "pygments_lexer": "ipython3",
   "version": "3.6.7"
  }
 },
 "nbformat": 4,
 "nbformat_minor": 2
}
